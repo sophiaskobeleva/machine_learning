{
 "cells": [
  {
   "cell_type": "markdown",
   "id": "44ca6977",
   "metadata": {},
   "source": [
    "## Самостоятельная работа "
   ]
  },
  {
   "cell_type": "markdown",
   "id": "3a81d4e1",
   "metadata": {},
   "source": [
    "Мы будем использовать данные, взятые с датчиков акселерометров и гироскопов смартфонов Samsung Galaxy S3. Телефоны носили в кармане добровольцы в возрасте от 19 до 49 лет. Смартфоны постоянно фиксировали значения ускорения и скорости по трём измерениям, а поведение людей записывали на видео, чтобы вручную отметить, какую физическую активность осуществлял человек в тот или иной момент."
   ]
  },
  {
   "cell_type": "markdown",
   "id": "c07b7346",
   "metadata": {},
   "source": [
    "Данные содержат следующие признаки:\n",
    "\n",
    "* различные показатели с акселерометра и гироскопа;\n",
    "* метка активности (физическая активность человека в конкретный момент)."
   ]
  },
  {
   "cell_type": "code",
   "execution_count": 1,
   "id": "c7b1edd0",
   "metadata": {},
   "outputs": [
    {
     "data": {
      "text/plain": [
       "(10299, 561)"
      ]
     },
     "execution_count": 1,
     "metadata": {},
     "output_type": "execute_result"
    }
   ],
   "source": [
    "import numpy as np\n",
    "import pandas as pd\n",
    "\n",
    "X_train = np.loadtxt(\"train.txt\")\n",
    "y_train = np.loadtxt(\"train_labels.txt\")\n",
    " \n",
    "X_test = np.loadtxt(\"test.txt\")\n",
    "y_test = np.loadtxt(\"test_labels.txt\")\n",
    "X = np.concatenate((X_train, X_test))\n",
    "y = np.concatenate((y_train, y_test))\n",
    "X.shape"
   ]
  },
  {
   "cell_type": "markdown",
   "id": "9876ed37",
   "metadata": {},
   "source": [
    "### Задание 1(1 балл)\n",
    "\n",
    "найдите число различных активностей, то есть на сколько кластеров в идеале должны разделиться наблюдения."
   ]
  },
  {
   "cell_type": "code",
   "execution_count": null,
   "id": "3873ed3e",
   "metadata": {},
   "outputs": [],
   "source": []
  },
  {
   "cell_type": "markdown",
   "id": "3714fab9",
   "metadata": {},
   "source": [
    "### Задание 2 (2 балла)"
   ]
  },
  {
   "cell_type": "markdown",
   "id": "e8e4dec9",
   "metadata": {},
   "source": [
    "Далее необходимо отмасштабировать признаки. Будем использовать для этого алгоритм StandardScaler. Примените его ко всем значениям признаков"
   ]
  },
  {
   "cell_type": "code",
   "execution_count": null,
   "id": "cdd11d6e",
   "metadata": {},
   "outputs": [],
   "source": []
  },
  {
   "cell_type": "markdown",
   "id": "21bff872",
   "metadata": {},
   "source": [
    "### Задание 3 (2 балла)"
   ]
  },
  {
   "cell_type": "markdown",
   "id": "c0ecd8e5",
   "metadata": {},
   "source": [
    "Теперь можем приступать к кластеризации. Начнём с самого простого и популярного метода — k-means. Для того чтобы его применить, необходимо узнать число кластеров. Наилучший способ сделать это — применить коэффициент силуэта. Найдите с его помощью оптимальное количество кластеров, перебрав диапазон от 2 до 9 включительно. В этом и следующем заданиях для параметра random_state возьмём значение 42."
   ]
  },
  {
   "cell_type": "code",
   "execution_count": null,
   "id": "70774762",
   "metadata": {},
   "outputs": [],
   "source": []
  },
  {
   "cell_type": "markdown",
   "id": "5c6eccdc",
   "metadata": {},
   "source": [
    "_Возможно, вам покажется удивительным, что получилось сильное расхождение с реальным разделением на кластеры. Однако это совершенно не значит, что метрика показывает неверное значение или что алгоритм кластеризации работает некорректно. Возможно, такое разделение на другое количество кластеров можно объяснить — вы сами увидите это позднее._"
   ]
  },
  {
   "cell_type": "markdown",
   "id": "fb16f044",
   "metadata": {},
   "source": [
    "### Задание 4(2 балла)\n",
    "\n",
    "Теперь реализуем непосредственно кластеризацию k-means с оптимальным количеством кластеров, которое мы определили в предыдущем задании.\n",
    "\n",
    "Сколько значений оказалось в каждой группе?"
   ]
  },
  {
   "cell_type": "code",
   "execution_count": null,
   "id": "676897ca",
   "metadata": {},
   "outputs": [],
   "source": []
  },
  {
   "cell_type": "markdown",
   "id": "5deaa99f",
   "metadata": {},
   "source": [
    "### Задание 5 (2 балла)"
   ]
  },
  {
   "cell_type": "markdown",
   "id": "8f0f76c7",
   "metadata": {},
   "source": [
    "Попробуйте применить DBSCAN. \n",
    "Сколько кластеров было выделено?\n",
    "Переберите несколько параметров eps и min_samples. Как меняется количество кластеров?"
   ]
  },
  {
   "cell_type": "code",
   "execution_count": null,
   "id": "93bac7a2",
   "metadata": {},
   "outputs": [],
   "source": []
  },
  {
   "cell_type": "markdown",
   "id": "ed82d913",
   "metadata": {},
   "source": [
    "### Задание 6 (2 балла)"
   ]
  },
  {
   "cell_type": "markdown",
   "id": "16acf2d0",
   "metadata": {},
   "source": [
    "Как видите, есть ряд активностей, обозначенных цифрами. Эти метки означают следующее:\n",
    "\n",
    "1 — ходьба;\n",
    "2 — подъём;\n",
    "3 — спуск;\n",
    "4 — сидение;\n",
    "5 — стояние;\n",
    "6 — лежание."
   ]
  },
  {
   "cell_type": "markdown",
   "id": "febef6b8",
   "metadata": {},
   "source": [
    "Выясните, к каким кластерам (если выделять оптимальное количество кластеров по коэффициенту Силуэта) были преимущественно отнесены различные активности (т. е. в какой кластер попало большинство наблюдений с этой активностью). Как вы можете проинтерпретировать полученный результат?"
   ]
  },
  {
   "cell_type": "code",
   "execution_count": null,
   "id": "98ac0863",
   "metadata": {},
   "outputs": [],
   "source": [
    "#создаём таблицу сопряжённости\n",
    "ct = pd.crosstab(y, model.labels_)\n",
    "#определяем название активностей\n",
    "ct.index = ['ходьба', 'подъём', \n",
    "            'спуск', 'сидение', 'стояние', 'лежание']\n",
    "ctable.columns = list(range(#здесь нужно определить интервал по количеству выделенных кластеров))"
   ]
  }
 ],
 "metadata": {
  "kernelspec": {
   "display_name": "Python 3 (ipykernel)",
   "language": "python",
   "name": "python3"
  },
  "language_info": {
   "codemirror_mode": {
    "name": "ipython",
    "version": 3
   },
   "file_extension": ".py",
   "mimetype": "text/x-python",
   "name": "python",
   "nbconvert_exporter": "python",
   "pygments_lexer": "ipython3",
   "version": "3.11.5"
  }
 },
 "nbformat": 4,
 "nbformat_minor": 5
}
