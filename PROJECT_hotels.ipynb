{
 "cells": [
  {
   "cell_type": "markdown",
   "id": "9cc86aea",
   "metadata": {
    "id": "9cc86aea"
   },
   "source": [
    "# Изучение рынка гостиничного бизнеса\n",
    "## Работа с регулярными выражениями, обработка данных и визуализация"
   ]
  },
  {
   "cell_type": "markdown",
   "id": "535e1157",
   "metadata": {},
   "source": [
    "## Установим необходимые нам библиотеки"
   ]
  },
  {
   "cell_type": "markdown",
   "id": "2c86750b",
   "metadata": {},
   "source": [
    "* для сбора данных"
   ]
  },
  {
   "cell_type": "markdown",
   "id": "3f358c69",
   "metadata": {},
   "source": [
    "**Библиотека requests** позволяет отправлять HTTP запросы к серверам и получать ответы, а также управлять различными параметрами запроса, например, заголовками, параметрами запроса и телом запроса.  \n",
    "\n",
    "**Библиотека BeautifulSoup** - для парсинга (анализа) HTML-кода. Она нужна для извлечения нужной информации из веб-страниц, таких как заголовки, тексты, ссылки, таблицы. Используя BeautifulSoup, можно извлекать информацию из HTML-кода, преобразовывать его в удобный формат и сохранять в нужном виде. "
   ]
  },
  {
   "cell_type": "code",
   "execution_count": 1,
   "id": "02d1e62f",
   "metadata": {},
   "outputs": [],
   "source": [
    "import requests\n",
    "from bs4 import BeautifulSoup\n",
    "from time import sleep"
   ]
  },
  {
   "cell_type": "markdown",
   "id": "dc4821fe",
   "metadata": {},
   "source": [
    "* для обработки данных"
   ]
  },
  {
   "cell_type": "markdown",
   "id": "4a87235a",
   "metadata": {},
   "source": [
    "**библиотека Pandas** - инструменты для работы с табличными данными. "
   ]
  },
  {
   "cell_type": "code",
   "execution_count": 15,
   "id": "c84a6b8b",
   "metadata": {},
   "outputs": [],
   "source": [
    "import pandas as pd"
   ]
  },
  {
   "cell_type": "markdown",
   "id": "0a43b9ad",
   "metadata": {},
   "source": [
    "* для визуализации"
   ]
  },
  {
   "cell_type": "markdown",
   "id": "91215504",
   "metadata": {},
   "source": [
    "**библиотеки matplotlib** – неинтерактивные графики   \n",
    "**plotly.graph_objects** – интерактивные графики "
   ]
  },
  {
   "cell_type": "code",
   "execution_count": 16,
   "id": "90cd2d56",
   "metadata": {},
   "outputs": [
    {
     "name": "stdout",
     "output_type": "stream",
     "text": [
      "Requirement already satisfied: plotly in ./anaconda3/lib/python3.10/site-packages (5.9.0)\r\n",
      "Requirement already satisfied: tenacity>=6.2.0 in ./anaconda3/lib/python3.10/site-packages (from plotly) (8.0.1)\r\n"
     ]
    }
   ],
   "source": [
    "import seaborn as sns\n",
    "import matplotlib.pyplot as plt\n",
    "\n",
    "!pip install plotly\n",
    "import plotly\n",
    "import plotly.graph_objects as go"
   ]
  },
  {
   "cell_type": "markdown",
   "id": "3277d861",
   "metadata": {},
   "source": [
    "## Сбор данных"
   ]
  },
  {
   "cell_type": "markdown",
   "id": "0ae5979e",
   "metadata": {},
   "source": [
    "Мы используем сайт \"Островок.ру\", где ищем отели в Лондоне на одну ночь в период с 10 по 11 июля на 2 взрослых. Никаких дополнительных характеристик на сайте выставлено не было. Итак, загрузим нашу ссылку в переменную `url`, в переменную `page` сохраним все наши запросы по странице."
   ]
  },
  {
   "cell_type": "code",
   "execution_count": 17,
   "id": "388cfea7",
   "metadata": {},
   "outputs": [],
   "source": [
    "url = 'https://ostrovok.ru/hotel/united_kingdom/london/?q=2114&dates=10.07.2023-11.07.2023&guests=2&center=51.50732x-0.1276474&page=1&price=one&sid=c960e132-f2f3-4486-9631-845864b37595'\n",
    "page = requests.get(url) "
   ]
  },
  {
   "cell_type": "markdown",
   "id": "fe452066",
   "metadata": {},
   "source": [
    "`page = requests.get(url)`  - **HTTP-запрос на URL-адрес**, указанный в переменной url, используя библиотеку requests. page содержит **ответ сервера, который включает в себя HTTP-статус код, заголовки и тело ответа**."
   ]
  },
  {
   "cell_type": "code",
   "execution_count": 18,
   "id": "acb81353",
   "metadata": {},
   "outputs": [],
   "source": [
    "soup = BeautifulSoup (page.text)"
   ]
  },
  {
   "cell_type": "markdown",
   "id": "10916444",
   "metadata": {},
   "source": [
    "используется для **создания объекта BeautifulSoup из текстового содержимого веб-страницы**.soup содержит древовидное представление разметки веб-страницы. В дальнейшем его можно использовать для парсинга и обработки данных веб-страницы."
   ]
  },
  {
   "cell_type": "markdown",
   "id": "e598e2d8",
   "metadata": {},
   "source": [
    "Воспользуемся функцией `find_all`. В будущем мы сделаем это еще не один раз, однако для начала узнаем количество страниц по нашему поиску. "
   ]
  },
  {
   "cell_type": "code",
   "execution_count": 19,
   "id": "db206708",
   "metadata": {},
   "outputs": [
    {
     "data": {
      "text/plain": [
       "<a class=\"zen-pagination-item-value\" href=\"/hotel/united_kingdom/london/?page=531\">\n",
       "                                531\n",
       "                            </a>"
      ]
     },
     "execution_count": 19,
     "metadata": {},
     "output_type": "execute_result"
    }
   ],
   "source": [
    "soup.find_all('a', attrs = {'class': 'zen-pagination-item-value'})[-1]"
   ]
  },
  {
   "cell_type": "markdown",
   "id": "b31ba06c",
   "metadata": {},
   "source": [
    "поиск последнего элемента со ссылкой на страницу веб-страницы. Первый аргумент soup.find_all('a') указывает на то, что нам нужны **теги a**, которые могут содержать ссылки. **Атрибут attrs** - это словарь со значениями атрибутов, которые мы ищем внутри тегов.  \n",
    "тег(а, div), атрибут(class/..)"
   ]
  },
  {
   "cell_type": "code",
   "execution_count": 20,
   "id": "8c3e981d",
   "metadata": {},
   "outputs": [
    {
     "data": {
      "text/plain": [
       "531"
      ]
     },
     "execution_count": 20,
     "metadata": {},
     "output_type": "execute_result"
    }
   ],
   "source": [
    "last = int(soup.find_all('a', attrs = {'class': 'zen-pagination-item-value'})[-1].get('href').split('page=')[1])\n",
    "last"
   ]
  },
  {
   "cell_type": "markdown",
   "id": "18f285bd",
   "metadata": {},
   "source": [
    "Метод get('href') возвращает значение атрибута href у выбранной ссылки. он объединяет эту ссылку со строкой 'https://ostrovok.ru' и сохраняет результат в переменную url0."
   ]
  },
  {
   "cell_type": "markdown",
   "id": "b860c130",
   "metadata": {},
   "source": [
    "Итак, количество страниц равняется 531. Теперь можно написать цикл, который будет ходить по всем существующим страницам и собирать для нас данные."
   ]
  },
  {
   "cell_type": "code",
   "execution_count": 21,
   "id": "760761be",
   "metadata": {},
   "outputs": [],
   "source": [
    "urls = []\n",
    "for i in range(1, last + 1):\n",
    "    urls.append(f'https://ostrovok.ru/hotel/united_kingdom/london/?q=2114&dates=10.07.2023-11.07.2023&guests=2&center=51.50732x-0.1276474&page={1}&price=one&sid=c960e132-f2f3-4486-9631-845864b37595')"
   ]
  },
  {
   "cell_type": "markdown",
   "id": "33bd65ea",
   "metadata": {},
   "source": [
    "Теперь будем использовать переменную `soup0` и `find_all` для поиска нужных нам характеристик: названия отеля, стоимости номера за ночь и любых других, которые могут показаться интересными и информативными."
   ]
  },
  {
   "cell_type": "code",
   "execution_count": 22,
   "id": "c8742fe3",
   "metadata": {},
   "outputs": [],
   "source": [
    "url0 = 'https://ostrovok.ru' + soup.find_all('a', attrs = {'class': 'zen-hotelcard-name-link'})[0].get('href')\n",
    "page0 = requests.get(url0)\n",
    "soup0 = BeautifulSoup(page0.text)"
   ]
  },
  {
   "cell_type": "markdown",
   "id": "84d87f93",
   "metadata": {},
   "source": [
    "Выведем название первого отеля."
   ]
  },
  {
   "cell_type": "code",
   "execution_count": 23,
   "id": "ddc464f9",
   "metadata": {},
   "outputs": [
    {
     "data": {
      "text/plain": [
       "'Отель Apex Temple Court Hotel 4*'"
      ]
     },
     "execution_count": 23,
     "metadata": {},
     "output_type": "execute_result"
    }
   ],
   "source": [
    "title = soup0.find_all('h1')[0].text\n",
    "title"
   ]
  },
  {
   "cell_type": "markdown",
   "id": "92ba7067",
   "metadata": {},
   "source": [
    "В ходе работы были выведены следующие потенциальные перменные: название отеля, адрес, номер телефона, ближайшая достопримечательность, рейтинг по оценкам проживающих, расстояние в метрах до центра, расстояние в метрах до метро и название станции, цена за номер за ночь, наличие кондиционера, завтрака, фитнес-зала, wi-fi, парковки, а также возможность заселиться с домашними животными и разнообразие языков, на которых говорит персонал. Была также выведена некоторая текстовая информация: мы подумали, что потом можно будет искать вхождения в текст по некоторым характеристикам, например \"обмен валют\". "
   ]
  },
  {
   "cell_type": "code",
   "execution_count": 24,
   "id": "9d687c30",
   "metadata": {},
   "outputs": [
    {
     "data": {
      "text/plain": [
       "'tel:+74992156525'"
      ]
     },
     "execution_count": 24,
     "metadata": {},
     "output_type": "execute_result"
    }
   ],
   "source": [
    "tel = soup0.find_all('a', attrs = {'class' : 'zen-headermenu-call'})[0].get('href')\n",
    "tel"
   ]
  },
  {
   "cell_type": "markdown",
   "id": "c3b8f43a",
   "metadata": {},
   "source": [
    "Номер телефона мы все же решили не использовать, так он для нас не несет ценной информации."
   ]
  },
  {
   "cell_type": "code",
   "execution_count": 25,
   "id": "ec5920b7",
   "metadata": {},
   "outputs": [
    {
     "data": {
      "text/plain": [
       "'Тейт Модерн'"
      ]
     },
     "execution_count": 25,
     "metadata": {},
     "output_type": "execute_result"
    }
   ],
   "source": [
    "region= soup0.find_all('a', attrs = {'class' : 'zen-roomspage-navigations-link'})[0].text.strip()\n",
    "regiontel = soup0.find_all('a', attrs = {'class' : 'zen-headermenu-call'})[0].get('href')\n",
    "region"
   ]
  },
  {
   "cell_type": "markdown",
   "id": "bf410de0",
   "metadata": {},
   "source": [
    "Переменная, которую мы изначально назвали `region`, в итоге оказалась названием ближайшей достопримечательности, что и было исправлено в будущем."
   ]
  },
  {
   "cell_type": "markdown",
   "id": "d05f4503",
   "metadata": {},
   "source": [
    "Переменная, которая выводит рейтинг по отзывам посетителей."
   ]
  },
  {
   "cell_type": "code",
   "execution_count": 26,
   "id": "50b0404a",
   "metadata": {},
   "outputs": [
    {
     "data": {
      "text/plain": [
       "'10,00'"
      ]
     },
     "execution_count": 26,
     "metadata": {},
     "output_type": "execute_result"
    }
   ],
   "source": [
    "reviews_rating = soup0.find_all('p', attrs = {'class' : 'zen-roomspage-reviews-rating'})[0].text.strip()[-5:]\n",
    "reviews_rating"
   ]
  },
  {
   "cell_type": "markdown",
   "id": "b3bc392d",
   "metadata": {},
   "source": [
    "Переменная, которая выводит расстояние до центра в метрах."
   ]
  },
  {
   "cell_type": "code",
   "execution_count": 27,
   "id": "c1014c54",
   "metadata": {},
   "outputs": [
    {
     "data": {
      "text/plain": [
       "1494"
      ]
     },
     "execution_count": 27,
     "metadata": {},
     "output_type": "execute_result"
    }
   ],
   "source": [
    "distance_centre = int(soup0.find_all('span', attrs = {'class' : 'zen-roomspage-title-distance-value'})[0].text.strip().replace('м',''))\n",
    "distance_centre"
   ]
  },
  {
   "cell_type": "markdown",
   "id": "1c961aa0",
   "metadata": {},
   "source": [
    "Переменная, которая выводит расстояние до метро в метрах, следующая выводит название станции."
   ]
  },
  {
   "cell_type": "code",
   "execution_count": 28,
   "id": "0e9abee5",
   "metadata": {},
   "outputs": [
    {
     "name": "stdout",
     "output_type": "stream",
     "text": [
      "408\n",
      "метро Блэкфрайарз\n"
     ]
    }
   ],
   "source": [
    "transport_distance = int(soup0.find_all('span', attrs = {'class' : 'zen-roomspage-distance-value'})[0].text.replace('м',''))\n",
    "print(transport_distance) \n",
    "\n",
    "transport_name = soup0.find_all('span', attrs = {'class' : 'zen-roomspage-distance-metro'})[0].text\n",
    "print(transport_name)"
   ]
  },
  {
   "cell_type": "markdown",
   "id": "5ae5a410",
   "metadata": {},
   "source": [
    "Переменная, которая выводит цену за ночевку."
   ]
  },
  {
   "cell_type": "code",
   "execution_count": 29,
   "id": "07b10c39",
   "metadata": {},
   "outputs": [
    {
     "data": {
      "text/plain": [
       "31881"
      ]
     },
     "execution_count": 29,
     "metadata": {},
     "output_type": "execute_result"
    }
   ],
   "source": [
    "price = int(soup0.find_all('span', attrs = {'class' : 'zen-roomspage-calltoaction-roomtypes-price-value bold'})[0].text.replace('руб.', ''))\n",
    "price"
   ]
  },
  {
   "cell_type": "markdown",
   "id": "641615d2",
   "metadata": {},
   "source": [
    "Переменная, которая выводит наличие кондиционера."
   ]
  },
  {
   "cell_type": "code",
   "execution_count": 30,
   "id": "f270122c",
   "metadata": {},
   "outputs": [
    {
     "data": {
      "text/plain": [
       "'Кондиционер'"
      ]
     },
     "execution_count": 30,
     "metadata": {},
     "output_type": "execute_result"
    }
   ],
   "source": [
    "condey = soup0.find_all('p', attrs = {'class' : 'zen-roomspage-amenities-amenity-has_common_info'})[0].text\n",
    "condey"
   ]
  },
  {
   "cell_type": "markdown",
   "id": "ad980b24",
   "metadata": {},
   "source": [
    "Переменная, которая выводит информацию о питании."
   ]
  },
  {
   "cell_type": "code",
   "execution_count": 31,
   "id": "d691343e",
   "metadata": {},
   "outputs": [
    {
     "data": {
      "text/plain": [
       "'Бар, Бесплатный чай/кофе, Завтрак, Завтрак в номер, Кафе, Ресторан, Кухня, Микроволновая печь, Кофемашина, Бутилированная вода (за дополнительную плату)'"
      ]
     },
     "execution_count": 31,
     "metadata": {},
     "output_type": "execute_result"
    }
   ],
   "source": [
    "breakfest = soup0.find_all('div', attrs = {'class' : 'zen-roomspage-detailed-amenities-list-item-text'})[11].text.strip().replace('  ','').replace('\\n\\n','')\n",
    "breakfest"
   ]
  },
  {
   "cell_type": "markdown",
   "id": "017c1449",
   "metadata": {},
   "source": [
    "Переменная, которая выводит информацию о наличии фитнес-центра."
   ]
  },
  {
   "cell_type": "code",
   "execution_count": 32,
   "id": "7bf2eb06",
   "metadata": {},
   "outputs": [
    {
     "data": {
      "text/plain": [
       "'Фитнес-центр'"
      ]
     },
     "execution_count": 32,
     "metadata": {},
     "output_type": "execute_result"
    }
   ],
   "source": [
    "fitness = soup0.find_all('p', attrs = {'class' : 'zen-roomspage-amenities-amenity-has_fitness'})[0].text\n",
    "fitness "
   ]
  },
  {
   "cell_type": "markdown",
   "id": "c0b23b41",
   "metadata": {},
   "source": [
    "Переменная, которая выводит информацию о наличии бесплатного wi-fi."
   ]
  },
  {
   "cell_type": "code",
   "execution_count": 33,
   "id": "4a47f02d",
   "metadata": {},
   "outputs": [
    {
     "data": {
      "text/plain": [
       "'Бесплатный Wi-Fi'"
      ]
     },
     "execution_count": 33,
     "metadata": {},
     "output_type": "execute_result"
    }
   ],
   "source": [
    "wifi = soup0.find_all('p', attrs = {'class' : 'zen-roomspage-amenities-amenity-has_internet'})[0].text\n",
    "wifi "
   ]
  },
  {
   "cell_type": "markdown",
   "id": "a2f59d2f",
   "metadata": {},
   "source": [
    "Переменная, которая выводит информацию о языках, которыми владеет персонал."
   ]
  },
  {
   "cell_type": "code",
   "execution_count": 34,
   "id": "3b265b0b",
   "metadata": {},
   "outputs": [
    {
     "data": {
      "text/plain": [
       "'на испанском, на немецком, на русском, на английском, на итальянском, на французском, на корейском, Мультиязычный персонал, на польском'"
      ]
     },
     "execution_count": 34,
     "metadata": {},
     "output_type": "execute_result"
    }
   ],
   "source": [
    "service_languages = soup0.find_all('div', attrs = {'class' : 'zen-roomspage-detailed-amenities-list-item-text'})[10].text.strip().replace('  ','').replace('\\n\\n','')\n",
    "service_languages"
   ]
  },
  {
   "cell_type": "markdown",
   "id": "69e11c83",
   "metadata": {},
   "source": [
    "Переменная, которая выводит информацию о наличии парковки."
   ]
  },
  {
   "cell_type": "code",
   "execution_count": 35,
   "id": "8c9ef971",
   "metadata": {},
   "outputs": [
    {
     "data": {
      "text/plain": [
       "'Парковка'"
      ]
     },
     "execution_count": 35,
     "metadata": {},
     "output_type": "execute_result"
    }
   ],
   "source": [
    "parking = soup0.find_all('p', attrs = {'class' : 'zen-roomspage-amenities-amenity-has_parking'})[0].text\n",
    "parking"
   ]
  },
  {
   "cell_type": "markdown",
   "id": "263082a5",
   "metadata": {},
   "source": [
    "Переменная, которая выводит информацию о возможности переночевать с питомцами."
   ]
  },
  {
   "cell_type": "code",
   "execution_count": 36,
   "id": "066fca69",
   "metadata": {},
   "outputs": [
    {
     "data": {
      "text/plain": [
       "'Размещение с домашними животными не допускается'"
      ]
     },
     "execution_count": 36,
     "metadata": {},
     "output_type": "execute_result"
    }
   ],
   "source": [
    "pets = soup0.find_all('p', attrs = {'class' : 'zen-roomspage-amenities-amenity-has_pets'})[0].text\n",
    "pets"
   ]
  },
  {
   "cell_type": "markdown",
   "id": "4f74034f",
   "metadata": {},
   "source": [
    "Переменная, которая выводит адрес отеля."
   ]
  },
  {
   "cell_type": "code",
   "execution_count": 37,
   "id": "5fa70b5c",
   "metadata": {},
   "outputs": [
    {
     "data": {
      "text/plain": [
       "'1-2 Serjeants Inn Fleet Street, Лондон'"
      ]
     },
     "execution_count": 37,
     "metadata": {},
     "output_type": "execute_result"
    }
   ],
   "source": [
    "address = soup0.find_all('div', attrs = {'class' : 'zen-roomspage-address'})[0].text\n",
    "address"
   ]
  },
  {
   "cell_type": "markdown",
   "id": "b60f3605",
   "metadata": {},
   "source": [
    "Переменная, которая выводит общую информацию об отеле."
   ]
  },
  {
   "cell_type": "code",
   "execution_count": 38,
   "id": "cf5fb2f6",
   "metadata": {},
   "outputs": [
    {
     "data": {
      "text/plain": [
       "'В качестве развлечений гостям предлагается посещение фитнес-клуба, где есть тренажеры на все группы мышц. Любознательным гостям рекомендуется заглянуть в экскурсионное бюро, где можно узнать о самых интересных прогулках по городу. Персонал отеля владеет несколькими иностранными языками и с удовольствием ответит на все ваши вопросы. Также к вашим услугам предлагается пункт обмена валюты и сервис по бронированию билетов.'"
      ]
     },
     "execution_count": 38,
     "metadata": {},
     "output_type": "execute_result"
    }
   ],
   "source": [
    "hotel_describe = soup0.find_all('p', attrs = {'class' : 'zen-roomspage-about-item-text'})[1].text\n",
    "hotel_describe # здесь тоже можно будет искать \"вхождения в текст\""
   ]
  },
  {
   "cell_type": "markdown",
   "id": "e450c182",
   "metadata": {},
   "source": [
    "Переменная, которая выводит общую информацию об удобствах в отеле."
   ]
  },
  {
   "cell_type": "code",
   "execution_count": 39,
   "id": "3131d33f",
   "metadata": {},
   "outputs": [
    {
     "data": {
      "text/plain": [
       "'Массаж, Сауна, Спа-центрКондиционер, Отель для некурящих, Отопление, Охрана, Пресса, Продажа билетов, Ускоренная регистрация заезда и выезда, Экскурсионное бюро, Терраса, Курение запрещено на всей территории, Радио, Мебель на улице, Стойка регистрации'"
      ]
     },
     "execution_count": 39,
     "metadata": {},
     "output_type": "execute_result"
    }
   ],
   "source": [
    "convinients = soup0.find_all('div', attrs={'class': 'zen-roomspage-detailed-amenities-list-item-text'})[0].text.strip().replace('  ', '').replace('\\n\\n', '')\\\n",
    "              + soup0.find_all('div', attrs={'class': 'zen-roomspage-detailed-amenities-list-item-text'})[2].text.strip().replace('  ', '').replace('\\n\\n', '')\n",
    "convinients"
   ]
  },
  {
   "cell_type": "markdown",
   "id": "891a7da7",
   "metadata": {},
   "source": [
    "Теперь нам предстоит написать функцию, которая будет учитывать все необходимые нам показатели. Более того, теперь нужно учитывать тот факт, что информации по каждому отелю может и не быть. Поэтому, мы отдельной веткой прописываем и такой вариант, в таком случае предлагаем программе заменить отсутствие информации на \"Na\". Кроме того, на этом этапе нам также пришлось отказаться от некоторых переменных, в основном это касалось тех, у кого индекс по поиску текста не был [0]: например, `breakfest`, где индекс равен [11], или `hotel_describe`, где индекс равен [1], или `service_languages`, где индекс равен [10]."
   ]
  },
  {
   "cell_type": "code",
   "execution_count": 40,
   "id": "df6d5a1d",
   "metadata": {},
   "outputs": [],
   "source": [
    "def get_book_info(url0):\n",
    "    page0 = requests.get(url0)\n",
    "    soup0 = BeautifulSoup(page0.text)\n",
    "    title = soup0.find_all('h1')[0].text\n",
    "    address = soup0.find_all('div', attrs = {'class' : 'zen-roomspage-address'})[0].text\n",
    "    region_text = soup0.find_all('a', attrs = {'class' : 'zen-roomspage-navigations-link'})[0].text.strip()\n",
    "    if region_text == '':\n",
    "        region = 'Na'\n",
    "    else:\n",
    "        region = region_text\n",
    "    \n",
    "    if soup0.find('p', attrs = {'class': 'zen-roomspage-reviews-rating'}):\n",
    "        reviews_rating = float(soup0.find_all('p', attrs = {'class' : 'zen-roomspage-reviews-rating'})[0].text[-6:].strip().replace(',','.'))\n",
    "    else:\n",
    "        reviews_rating = 'Na'\n",
    "    \n",
    "    distance_centre = int(soup0.find_all('span', attrs = {'class' : 'zen-roomspage-title-distance-value'})[0].text.strip().replace('м',''))\n",
    "    \n",
    "    if soup0.find('span', attrs = {'class' : 'zen-roomspage-distance-value'}):\n",
    "        transport_distance = int(soup0.find_all('span', attrs = {'class' : 'zen-roomspage-distance-value'})[0].text.replace('м',''))\n",
    "    else:\n",
    "        transport_distance = 'Na'\n",
    "        \n",
    "    if soup0.find('span', attrs = {'class' : 'zen-roomspage-distance-metro'}):\n",
    "        transport_name = soup0.find_all('span', attrs = {'class' : 'zen-roomspage-distance-metro'})[0].text\n",
    "    else:\n",
    "        transport_name = 'Na'\n",
    "        \n",
    "    price = int(soup0.find_all('span', attrs = {'class' : 'zen-roomspage-calltoaction-roomtypes-price-value bold'})[0].text.replace('руб.', ''))\n",
    "    \n",
    "    condey = 0\n",
    "    if soup0.find('p', attrs = {'class' : 'zen-roomspage-amenities-amenity-has_common_info'}):\n",
    "        condey_text = soup0.find_all('p', attrs = {'class' : 'zen-roomspage-amenities-amenity-has_common_info'})[0].text\n",
    "        if condey_text == 'Кондиционер':\n",
    "            condey = 1\n",
    "    \n",
    "    fitness = 0\n",
    "    if soup0.find('p', attrs = {'class' : 'zen-roomspage-amenities-amenity-has_fitness'}):\n",
    "        fitness_text = soup0.find_all('p', attrs = {'class' : 'zen-roomspage-amenities-amenity-has_fitness'})[0].text\n",
    "        if fitness_text == 'Фитнес-центр':\n",
    "            fitness = 1\n",
    "    wifi = 0    \n",
    "    if soup0.find('p', attrs = {'class' : 'zen-roomspage-amenities-amenity-has_internet'}):\n",
    "        free_wifi = soup0.find_all('p', attrs = {'class' : 'zen-roomspage-amenities-amenity-has_internet'})[0].text\n",
    "        if free_wifi == 'Бесплатный Wi-Fi':\n",
    "            wifi = 1\n",
    "    \n",
    "    parking = 0\n",
    "    if soup0.find('p', attrs = {'class' : 'zen-roomspage-amenities-amenity-has_parking'}):\n",
    "        parking_text = soup0.find_all('p', attrs = {'class' : 'zen-roomspage-amenities-amenity-has_parking'})[0].text\n",
    "        if parking_text == 'Парковка':\n",
    "            parking = 1\n",
    "    \n",
    "    pets = 1\n",
    "    if soup0.find('p', attrs = {'class' : 'zen-roomspage-amenities-amenity-has_pets'}):\n",
    "        pets_text = soup0.find_all('p', attrs = {'class' : 'zen-roomspage-amenities-amenity-has_pets'})[0].text\n",
    "        if pets_text == 'Размещение с домашними животными не допускается':\n",
    "            pets = 0                        \n",
    "           \n",
    "    if soup0.find('div', attrs = {'class' : 'zen-roomspage-detailed-amenities-list-item-text'}):\n",
    "        convinients = soup0.find_all('div', attrs={'class': 'zen-roomspage-detailed-amenities-list-item-text'})[0].text.strip().replace('  ', '').replace('\\n\\n', '')\\\n",
    "        + ',' + ' ' + soup0.find_all(\"div\", attrs={'class': 'zen-roomspage-detailed-amenities-list-item-text'})[2].text.strip().replace('  ', '').replace('\\n\\n', '')\n",
    "    else:\n",
    "        convinients = 'Na'\n",
    "    \n",
    "    return url0, title, address, region, distance_centre, transport_distance, transport_name, reviews_rating, price, condey, fitness, wifi, parking, pets, convinients"
   ]
  },
  {
   "cell_type": "markdown",
   "id": "640869be",
   "metadata": {},
   "source": [
    "Подгрузим все ссылки в список `books_urls`."
   ]
  },
  {
   "cell_type": "code",
   "execution_count": 41,
   "id": "5e4ec05d",
   "metadata": {},
   "outputs": [],
   "source": [
    "books_urls = []\n",
    "\n",
    "for book in soup.find_all('a', attrs = {'class': 'zen-hotelcard-name-link'}):\n",
    "    books_urls.append('https://ostrovok.ru' + book.get('href')) "
   ]
  },
  {
   "cell_type": "markdown",
   "id": "f421867d",
   "metadata": {},
   "source": [
    "Для каждого найденного элемента добавляем в список books_urls строку, которая состоит из 'https://ostrovok.ru' (базовой части URL-адреса) и значения атрибута href текущего элемента. В итоге список books_urls будет содержать ссылки на страницы отелей."
   ]
  },
  {
   "cell_type": "markdown",
   "id": "491dfaa9",
   "metadata": {},
   "source": [
    "Теперь напишем цикл, который, используя нашу функцию, будет собирать по каждому отелю все заказанные данные. Выставим паузу в 2 секунды, чтобы сайт нас не заблокировал :)"
   ]
  },
  {
   "cell_type": "markdown",
   "id": "e99b1a19",
   "metadata": {},
   "source": [
    "page = requests.get(url)  - **HTTP-запрос на URL-адрес**, указанный в переменной url, используя библиотеку requests. page содержит **ответ сервера, который включает в себя HTTP-статус код, заголовки и тело ответа**."
   ]
  },
  {
   "cell_type": "code",
   "execution_count": 42,
   "id": "c3e74e64",
   "metadata": {},
   "outputs": [
    {
     "name": "stdout",
     "output_type": "stream",
     "text": [
      "https://ostrovok.ru/hotel/united_kingdom/london/mid7749066/apex_temple_court_hotel_2/\n",
      "https://ostrovok.ru/hotel/united_kingdom/london/mid9987998/broadway_inn_2/\n",
      "https://ostrovok.ru/hotel/united_kingdom/london/mid7587839/chelsea_cloisters/\n",
      "https://ostrovok.ru/hotel/united_kingdom/london/mid7527315/duke_of_leinster_hotel/\n",
      "https://ostrovok.ru/hotel/united_kingdom/london/mid7595166/flemings_mayfair/\n",
      "https://ostrovok.ru/hotel/united_kingdom/london/mid7708296/four_seasons_hotel_london_at_park_lane/\n",
      "https://ostrovok.ru/hotel/united_kingdom/london/mid7593512/grange_rochester/\n",
      "https://ostrovok.ru/hotel/united_kingdom/london/mid7593380/grange_white_hall_hotel/\n",
      "https://ostrovok.ru/hotel/united_kingdom/london/mid7374676/holiday_inn_londonkings_cross_bloomsbury/\n",
      "https://ostrovok.ru/hotel/united_kingdom/london/mid7505140/hotel_65/\n",
      "https://ostrovok.ru/hotel/united_kingdom/london/mid8736718/hotel_indigo_london_1_leicester_square/\n",
      "https://ostrovok.ru/hotel/united_kingdom/london/mid7819948/london_eye_hostel/\n",
      "https://ostrovok.ru/hotel/united_kingdom/london/mid7535955/my_place_hotel/\n",
      "https://ostrovok.ru/hotel/united_kingdom/london/mid6683239/olympic_house_hotel/\n",
      "https://ostrovok.ru/hotel/united_kingdom/london/mid7599528/premier_inn_london_edgware/\n",
      "https://ostrovok.ru/hotel/united_kingdom/london/mid8495768/president_hotel_6/\n",
      "https://ostrovok.ru/hotel/united_kingdom/london/mid7459693/rafayel_on_the_left_bank/\n",
      "https://ostrovok.ru/hotel/united_kingdom/london/mid7514146/st_james_court_a_taj_hotel_london_3/\n",
      "https://ostrovok.ru/hotel/united_kingdom/london/mid8562236/tavistock/\n",
      "https://ostrovok.ru/hotel/united_kingdom/london/mid7512011/the_britannia_international_hotel_london/\n",
      "https://ostrovok.ru/hotel/united_kingdom/london/mid7051915/the_lion_key_hotel/\n",
      "https://ostrovok.ru/hotel/united_kingdom/london/mid7467518/the_park_grand_london_paddington/\n",
      "https://ostrovok.ru/hotel/united_kingdom/london/mid7586719/tophams_hotel/\n",
      "https://ostrovok.ru/hotel/united_kingdom/london/mid7527651/wedgewood_hotel/\n",
      "https://ostrovok.ru/hotel/united_kingdom/london/mid6484731/wombats_city_hostel_london/\n",
      "https://ostrovok.ru/hotel/united_kingdom/london/mid7749066/apex_temple_court_hotel_2/\n",
      "https://ostrovok.ru/hotel/united_kingdom/london/mid9987998/broadway_inn_2/\n",
      "https://ostrovok.ru/hotel/united_kingdom/london/mid7587839/chelsea_cloisters/\n",
      "https://ostrovok.ru/hotel/united_kingdom/london/mid7527315/duke_of_leinster_hotel/\n",
      "https://ostrovok.ru/hotel/united_kingdom/london/mid7595166/flemings_mayfair/\n",
      "https://ostrovok.ru/hotel/united_kingdom/london/mid7708296/four_seasons_hotel_london_at_park_lane/\n",
      "https://ostrovok.ru/hotel/united_kingdom/london/mid7593512/grange_rochester/\n",
      "https://ostrovok.ru/hotel/united_kingdom/london/mid7593380/grange_white_hall_hotel/\n",
      "https://ostrovok.ru/hotel/united_kingdom/london/mid7374676/holiday_inn_londonkings_cross_bloomsbury/\n",
      "https://ostrovok.ru/hotel/united_kingdom/london/mid7505140/hotel_65/\n",
      "https://ostrovok.ru/hotel/united_kingdom/london/mid8736718/hotel_indigo_london_1_leicester_square/\n",
      "https://ostrovok.ru/hotel/united_kingdom/london/mid7819948/london_eye_hostel/\n",
      "https://ostrovok.ru/hotel/united_kingdom/london/mid7535955/my_place_hotel/\n",
      "https://ostrovok.ru/hotel/united_kingdom/london/mid6683239/olympic_house_hotel/\n",
      "https://ostrovok.ru/hotel/united_kingdom/london/mid7599528/premier_inn_london_edgware/\n",
      "https://ostrovok.ru/hotel/united_kingdom/london/mid8495768/president_hotel_6/\n",
      "https://ostrovok.ru/hotel/united_kingdom/london/mid7459693/rafayel_on_the_left_bank/\n",
      "https://ostrovok.ru/hotel/united_kingdom/london/mid7514146/st_james_court_a_taj_hotel_london_3/\n",
      "https://ostrovok.ru/hotel/united_kingdom/london/mid8562236/tavistock/\n",
      "https://ostrovok.ru/hotel/united_kingdom/london/mid7512011/the_britannia_international_hotel_london/\n",
      "https://ostrovok.ru/hotel/united_kingdom/london/mid7051915/the_lion_key_hotel/\n",
      "https://ostrovok.ru/hotel/united_kingdom/london/mid7467518/the_park_grand_london_paddington/\n",
      "https://ostrovok.ru/hotel/united_kingdom/london/mid7586719/tophams_hotel/\n",
      "https://ostrovok.ru/hotel/united_kingdom/london/mid7527651/wedgewood_hotel/\n",
      "https://ostrovok.ru/hotel/united_kingdom/london/mid6484731/wombats_city_hostel_london/\n",
      "https://ostrovok.ru/hotel/united_kingdom/london/mid7749066/apex_temple_court_hotel_2/\n",
      "https://ostrovok.ru/hotel/united_kingdom/london/mid9987998/broadway_inn_2/\n",
      "https://ostrovok.ru/hotel/united_kingdom/london/mid7587839/chelsea_cloisters/\n",
      "https://ostrovok.ru/hotel/united_kingdom/london/mid7527315/duke_of_leinster_hotel/\n",
      "https://ostrovok.ru/hotel/united_kingdom/london/mid7595166/flemings_mayfair/\n",
      "https://ostrovok.ru/hotel/united_kingdom/london/mid7708296/four_seasons_hotel_london_at_park_lane/\n",
      "https://ostrovok.ru/hotel/united_kingdom/london/mid7593512/grange_rochester/\n",
      "https://ostrovok.ru/hotel/united_kingdom/london/mid7593380/grange_white_hall_hotel/\n",
      "https://ostrovok.ru/hotel/united_kingdom/london/mid7374676/holiday_inn_londonkings_cross_bloomsbury/\n",
      "https://ostrovok.ru/hotel/united_kingdom/london/mid7505140/hotel_65/\n",
      "https://ostrovok.ru/hotel/united_kingdom/london/mid8736718/hotel_indigo_london_1_leicester_square/\n",
      "https://ostrovok.ru/hotel/united_kingdom/london/mid7819948/london_eye_hostel/\n",
      "https://ostrovok.ru/hotel/united_kingdom/london/mid7535955/my_place_hotel/\n",
      "https://ostrovok.ru/hotel/united_kingdom/london/mid6683239/olympic_house_hotel/\n",
      "https://ostrovok.ru/hotel/united_kingdom/london/mid7599528/premier_inn_london_edgware/\n",
      "https://ostrovok.ru/hotel/united_kingdom/london/mid8495768/president_hotel_6/\n",
      "https://ostrovok.ru/hotel/united_kingdom/london/mid7459693/rafayel_on_the_left_bank/\n",
      "https://ostrovok.ru/hotel/united_kingdom/london/mid7514146/st_james_court_a_taj_hotel_london_3/\n",
      "https://ostrovok.ru/hotel/united_kingdom/london/mid8562236/tavistock/\n",
      "https://ostrovok.ru/hotel/united_kingdom/london/mid7512011/the_britannia_international_hotel_london/\n",
      "https://ostrovok.ru/hotel/united_kingdom/london/mid7051915/the_lion_key_hotel/\n",
      "https://ostrovok.ru/hotel/united_kingdom/london/mid7467518/the_park_grand_london_paddington/\n",
      "https://ostrovok.ru/hotel/united_kingdom/london/mid7586719/tophams_hotel/\n",
      "https://ostrovok.ru/hotel/united_kingdom/london/mid7527651/wedgewood_hotel/\n",
      "https://ostrovok.ru/hotel/united_kingdom/london/mid6484731/wombats_city_hostel_london/\n",
      "https://ostrovok.ru/hotel/united_kingdom/london/mid7749066/apex_temple_court_hotel_2/\n",
      "https://ostrovok.ru/hotel/united_kingdom/london/mid9987998/broadway_inn_2/\n",
      "https://ostrovok.ru/hotel/united_kingdom/london/mid7587839/chelsea_cloisters/\n",
      "https://ostrovok.ru/hotel/united_kingdom/london/mid7527315/duke_of_leinster_hotel/\n",
      "https://ostrovok.ru/hotel/united_kingdom/london/mid7595166/flemings_mayfair/\n",
      "https://ostrovok.ru/hotel/united_kingdom/london/mid7708296/four_seasons_hotel_london_at_park_lane/\n",
      "https://ostrovok.ru/hotel/united_kingdom/london/mid7593512/grange_rochester/\n",
      "https://ostrovok.ru/hotel/united_kingdom/london/mid7593380/grange_white_hall_hotel/\n",
      "https://ostrovok.ru/hotel/united_kingdom/london/mid7374676/holiday_inn_londonkings_cross_bloomsbury/\n",
      "https://ostrovok.ru/hotel/united_kingdom/london/mid7505140/hotel_65/\n",
      "https://ostrovok.ru/hotel/united_kingdom/london/mid8736718/hotel_indigo_london_1_leicester_square/\n",
      "https://ostrovok.ru/hotel/united_kingdom/london/mid7819948/london_eye_hostel/\n",
      "https://ostrovok.ru/hotel/united_kingdom/london/mid7535955/my_place_hotel/\n",
      "https://ostrovok.ru/hotel/united_kingdom/london/mid6683239/olympic_house_hotel/\n",
      "https://ostrovok.ru/hotel/united_kingdom/london/mid7599528/premier_inn_london_edgware/\n",
      "https://ostrovok.ru/hotel/united_kingdom/london/mid8495768/president_hotel_6/\n",
      "https://ostrovok.ru/hotel/united_kingdom/london/mid7459693/rafayel_on_the_left_bank/\n",
      "https://ostrovok.ru/hotel/united_kingdom/london/mid7514146/st_james_court_a_taj_hotel_london_3/\n",
      "https://ostrovok.ru/hotel/united_kingdom/london/mid8562236/tavistock/\n",
      "https://ostrovok.ru/hotel/united_kingdom/london/mid7512011/the_britannia_international_hotel_london/\n",
      "https://ostrovok.ru/hotel/united_kingdom/london/mid7051915/the_lion_key_hotel/\n",
      "https://ostrovok.ru/hotel/united_kingdom/london/mid7467518/the_park_grand_london_paddington/\n",
      "https://ostrovok.ru/hotel/united_kingdom/london/mid7586719/tophams_hotel/\n",
      "https://ostrovok.ru/hotel/united_kingdom/london/mid7527651/wedgewood_hotel/\n",
      "https://ostrovok.ru/hotel/united_kingdom/london/mid6484731/wombats_city_hostel_london/\n",
      "https://ostrovok.ru/hotel/united_kingdom/london/mid7749066/apex_temple_court_hotel_2/\n",
      "https://ostrovok.ru/hotel/united_kingdom/london/mid9987998/broadway_inn_2/\n",
      "https://ostrovok.ru/hotel/united_kingdom/london/mid7587839/chelsea_cloisters/\n",
      "https://ostrovok.ru/hotel/united_kingdom/london/mid7527315/duke_of_leinster_hotel/\n",
      "https://ostrovok.ru/hotel/united_kingdom/london/mid7595166/flemings_mayfair/\n",
      "https://ostrovok.ru/hotel/united_kingdom/london/mid7708296/four_seasons_hotel_london_at_park_lane/\n",
      "https://ostrovok.ru/hotel/united_kingdom/london/mid7593512/grange_rochester/\n",
      "https://ostrovok.ru/hotel/united_kingdom/london/mid7593380/grange_white_hall_hotel/\n",
      "https://ostrovok.ru/hotel/united_kingdom/london/mid7374676/holiday_inn_londonkings_cross_bloomsbury/\n",
      "https://ostrovok.ru/hotel/united_kingdom/london/mid7505140/hotel_65/\n",
      "https://ostrovok.ru/hotel/united_kingdom/london/mid8736718/hotel_indigo_london_1_leicester_square/\n",
      "https://ostrovok.ru/hotel/united_kingdom/london/mid7819948/london_eye_hostel/\n",
      "https://ostrovok.ru/hotel/united_kingdom/london/mid7535955/my_place_hotel/\n",
      "https://ostrovok.ru/hotel/united_kingdom/london/mid6683239/olympic_house_hotel/\n",
      "https://ostrovok.ru/hotel/united_kingdom/london/mid7599528/premier_inn_london_edgware/\n",
      "https://ostrovok.ru/hotel/united_kingdom/london/mid8495768/president_hotel_6/\n",
      "https://ostrovok.ru/hotel/united_kingdom/london/mid7459693/rafayel_on_the_left_bank/\n",
      "https://ostrovok.ru/hotel/united_kingdom/london/mid7514146/st_james_court_a_taj_hotel_london_3/\n",
      "https://ostrovok.ru/hotel/united_kingdom/london/mid8562236/tavistock/\n",
      "https://ostrovok.ru/hotel/united_kingdom/london/mid7512011/the_britannia_international_hotel_london/\n",
      "https://ostrovok.ru/hotel/united_kingdom/london/mid7051915/the_lion_key_hotel/\n",
      "https://ostrovok.ru/hotel/united_kingdom/london/mid7467518/the_park_grand_london_paddington/\n",
      "https://ostrovok.ru/hotel/united_kingdom/london/mid7586719/tophams_hotel/\n",
      "https://ostrovok.ru/hotel/united_kingdom/london/mid7527651/wedgewood_hotel/\n",
      "https://ostrovok.ru/hotel/united_kingdom/london/mid6484731/wombats_city_hostel_london/\n"
     ]
    }
   ],
   "source": [
    "final = []\n",
    "\n",
    "for url in urls[:5]:\n",
    "    page = requests.get(url)\n",
    "    soup = BeautifulSoup(page.text)\n",
    "    sleep(1)\n",
    "    \n",
    "    for book in soup.find_all('a',  {'class': 'zen-hotelcard-name-link'}): \n",
    "        url0 = 'https://ostrovok.ru' + book.get('href')\n",
    "        print(url0)\n",
    "        res = get_book_info(url0) \n",
    "        sleep(2)\n",
    "        \n",
    "        final.append(res)"
   ]
  },
  {
   "cell_type": "markdown",
   "id": "38732bec",
   "metadata": {},
   "source": [
    "Теперь создадим таблицу по всей полученной информации."
   ]
  },
  {
   "cell_type": "code",
   "execution_count": null,
   "id": "d892830d",
   "metadata": {},
   "outputs": [],
   "source": [
    "table = pd.DataFrame(final)\n",
    "table.head()"
   ]
  },
  {
   "cell_type": "markdown",
   "id": "f92be9eb",
   "metadata": {},
   "source": [
    "## Обработка данных"
   ]
  },
  {
   "cell_type": "markdown",
   "id": "4a5561da",
   "metadata": {},
   "source": [
    "Дадим название столбцам."
   ]
  },
  {
   "cell_type": "code",
   "execution_count": 32,
   "id": "cd643c12",
   "metadata": {},
   "outputs": [
    {
     "data": {
      "text/html": [
       "<div>\n",
       "<style scoped>\n",
       "    .dataframe tbody tr th:only-of-type {\n",
       "        vertical-align: middle;\n",
       "    }\n",
       "\n",
       "    .dataframe tbody tr th {\n",
       "        vertical-align: top;\n",
       "    }\n",
       "\n",
       "    .dataframe thead th {\n",
       "        text-align: right;\n",
       "    }\n",
       "</style>\n",
       "<table border=\"1\" class=\"dataframe\">\n",
       "  <thead>\n",
       "    <tr style=\"text-align: right;\">\n",
       "      <th></th>\n",
       "      <th>url</th>\n",
       "      <th>title</th>\n",
       "      <th>address</th>\n",
       "      <th>closest_landmark</th>\n",
       "      <th>distance_centre</th>\n",
       "      <th>distance_metro</th>\n",
       "      <th>metro</th>\n",
       "      <th>rating</th>\n",
       "      <th>price</th>\n",
       "      <th>temperature_regulation</th>\n",
       "      <th>fitness</th>\n",
       "      <th>free_wifi</th>\n",
       "      <th>parking</th>\n",
       "      <th>pets</th>\n",
       "      <th>convinients</th>\n",
       "    </tr>\n",
       "  </thead>\n",
       "  <tbody>\n",
       "    <tr>\n",
       "      <th>0</th>\n",
       "      <td>https://ostrovok.ru/hotel/united_kingdom/londo...</td>\n",
       "      <td>Отель Apex Temple Court Hotel 4*</td>\n",
       "      <td>1-2 Serjeants Inn Fleet Street, Лондон</td>\n",
       "      <td>Тейт Модерн</td>\n",
       "      <td>1494</td>\n",
       "      <td>408</td>\n",
       "      <td>метро Блэкфрайарз</td>\n",
       "      <td>10.0</td>\n",
       "      <td>31881</td>\n",
       "      <td>1</td>\n",
       "      <td>1</td>\n",
       "      <td>1</td>\n",
       "      <td>1</td>\n",
       "      <td>0</td>\n",
       "      <td>Массаж, Сауна, Спа-центр, Кондиционер, Отель д...</td>\n",
       "    </tr>\n",
       "    <tr>\n",
       "      <th>1</th>\n",
       "      <td>https://ostrovok.ru/hotel/united_kingdom/londo...</td>\n",
       "      <td>Broadway Inn 3*</td>\n",
       "      <td>1A-3A The Broadway, Southall, UB1 1JR, Лондон</td>\n",
       "      <td>Na</td>\n",
       "      <td>17188</td>\n",
       "      <td>Na</td>\n",
       "      <td>Na</td>\n",
       "      <td>Na</td>\n",
       "      <td>7548</td>\n",
       "      <td>0</td>\n",
       "      <td>0</td>\n",
       "      <td>0</td>\n",
       "      <td>0</td>\n",
       "      <td>1</td>\n",
       "      <td>Na</td>\n",
       "    </tr>\n",
       "    <tr>\n",
       "      <th>2</th>\n",
       "      <td>https://ostrovok.ru/hotel/united_kingdom/londo...</td>\n",
       "      <td>Отель Chelsea Cloisters 3*</td>\n",
       "      <td>Sloane Avenue, Лондон</td>\n",
       "      <td>Музей Виктории и Альберта</td>\n",
       "      <td>3185</td>\n",
       "      <td>493</td>\n",
       "      <td>метро Саут Кенсингтон</td>\n",
       "      <td>8.3</td>\n",
       "      <td>16881</td>\n",
       "      <td>1</td>\n",
       "      <td>0</td>\n",
       "      <td>1</td>\n",
       "      <td>1</td>\n",
       "      <td>0</td>\n",
       "      <td>Салон красоты, Лифт</td>\n",
       "    </tr>\n",
       "    <tr>\n",
       "      <th>3</th>\n",
       "      <td>https://ostrovok.ru/hotel/united_kingdom/londo...</td>\n",
       "      <td>Отель Duke of Leinster 3*</td>\n",
       "      <td>20 Leinster Gardens, Лондон</td>\n",
       "      <td>Вокзал Паддингтон</td>\n",
       "      <td>3903</td>\n",
       "      <td>357</td>\n",
       "      <td>метро Бейсуотер</td>\n",
       "      <td>7.6</td>\n",
       "      <td>26496</td>\n",
       "      <td>0</td>\n",
       "      <td>0</td>\n",
       "      <td>1</td>\n",
       "      <td>0</td>\n",
       "      <td>0</td>\n",
       "      <td>Сауна, Обмен валюты, Отель для некурящих, Отоп...</td>\n",
       "    </tr>\n",
       "    <tr>\n",
       "      <th>4</th>\n",
       "      <td>https://ostrovok.ru/hotel/united_kingdom/londo...</td>\n",
       "      <td>Отель Flemings Mayfair 5*</td>\n",
       "      <td>7-12 Half Moon Street, Лондон</td>\n",
       "      <td>Гайд Парк Корнер</td>\n",
       "      <td>1218</td>\n",
       "      <td>171</td>\n",
       "      <td>метро Грин Парк</td>\n",
       "      <td>6.0</td>\n",
       "      <td>47343</td>\n",
       "      <td>1</td>\n",
       "      <td>1</td>\n",
       "      <td>1</td>\n",
       "      <td>1</td>\n",
       "      <td>1</td>\n",
       "      <td>Трансфер от аэропорта, Кондиционер, Обмен валю...</td>\n",
       "    </tr>\n",
       "  </tbody>\n",
       "</table>\n",
       "</div>"
      ],
      "text/plain": [
       "                                                 url  \\\n",
       "0  https://ostrovok.ru/hotel/united_kingdom/londo...   \n",
       "1  https://ostrovok.ru/hotel/united_kingdom/londo...   \n",
       "2  https://ostrovok.ru/hotel/united_kingdom/londo...   \n",
       "3  https://ostrovok.ru/hotel/united_kingdom/londo...   \n",
       "4  https://ostrovok.ru/hotel/united_kingdom/londo...   \n",
       "\n",
       "                              title  \\\n",
       "0  Отель Apex Temple Court Hotel 4*   \n",
       "1                   Broadway Inn 3*   \n",
       "2        Отель Chelsea Cloisters 3*   \n",
       "3         Отель Duke of Leinster 3*   \n",
       "4         Отель Flemings Mayfair 5*   \n",
       "\n",
       "                                         address           closest_landmark  \\\n",
       "0         1-2 Serjeants Inn Fleet Street, Лондон                Тейт Модерн   \n",
       "1  1A-3A The Broadway, Southall, UB1 1JR, Лондон                         Na   \n",
       "2                          Sloane Avenue, Лондон  Музей Виктории и Альберта   \n",
       "3                    20 Leinster Gardens, Лондон          Вокзал Паддингтон   \n",
       "4                  7-12 Half Moon Street, Лондон           Гайд Парк Корнер   \n",
       "\n",
       "   distance_centre distance_metro                  metro rating  price  \\\n",
       "0             1494            408      метро Блэкфрайарз   10.0  31881   \n",
       "1            17188             Na                     Na     Na   7548   \n",
       "2             3185            493  метро Саут Кенсингтон    8.3  16881   \n",
       "3             3903            357        метро Бейсуотер    7.6  26496   \n",
       "4             1218            171        метро Грин Парк    6.0  47343   \n",
       "\n",
       "   temperature_regulation  fitness  free_wifi  parking  pets  \\\n",
       "0                       1        1          1        1     0   \n",
       "1                       0        0          0        0     1   \n",
       "2                       1        0          1        1     0   \n",
       "3                       0        0          1        0     0   \n",
       "4                       1        1          1        1     1   \n",
       "\n",
       "                                         convinients  \n",
       "0  Массаж, Сауна, Спа-центр, Кондиционер, Отель д...  \n",
       "1                                                 Na  \n",
       "2                                Салон красоты, Лифт  \n",
       "3  Сауна, Обмен валюты, Отель для некурящих, Отоп...  \n",
       "4  Трансфер от аэропорта, Кондиционер, Обмен валю...  "
      ]
     },
     "execution_count": 32,
     "metadata": {},
     "output_type": "execute_result"
    }
   ],
   "source": [
    "table.columns = ['url', 'title', 'address', 'closest_landmark', 'distance_centre', 'distance_metro', 'metro', 'rating', 'price', 'temperature_regulation', 'fitness', 'free_wifi', 'parking', 'pets', 'convinients']\n",
    "table.head()"
   ]
  },
  {
   "cell_type": "markdown",
   "id": "b841d83b",
   "metadata": {},
   "source": [
    "Создадим столбец с количеством звезд у отеля."
   ]
  },
  {
   "cell_type": "code",
   "execution_count": 33,
   "id": "94e2a6df",
   "metadata": {},
   "outputs": [
    {
     "data": {
      "text/html": [
       "<div>\n",
       "<style scoped>\n",
       "    .dataframe tbody tr th:only-of-type {\n",
       "        vertical-align: middle;\n",
       "    }\n",
       "\n",
       "    .dataframe tbody tr th {\n",
       "        vertical-align: top;\n",
       "    }\n",
       "\n",
       "    .dataframe thead th {\n",
       "        text-align: right;\n",
       "    }\n",
       "</style>\n",
       "<table border=\"1\" class=\"dataframe\">\n",
       "  <thead>\n",
       "    <tr style=\"text-align: right;\">\n",
       "      <th></th>\n",
       "      <th>url</th>\n",
       "      <th>title</th>\n",
       "      <th>address</th>\n",
       "      <th>closest_landmark</th>\n",
       "      <th>distance_centre</th>\n",
       "      <th>distance_metro</th>\n",
       "      <th>metro</th>\n",
       "      <th>rating</th>\n",
       "      <th>price</th>\n",
       "      <th>temperature_regulation</th>\n",
       "      <th>fitness</th>\n",
       "      <th>free_wifi</th>\n",
       "      <th>parking</th>\n",
       "      <th>pets</th>\n",
       "      <th>convinients</th>\n",
       "      <th>star_rating</th>\n",
       "    </tr>\n",
       "  </thead>\n",
       "  <tbody>\n",
       "    <tr>\n",
       "      <th>0</th>\n",
       "      <td>https://ostrovok.ru/hotel/united_kingdom/londo...</td>\n",
       "      <td>Отель Apex Temple Court Hotel 4*</td>\n",
       "      <td>1-2 Serjeants Inn Fleet Street, Лондон</td>\n",
       "      <td>Тейт Модерн</td>\n",
       "      <td>1494</td>\n",
       "      <td>408</td>\n",
       "      <td>метро Блэкфрайарз</td>\n",
       "      <td>10.0</td>\n",
       "      <td>31881</td>\n",
       "      <td>1</td>\n",
       "      <td>1</td>\n",
       "      <td>1</td>\n",
       "      <td>1</td>\n",
       "      <td>0</td>\n",
       "      <td>Массаж, Сауна, Спа-центр, Кондиционер, Отель д...</td>\n",
       "      <td>4</td>\n",
       "    </tr>\n",
       "    <tr>\n",
       "      <th>1</th>\n",
       "      <td>https://ostrovok.ru/hotel/united_kingdom/londo...</td>\n",
       "      <td>Broadway Inn 3*</td>\n",
       "      <td>1A-3A The Broadway, Southall, UB1 1JR, Лондон</td>\n",
       "      <td>Na</td>\n",
       "      <td>17188</td>\n",
       "      <td>Na</td>\n",
       "      <td>Na</td>\n",
       "      <td>Na</td>\n",
       "      <td>7548</td>\n",
       "      <td>0</td>\n",
       "      <td>0</td>\n",
       "      <td>0</td>\n",
       "      <td>0</td>\n",
       "      <td>1</td>\n",
       "      <td>Na</td>\n",
       "      <td>3</td>\n",
       "    </tr>\n",
       "    <tr>\n",
       "      <th>2</th>\n",
       "      <td>https://ostrovok.ru/hotel/united_kingdom/londo...</td>\n",
       "      <td>Отель Chelsea Cloisters 3*</td>\n",
       "      <td>Sloane Avenue, Лондон</td>\n",
       "      <td>Музей Виктории и Альберта</td>\n",
       "      <td>3185</td>\n",
       "      <td>493</td>\n",
       "      <td>метро Саут Кенсингтон</td>\n",
       "      <td>8.3</td>\n",
       "      <td>16881</td>\n",
       "      <td>1</td>\n",
       "      <td>0</td>\n",
       "      <td>1</td>\n",
       "      <td>1</td>\n",
       "      <td>0</td>\n",
       "      <td>Салон красоты, Лифт</td>\n",
       "      <td>3</td>\n",
       "    </tr>\n",
       "    <tr>\n",
       "      <th>3</th>\n",
       "      <td>https://ostrovok.ru/hotel/united_kingdom/londo...</td>\n",
       "      <td>Отель Duke of Leinster 3*</td>\n",
       "      <td>20 Leinster Gardens, Лондон</td>\n",
       "      <td>Вокзал Паддингтон</td>\n",
       "      <td>3903</td>\n",
       "      <td>357</td>\n",
       "      <td>метро Бейсуотер</td>\n",
       "      <td>7.6</td>\n",
       "      <td>26496</td>\n",
       "      <td>0</td>\n",
       "      <td>0</td>\n",
       "      <td>1</td>\n",
       "      <td>0</td>\n",
       "      <td>0</td>\n",
       "      <td>Сауна, Обмен валюты, Отель для некурящих, Отоп...</td>\n",
       "      <td>3</td>\n",
       "    </tr>\n",
       "    <tr>\n",
       "      <th>4</th>\n",
       "      <td>https://ostrovok.ru/hotel/united_kingdom/londo...</td>\n",
       "      <td>Отель Flemings Mayfair 5*</td>\n",
       "      <td>7-12 Half Moon Street, Лондон</td>\n",
       "      <td>Гайд Парк Корнер</td>\n",
       "      <td>1218</td>\n",
       "      <td>171</td>\n",
       "      <td>метро Грин Парк</td>\n",
       "      <td>6.0</td>\n",
       "      <td>47343</td>\n",
       "      <td>1</td>\n",
       "      <td>1</td>\n",
       "      <td>1</td>\n",
       "      <td>1</td>\n",
       "      <td>1</td>\n",
       "      <td>Трансфер от аэропорта, Кондиционер, Обмен валю...</td>\n",
       "      <td>5</td>\n",
       "    </tr>\n",
       "  </tbody>\n",
       "</table>\n",
       "</div>"
      ],
      "text/plain": [
       "                                                 url  \\\n",
       "0  https://ostrovok.ru/hotel/united_kingdom/londo...   \n",
       "1  https://ostrovok.ru/hotel/united_kingdom/londo...   \n",
       "2  https://ostrovok.ru/hotel/united_kingdom/londo...   \n",
       "3  https://ostrovok.ru/hotel/united_kingdom/londo...   \n",
       "4  https://ostrovok.ru/hotel/united_kingdom/londo...   \n",
       "\n",
       "                              title  \\\n",
       "0  Отель Apex Temple Court Hotel 4*   \n",
       "1                   Broadway Inn 3*   \n",
       "2        Отель Chelsea Cloisters 3*   \n",
       "3         Отель Duke of Leinster 3*   \n",
       "4         Отель Flemings Mayfair 5*   \n",
       "\n",
       "                                         address           closest_landmark  \\\n",
       "0         1-2 Serjeants Inn Fleet Street, Лондон                Тейт Модерн   \n",
       "1  1A-3A The Broadway, Southall, UB1 1JR, Лондон                         Na   \n",
       "2                          Sloane Avenue, Лондон  Музей Виктории и Альберта   \n",
       "3                    20 Leinster Gardens, Лондон          Вокзал Паддингтон   \n",
       "4                  7-12 Half Moon Street, Лондон           Гайд Парк Корнер   \n",
       "\n",
       "   distance_centre distance_metro                  metro rating  price  \\\n",
       "0             1494            408      метро Блэкфрайарз   10.0  31881   \n",
       "1            17188             Na                     Na     Na   7548   \n",
       "2             3185            493  метро Саут Кенсингтон    8.3  16881   \n",
       "3             3903            357        метро Бейсуотер    7.6  26496   \n",
       "4             1218            171        метро Грин Парк    6.0  47343   \n",
       "\n",
       "   temperature_regulation  fitness  free_wifi  parking  pets  \\\n",
       "0                       1        1          1        1     0   \n",
       "1                       0        0          0        0     1   \n",
       "2                       1        0          1        1     0   \n",
       "3                       0        0          1        0     0   \n",
       "4                       1        1          1        1     1   \n",
       "\n",
       "                                         convinients star_rating  \n",
       "0  Массаж, Сауна, Спа-центр, Кондиционер, Отель д...           4  \n",
       "1                                                 Na           3  \n",
       "2                                Салон красоты, Лифт           3  \n",
       "3  Сауна, Обмен валюты, Отель для некурящих, Отоп...           3  \n",
       "4  Трансфер от аэропорта, Кондиционер, Обмен валю...           5  "
      ]
     },
     "execution_count": 33,
     "metadata": {},
     "output_type": "execute_result"
    }
   ],
   "source": [
    "# функция для извлечения количества звезд из названия отеля\n",
    "def extractstars(hotelname):\n",
    "    if '*' in hotelname:\n",
    "        hotelname = hotelname.split('*')[0]\n",
    "        stars = int(hotelname.split()[-1]) \n",
    "        return stars\n",
    "    else:\n",
    "        return \"Na\"\n",
    "\n",
    "# создаем новый столбец star_rating\n",
    "table['star_rating'] = table['title'].apply(lambda x: extractstars(x))\n",
    "table.head()"
   ]
  },
  {
   "cell_type": "markdown",
   "id": "40dd1c4e",
   "metadata": {},
   "source": [
    "Уберем звезды из названия отеля"
   ]
  },
  {
   "cell_type": "code",
   "execution_count": 34,
   "id": "37f73cbe",
   "metadata": {},
   "outputs": [
    {
     "data": {
      "text/html": [
       "<div>\n",
       "<style scoped>\n",
       "    .dataframe tbody tr th:only-of-type {\n",
       "        vertical-align: middle;\n",
       "    }\n",
       "\n",
       "    .dataframe tbody tr th {\n",
       "        vertical-align: top;\n",
       "    }\n",
       "\n",
       "    .dataframe thead th {\n",
       "        text-align: right;\n",
       "    }\n",
       "</style>\n",
       "<table border=\"1\" class=\"dataframe\">\n",
       "  <thead>\n",
       "    <tr style=\"text-align: right;\">\n",
       "      <th></th>\n",
       "      <th>url</th>\n",
       "      <th>title</th>\n",
       "      <th>address</th>\n",
       "      <th>closest_landmark</th>\n",
       "      <th>distance_centre</th>\n",
       "      <th>distance_metro</th>\n",
       "      <th>metro</th>\n",
       "      <th>rating</th>\n",
       "      <th>price</th>\n",
       "      <th>temperature_regulation</th>\n",
       "      <th>fitness</th>\n",
       "      <th>free_wifi</th>\n",
       "      <th>parking</th>\n",
       "      <th>pets</th>\n",
       "      <th>convinients</th>\n",
       "      <th>star_rating</th>\n",
       "    </tr>\n",
       "  </thead>\n",
       "  <tbody>\n",
       "    <tr>\n",
       "      <th>0</th>\n",
       "      <td>https://ostrovok.ru/hotel/united_kingdom/londo...</td>\n",
       "      <td>Отель Apex Temple Court Hotel</td>\n",
       "      <td>1-2 Serjeants Inn Fleet Street, Лондон</td>\n",
       "      <td>Тейт Модерн</td>\n",
       "      <td>1494</td>\n",
       "      <td>408</td>\n",
       "      <td>метро Блэкфрайарз</td>\n",
       "      <td>10.0</td>\n",
       "      <td>31881</td>\n",
       "      <td>1</td>\n",
       "      <td>1</td>\n",
       "      <td>1</td>\n",
       "      <td>1</td>\n",
       "      <td>0</td>\n",
       "      <td>Массаж, Сауна, Спа-центр, Кондиционер, Отель д...</td>\n",
       "      <td>4</td>\n",
       "    </tr>\n",
       "    <tr>\n",
       "      <th>1</th>\n",
       "      <td>https://ostrovok.ru/hotel/united_kingdom/londo...</td>\n",
       "      <td>Broadway Inn</td>\n",
       "      <td>1A-3A The Broadway, Southall, UB1 1JR, Лондон</td>\n",
       "      <td>Na</td>\n",
       "      <td>17188</td>\n",
       "      <td>Na</td>\n",
       "      <td>Na</td>\n",
       "      <td>Na</td>\n",
       "      <td>7548</td>\n",
       "      <td>0</td>\n",
       "      <td>0</td>\n",
       "      <td>0</td>\n",
       "      <td>0</td>\n",
       "      <td>1</td>\n",
       "      <td>Na</td>\n",
       "      <td>3</td>\n",
       "    </tr>\n",
       "    <tr>\n",
       "      <th>2</th>\n",
       "      <td>https://ostrovok.ru/hotel/united_kingdom/londo...</td>\n",
       "      <td>Отель Chelsea Cloisters</td>\n",
       "      <td>Sloane Avenue, Лондон</td>\n",
       "      <td>Музей Виктории и Альберта</td>\n",
       "      <td>3185</td>\n",
       "      <td>493</td>\n",
       "      <td>метро Саут Кенсингтон</td>\n",
       "      <td>8.3</td>\n",
       "      <td>16881</td>\n",
       "      <td>1</td>\n",
       "      <td>0</td>\n",
       "      <td>1</td>\n",
       "      <td>1</td>\n",
       "      <td>0</td>\n",
       "      <td>Салон красоты, Лифт</td>\n",
       "      <td>3</td>\n",
       "    </tr>\n",
       "    <tr>\n",
       "      <th>3</th>\n",
       "      <td>https://ostrovok.ru/hotel/united_kingdom/londo...</td>\n",
       "      <td>Отель Duke of Leinster</td>\n",
       "      <td>20 Leinster Gardens, Лондон</td>\n",
       "      <td>Вокзал Паддингтон</td>\n",
       "      <td>3903</td>\n",
       "      <td>357</td>\n",
       "      <td>метро Бейсуотер</td>\n",
       "      <td>7.6</td>\n",
       "      <td>26496</td>\n",
       "      <td>0</td>\n",
       "      <td>0</td>\n",
       "      <td>1</td>\n",
       "      <td>0</td>\n",
       "      <td>0</td>\n",
       "      <td>Сауна, Обмен валюты, Отель для некурящих, Отоп...</td>\n",
       "      <td>3</td>\n",
       "    </tr>\n",
       "    <tr>\n",
       "      <th>4</th>\n",
       "      <td>https://ostrovok.ru/hotel/united_kingdom/londo...</td>\n",
       "      <td>Отель Flemings Mayfair</td>\n",
       "      <td>7-12 Half Moon Street, Лондон</td>\n",
       "      <td>Гайд Парк Корнер</td>\n",
       "      <td>1218</td>\n",
       "      <td>171</td>\n",
       "      <td>метро Грин Парк</td>\n",
       "      <td>6.0</td>\n",
       "      <td>47343</td>\n",
       "      <td>1</td>\n",
       "      <td>1</td>\n",
       "      <td>1</td>\n",
       "      <td>1</td>\n",
       "      <td>1</td>\n",
       "      <td>Трансфер от аэропорта, Кондиционер, Обмен валю...</td>\n",
       "      <td>5</td>\n",
       "    </tr>\n",
       "  </tbody>\n",
       "</table>\n",
       "</div>"
      ],
      "text/plain": [
       "                                                 url  \\\n",
       "0  https://ostrovok.ru/hotel/united_kingdom/londo...   \n",
       "1  https://ostrovok.ru/hotel/united_kingdom/londo...   \n",
       "2  https://ostrovok.ru/hotel/united_kingdom/londo...   \n",
       "3  https://ostrovok.ru/hotel/united_kingdom/londo...   \n",
       "4  https://ostrovok.ru/hotel/united_kingdom/londo...   \n",
       "\n",
       "                           title  \\\n",
       "0  Отель Apex Temple Court Hotel   \n",
       "1                   Broadway Inn   \n",
       "2        Отель Chelsea Cloisters   \n",
       "3         Отель Duke of Leinster   \n",
       "4         Отель Flemings Mayfair   \n",
       "\n",
       "                                         address           closest_landmark  \\\n",
       "0         1-2 Serjeants Inn Fleet Street, Лондон                Тейт Модерн   \n",
       "1  1A-3A The Broadway, Southall, UB1 1JR, Лондон                         Na   \n",
       "2                          Sloane Avenue, Лондон  Музей Виктории и Альберта   \n",
       "3                    20 Leinster Gardens, Лондон          Вокзал Паддингтон   \n",
       "4                  7-12 Half Moon Street, Лондон           Гайд Парк Корнер   \n",
       "\n",
       "   distance_centre distance_metro                  metro rating  price  \\\n",
       "0             1494            408      метро Блэкфрайарз   10.0  31881   \n",
       "1            17188             Na                     Na     Na   7548   \n",
       "2             3185            493  метро Саут Кенсингтон    8.3  16881   \n",
       "3             3903            357        метро Бейсуотер    7.6  26496   \n",
       "4             1218            171        метро Грин Парк    6.0  47343   \n",
       "\n",
       "   temperature_regulation  fitness  free_wifi  parking  pets  \\\n",
       "0                       1        1          1        1     0   \n",
       "1                       0        0          0        0     1   \n",
       "2                       1        0          1        1     0   \n",
       "3                       0        0          1        0     0   \n",
       "4                       1        1          1        1     1   \n",
       "\n",
       "                                         convinients star_rating  \n",
       "0  Массаж, Сауна, Спа-центр, Кондиционер, Отель д...           4  \n",
       "1                                                 Na           3  \n",
       "2                                Салон красоты, Лифт           3  \n",
       "3  Сауна, Обмен валюты, Отель для некурящих, Отоп...           3  \n",
       "4  Трансфер от аэропорта, Кондиционер, Обмен валю...           5  "
      ]
     },
     "execution_count": 34,
     "metadata": {},
     "output_type": "execute_result"
    }
   ],
   "source": [
    "table['title'] = table['title'].apply(lambda x: x[:-3] if x[-1] == '*' else x)\n",
    "table.head()"
   ]
  },
  {
   "cell_type": "markdown",
   "id": "8cfd4a59",
   "metadata": {},
   "source": [
    "Удалим из столбца `metro` слово метро, так как оно повторяется в каждой строке и не несет никакой смысловой нагрузки."
   ]
  },
  {
   "cell_type": "code",
   "execution_count": 35,
   "id": "91a71c6e",
   "metadata": {},
   "outputs": [
    {
     "data": {
      "text/html": [
       "<div>\n",
       "<style scoped>\n",
       "    .dataframe tbody tr th:only-of-type {\n",
       "        vertical-align: middle;\n",
       "    }\n",
       "\n",
       "    .dataframe tbody tr th {\n",
       "        vertical-align: top;\n",
       "    }\n",
       "\n",
       "    .dataframe thead th {\n",
       "        text-align: right;\n",
       "    }\n",
       "</style>\n",
       "<table border=\"1\" class=\"dataframe\">\n",
       "  <thead>\n",
       "    <tr style=\"text-align: right;\">\n",
       "      <th></th>\n",
       "      <th>url</th>\n",
       "      <th>title</th>\n",
       "      <th>address</th>\n",
       "      <th>closest_landmark</th>\n",
       "      <th>distance_centre</th>\n",
       "      <th>distance_metro</th>\n",
       "      <th>metro</th>\n",
       "      <th>rating</th>\n",
       "      <th>price</th>\n",
       "      <th>temperature_regulation</th>\n",
       "      <th>fitness</th>\n",
       "      <th>free_wifi</th>\n",
       "      <th>parking</th>\n",
       "      <th>pets</th>\n",
       "      <th>convinients</th>\n",
       "      <th>star_rating</th>\n",
       "    </tr>\n",
       "  </thead>\n",
       "  <tbody>\n",
       "    <tr>\n",
       "      <th>0</th>\n",
       "      <td>https://ostrovok.ru/hotel/united_kingdom/londo...</td>\n",
       "      <td>Отель Apex Temple Court Hotel</td>\n",
       "      <td>1-2 Serjeants Inn Fleet Street, Лондон</td>\n",
       "      <td>Тейт Модерн</td>\n",
       "      <td>1494</td>\n",
       "      <td>408</td>\n",
       "      <td>Блэкфрайарз</td>\n",
       "      <td>10.0</td>\n",
       "      <td>31881</td>\n",
       "      <td>1</td>\n",
       "      <td>1</td>\n",
       "      <td>1</td>\n",
       "      <td>1</td>\n",
       "      <td>0</td>\n",
       "      <td>Массаж, Сауна, Спа-центр, Кондиционер, Отель д...</td>\n",
       "      <td>4</td>\n",
       "    </tr>\n",
       "    <tr>\n",
       "      <th>1</th>\n",
       "      <td>https://ostrovok.ru/hotel/united_kingdom/londo...</td>\n",
       "      <td>Broadway Inn</td>\n",
       "      <td>1A-3A The Broadway, Southall, UB1 1JR, Лондон</td>\n",
       "      <td>Na</td>\n",
       "      <td>17188</td>\n",
       "      <td>Na</td>\n",
       "      <td>None</td>\n",
       "      <td>Na</td>\n",
       "      <td>7548</td>\n",
       "      <td>0</td>\n",
       "      <td>0</td>\n",
       "      <td>0</td>\n",
       "      <td>0</td>\n",
       "      <td>1</td>\n",
       "      <td>Na</td>\n",
       "      <td>3</td>\n",
       "    </tr>\n",
       "    <tr>\n",
       "      <th>2</th>\n",
       "      <td>https://ostrovok.ru/hotel/united_kingdom/londo...</td>\n",
       "      <td>Отель Chelsea Cloisters</td>\n",
       "      <td>Sloane Avenue, Лондон</td>\n",
       "      <td>Музей Виктории и Альберта</td>\n",
       "      <td>3185</td>\n",
       "      <td>493</td>\n",
       "      <td>Саут Кенсингтон</td>\n",
       "      <td>8.3</td>\n",
       "      <td>16881</td>\n",
       "      <td>1</td>\n",
       "      <td>0</td>\n",
       "      <td>1</td>\n",
       "      <td>1</td>\n",
       "      <td>0</td>\n",
       "      <td>Салон красоты, Лифт</td>\n",
       "      <td>3</td>\n",
       "    </tr>\n",
       "    <tr>\n",
       "      <th>3</th>\n",
       "      <td>https://ostrovok.ru/hotel/united_kingdom/londo...</td>\n",
       "      <td>Отель Duke of Leinster</td>\n",
       "      <td>20 Leinster Gardens, Лондон</td>\n",
       "      <td>Вокзал Паддингтон</td>\n",
       "      <td>3903</td>\n",
       "      <td>357</td>\n",
       "      <td>Бейсуотер</td>\n",
       "      <td>7.6</td>\n",
       "      <td>26496</td>\n",
       "      <td>0</td>\n",
       "      <td>0</td>\n",
       "      <td>1</td>\n",
       "      <td>0</td>\n",
       "      <td>0</td>\n",
       "      <td>Сауна, Обмен валюты, Отель для некурящих, Отоп...</td>\n",
       "      <td>3</td>\n",
       "    </tr>\n",
       "    <tr>\n",
       "      <th>4</th>\n",
       "      <td>https://ostrovok.ru/hotel/united_kingdom/londo...</td>\n",
       "      <td>Отель Flemings Mayfair</td>\n",
       "      <td>7-12 Half Moon Street, Лондон</td>\n",
       "      <td>Гайд Парк Корнер</td>\n",
       "      <td>1218</td>\n",
       "      <td>171</td>\n",
       "      <td>Грин Парк</td>\n",
       "      <td>6.0</td>\n",
       "      <td>47343</td>\n",
       "      <td>1</td>\n",
       "      <td>1</td>\n",
       "      <td>1</td>\n",
       "      <td>1</td>\n",
       "      <td>1</td>\n",
       "      <td>Трансфер от аэропорта, Кондиционер, Обмен валю...</td>\n",
       "      <td>5</td>\n",
       "    </tr>\n",
       "  </tbody>\n",
       "</table>\n",
       "</div>"
      ],
      "text/plain": [
       "                                                 url  \\\n",
       "0  https://ostrovok.ru/hotel/united_kingdom/londo...   \n",
       "1  https://ostrovok.ru/hotel/united_kingdom/londo...   \n",
       "2  https://ostrovok.ru/hotel/united_kingdom/londo...   \n",
       "3  https://ostrovok.ru/hotel/united_kingdom/londo...   \n",
       "4  https://ostrovok.ru/hotel/united_kingdom/londo...   \n",
       "\n",
       "                           title  \\\n",
       "0  Отель Apex Temple Court Hotel   \n",
       "1                   Broadway Inn   \n",
       "2        Отель Chelsea Cloisters   \n",
       "3         Отель Duke of Leinster   \n",
       "4         Отель Flemings Mayfair   \n",
       "\n",
       "                                         address           closest_landmark  \\\n",
       "0         1-2 Serjeants Inn Fleet Street, Лондон                Тейт Модерн   \n",
       "1  1A-3A The Broadway, Southall, UB1 1JR, Лондон                         Na   \n",
       "2                          Sloane Avenue, Лондон  Музей Виктории и Альберта   \n",
       "3                    20 Leinster Gardens, Лондон          Вокзал Паддингтон   \n",
       "4                  7-12 Half Moon Street, Лондон           Гайд Парк Корнер   \n",
       "\n",
       "   distance_centre distance_metro            metro rating  price  \\\n",
       "0             1494            408      Блэкфрайарз   10.0  31881   \n",
       "1            17188             Na             None     Na   7548   \n",
       "2             3185            493  Саут Кенсингтон    8.3  16881   \n",
       "3             3903            357        Бейсуотер    7.6  26496   \n",
       "4             1218            171        Грин Парк    6.0  47343   \n",
       "\n",
       "   temperature_regulation  fitness  free_wifi  parking  pets  \\\n",
       "0                       1        1          1        1     0   \n",
       "1                       0        0          0        0     1   \n",
       "2                       1        0          1        1     0   \n",
       "3                       0        0          1        0     0   \n",
       "4                       1        1          1        1     1   \n",
       "\n",
       "                                         convinients star_rating  \n",
       "0  Массаж, Сауна, Спа-центр, Кондиционер, Отель д...           4  \n",
       "1                                                 Na           3  \n",
       "2                                Салон красоты, Лифт           3  \n",
       "3  Сауна, Обмен валюты, Отель для некурящих, Отоп...           3  \n",
       "4  Трансфер от аэропорта, Кондиционер, Обмен валю...           5  "
      ]
     },
     "execution_count": 35,
     "metadata": {},
     "output_type": "execute_result"
    }
   ],
   "source": [
    "# функция для удаления слова \"метро\" из столбца metro\n",
    "def no_metro(metro_name):\n",
    "    if 'метро ' in metro_name:\n",
    "        metro_name = metro_name.replace(\"метро \", \"\")\n",
    "        return metro_name\n",
    "# обновим столбец metro\n",
    "table['metro'] = table['metro'].apply(lambda x: no_metro(x))\n",
    "table.head()"
   ]
  },
  {
   "cell_type": "markdown",
   "id": "db433461",
   "metadata": {},
   "source": [
    "Точно так же в столбце `title` дублируется слово отель, также удалим его с помощью новой функции."
   ]
  },
  {
   "cell_type": "code",
   "execution_count": 36,
   "id": "8b44da1a",
   "metadata": {},
   "outputs": [
    {
     "data": {
      "text/html": [
       "<div>\n",
       "<style scoped>\n",
       "    .dataframe tbody tr th:only-of-type {\n",
       "        vertical-align: middle;\n",
       "    }\n",
       "\n",
       "    .dataframe tbody tr th {\n",
       "        vertical-align: top;\n",
       "    }\n",
       "\n",
       "    .dataframe thead th {\n",
       "        text-align: right;\n",
       "    }\n",
       "</style>\n",
       "<table border=\"1\" class=\"dataframe\">\n",
       "  <thead>\n",
       "    <tr style=\"text-align: right;\">\n",
       "      <th></th>\n",
       "      <th>url</th>\n",
       "      <th>title</th>\n",
       "      <th>address</th>\n",
       "      <th>closest_landmark</th>\n",
       "      <th>distance_centre</th>\n",
       "      <th>distance_metro</th>\n",
       "      <th>metro</th>\n",
       "      <th>rating</th>\n",
       "      <th>price</th>\n",
       "      <th>temperature_regulation</th>\n",
       "      <th>fitness</th>\n",
       "      <th>free_wifi</th>\n",
       "      <th>parking</th>\n",
       "      <th>pets</th>\n",
       "      <th>convinients</th>\n",
       "      <th>star_rating</th>\n",
       "    </tr>\n",
       "  </thead>\n",
       "  <tbody>\n",
       "    <tr>\n",
       "      <th>0</th>\n",
       "      <td>https://ostrovok.ru/hotel/united_kingdom/londo...</td>\n",
       "      <td>Apex Temple Court Hotel</td>\n",
       "      <td>1-2 Serjeants Inn Fleet Street, Лондон</td>\n",
       "      <td>Тейт Модерн</td>\n",
       "      <td>1494</td>\n",
       "      <td>408</td>\n",
       "      <td>Блэкфрайарз</td>\n",
       "      <td>10.0</td>\n",
       "      <td>31881</td>\n",
       "      <td>1</td>\n",
       "      <td>1</td>\n",
       "      <td>1</td>\n",
       "      <td>1</td>\n",
       "      <td>0</td>\n",
       "      <td>Массаж, Сауна, Спа-центр, Кондиционер, Отель д...</td>\n",
       "      <td>4</td>\n",
       "    </tr>\n",
       "    <tr>\n",
       "      <th>1</th>\n",
       "      <td>https://ostrovok.ru/hotel/united_kingdom/londo...</td>\n",
       "      <td>None</td>\n",
       "      <td>1A-3A The Broadway, Southall, UB1 1JR, Лондон</td>\n",
       "      <td>Na</td>\n",
       "      <td>17188</td>\n",
       "      <td>Na</td>\n",
       "      <td>None</td>\n",
       "      <td>Na</td>\n",
       "      <td>7548</td>\n",
       "      <td>0</td>\n",
       "      <td>0</td>\n",
       "      <td>0</td>\n",
       "      <td>0</td>\n",
       "      <td>1</td>\n",
       "      <td>Na</td>\n",
       "      <td>3</td>\n",
       "    </tr>\n",
       "    <tr>\n",
       "      <th>2</th>\n",
       "      <td>https://ostrovok.ru/hotel/united_kingdom/londo...</td>\n",
       "      <td>Chelsea Cloisters</td>\n",
       "      <td>Sloane Avenue, Лондон</td>\n",
       "      <td>Музей Виктории и Альберта</td>\n",
       "      <td>3185</td>\n",
       "      <td>493</td>\n",
       "      <td>Саут Кенсингтон</td>\n",
       "      <td>8.3</td>\n",
       "      <td>16881</td>\n",
       "      <td>1</td>\n",
       "      <td>0</td>\n",
       "      <td>1</td>\n",
       "      <td>1</td>\n",
       "      <td>0</td>\n",
       "      <td>Салон красоты, Лифт</td>\n",
       "      <td>3</td>\n",
       "    </tr>\n",
       "    <tr>\n",
       "      <th>3</th>\n",
       "      <td>https://ostrovok.ru/hotel/united_kingdom/londo...</td>\n",
       "      <td>Duke of Leinster</td>\n",
       "      <td>20 Leinster Gardens, Лондон</td>\n",
       "      <td>Вокзал Паддингтон</td>\n",
       "      <td>3903</td>\n",
       "      <td>357</td>\n",
       "      <td>Бейсуотер</td>\n",
       "      <td>7.6</td>\n",
       "      <td>26496</td>\n",
       "      <td>0</td>\n",
       "      <td>0</td>\n",
       "      <td>1</td>\n",
       "      <td>0</td>\n",
       "      <td>0</td>\n",
       "      <td>Сауна, Обмен валюты, Отель для некурящих, Отоп...</td>\n",
       "      <td>3</td>\n",
       "    </tr>\n",
       "    <tr>\n",
       "      <th>4</th>\n",
       "      <td>https://ostrovok.ru/hotel/united_kingdom/londo...</td>\n",
       "      <td>Flemings Mayfair</td>\n",
       "      <td>7-12 Half Moon Street, Лондон</td>\n",
       "      <td>Гайд Парк Корнер</td>\n",
       "      <td>1218</td>\n",
       "      <td>171</td>\n",
       "      <td>Грин Парк</td>\n",
       "      <td>6.0</td>\n",
       "      <td>47343</td>\n",
       "      <td>1</td>\n",
       "      <td>1</td>\n",
       "      <td>1</td>\n",
       "      <td>1</td>\n",
       "      <td>1</td>\n",
       "      <td>Трансфер от аэропорта, Кондиционер, Обмен валю...</td>\n",
       "      <td>5</td>\n",
       "    </tr>\n",
       "  </tbody>\n",
       "</table>\n",
       "</div>"
      ],
      "text/plain": [
       "                                                 url                    title  \\\n",
       "0  https://ostrovok.ru/hotel/united_kingdom/londo...  Apex Temple Court Hotel   \n",
       "1  https://ostrovok.ru/hotel/united_kingdom/londo...                     None   \n",
       "2  https://ostrovok.ru/hotel/united_kingdom/londo...        Chelsea Cloisters   \n",
       "3  https://ostrovok.ru/hotel/united_kingdom/londo...         Duke of Leinster   \n",
       "4  https://ostrovok.ru/hotel/united_kingdom/londo...         Flemings Mayfair   \n",
       "\n",
       "                                         address           closest_landmark  \\\n",
       "0         1-2 Serjeants Inn Fleet Street, Лондон                Тейт Модерн   \n",
       "1  1A-3A The Broadway, Southall, UB1 1JR, Лондон                         Na   \n",
       "2                          Sloane Avenue, Лондон  Музей Виктории и Альберта   \n",
       "3                    20 Leinster Gardens, Лондон          Вокзал Паддингтон   \n",
       "4                  7-12 Half Moon Street, Лондон           Гайд Парк Корнер   \n",
       "\n",
       "   distance_centre distance_metro            metro rating  price  \\\n",
       "0             1494            408      Блэкфрайарз   10.0  31881   \n",
       "1            17188             Na             None     Na   7548   \n",
       "2             3185            493  Саут Кенсингтон    8.3  16881   \n",
       "3             3903            357        Бейсуотер    7.6  26496   \n",
       "4             1218            171        Грин Парк    6.0  47343   \n",
       "\n",
       "   temperature_regulation  fitness  free_wifi  parking  pets  \\\n",
       "0                       1        1          1        1     0   \n",
       "1                       0        0          0        0     1   \n",
       "2                       1        0          1        1     0   \n",
       "3                       0        0          1        0     0   \n",
       "4                       1        1          1        1     1   \n",
       "\n",
       "                                         convinients star_rating  \n",
       "0  Массаж, Сауна, Спа-центр, Кондиционер, Отель д...           4  \n",
       "1                                                 Na           3  \n",
       "2                                Салон красоты, Лифт           3  \n",
       "3  Сауна, Обмен валюты, Отель для некурящих, Отоп...           3  \n",
       "4  Трансфер от аэропорта, Кондиционер, Обмен валю...           5  "
      ]
     },
     "execution_count": 36,
     "metadata": {},
     "output_type": "execute_result"
    }
   ],
   "source": [
    "def no_hotel(title):\n",
    "    if 'Отель ' in title:\n",
    "        title = title.replace(\"Отель \", \"\")\n",
    "        return title\n",
    "\n",
    "table['title'] = table['title'].apply(lambda x: no_hotel(x))\n",
    "table.head()"
   ]
  },
  {
   "cell_type": "markdown",
   "id": "ddcb0a40",
   "metadata": {},
   "source": [
    "Почистим данные. Так как мы самостоятельно присваивали значения \"Na\" пустым ячейкам, воспользоваться функцией `drop.na` у нас не получится, поэтому будем удалять строки также вручную, по условию. Стоит отметить, что двух условий оказалось достаточно, чтобы удалить все пустые строки. Мы пробовали подставить значения всех оставшихся столбцов в третье условие, однако количество строк оставалось неизменным."
   ]
  },
  {
   "cell_type": "code",
   "execution_count": 37,
   "id": "14023df0",
   "metadata": {},
   "outputs": [
    {
     "data": {
      "text/html": [
       "<div>\n",
       "<style scoped>\n",
       "    .dataframe tbody tr th:only-of-type {\n",
       "        vertical-align: middle;\n",
       "    }\n",
       "\n",
       "    .dataframe tbody tr th {\n",
       "        vertical-align: top;\n",
       "    }\n",
       "\n",
       "    .dataframe thead th {\n",
       "        text-align: right;\n",
       "    }\n",
       "</style>\n",
       "<table border=\"1\" class=\"dataframe\">\n",
       "  <thead>\n",
       "    <tr style=\"text-align: right;\">\n",
       "      <th></th>\n",
       "      <th>url</th>\n",
       "      <th>title</th>\n",
       "      <th>address</th>\n",
       "      <th>closest_landmark</th>\n",
       "      <th>distance_centre</th>\n",
       "      <th>distance_metro</th>\n",
       "      <th>metro</th>\n",
       "      <th>rating</th>\n",
       "      <th>price</th>\n",
       "      <th>temperature_regulation</th>\n",
       "      <th>fitness</th>\n",
       "      <th>free_wifi</th>\n",
       "      <th>parking</th>\n",
       "      <th>pets</th>\n",
       "      <th>convinients</th>\n",
       "      <th>star_rating</th>\n",
       "    </tr>\n",
       "  </thead>\n",
       "  <tbody>\n",
       "    <tr>\n",
       "      <th>0</th>\n",
       "      <td>https://ostrovok.ru/hotel/united_kingdom/londo...</td>\n",
       "      <td>Apex Temple Court Hotel</td>\n",
       "      <td>1-2 Serjeants Inn Fleet Street, Лондон</td>\n",
       "      <td>Тейт Модерн</td>\n",
       "      <td>1494</td>\n",
       "      <td>408</td>\n",
       "      <td>Блэкфрайарз</td>\n",
       "      <td>10.0</td>\n",
       "      <td>31881</td>\n",
       "      <td>1</td>\n",
       "      <td>1</td>\n",
       "      <td>1</td>\n",
       "      <td>1</td>\n",
       "      <td>0</td>\n",
       "      <td>Массаж, Сауна, Спа-центр, Кондиционер, Отель д...</td>\n",
       "      <td>4</td>\n",
       "    </tr>\n",
       "    <tr>\n",
       "      <th>2</th>\n",
       "      <td>https://ostrovok.ru/hotel/united_kingdom/londo...</td>\n",
       "      <td>Chelsea Cloisters</td>\n",
       "      <td>Sloane Avenue, Лондон</td>\n",
       "      <td>Музей Виктории и Альберта</td>\n",
       "      <td>3185</td>\n",
       "      <td>493</td>\n",
       "      <td>Саут Кенсингтон</td>\n",
       "      <td>8.3</td>\n",
       "      <td>16881</td>\n",
       "      <td>1</td>\n",
       "      <td>0</td>\n",
       "      <td>1</td>\n",
       "      <td>1</td>\n",
       "      <td>0</td>\n",
       "      <td>Салон красоты, Лифт</td>\n",
       "      <td>3</td>\n",
       "    </tr>\n",
       "    <tr>\n",
       "      <th>3</th>\n",
       "      <td>https://ostrovok.ru/hotel/united_kingdom/londo...</td>\n",
       "      <td>Duke of Leinster</td>\n",
       "      <td>20 Leinster Gardens, Лондон</td>\n",
       "      <td>Вокзал Паддингтон</td>\n",
       "      <td>3903</td>\n",
       "      <td>357</td>\n",
       "      <td>Бейсуотер</td>\n",
       "      <td>7.6</td>\n",
       "      <td>26496</td>\n",
       "      <td>0</td>\n",
       "      <td>0</td>\n",
       "      <td>1</td>\n",
       "      <td>0</td>\n",
       "      <td>0</td>\n",
       "      <td>Сауна, Обмен валюты, Отель для некурящих, Отоп...</td>\n",
       "      <td>3</td>\n",
       "    </tr>\n",
       "    <tr>\n",
       "      <th>4</th>\n",
       "      <td>https://ostrovok.ru/hotel/united_kingdom/londo...</td>\n",
       "      <td>Flemings Mayfair</td>\n",
       "      <td>7-12 Half Moon Street, Лондон</td>\n",
       "      <td>Гайд Парк Корнер</td>\n",
       "      <td>1218</td>\n",
       "      <td>171</td>\n",
       "      <td>Грин Парк</td>\n",
       "      <td>6.0</td>\n",
       "      <td>47343</td>\n",
       "      <td>1</td>\n",
       "      <td>1</td>\n",
       "      <td>1</td>\n",
       "      <td>1</td>\n",
       "      <td>1</td>\n",
       "      <td>Трансфер от аэропорта, Кондиционер, Обмен валю...</td>\n",
       "      <td>5</td>\n",
       "    </tr>\n",
       "    <tr>\n",
       "      <th>5</th>\n",
       "      <td>https://ostrovok.ru/hotel/united_kingdom/londo...</td>\n",
       "      <td>Four Seasons Hotel London at Park Lane</td>\n",
       "      <td>Hamilton Place, Лондон</td>\n",
       "      <td>Гайд Парк Корнер</td>\n",
       "      <td>1567</td>\n",
       "      <td>251</td>\n",
       "      <td>Гайд Парк Корнер</td>\n",
       "      <td>8.0</td>\n",
       "      <td>130930</td>\n",
       "      <td>0</td>\n",
       "      <td>1</td>\n",
       "      <td>1</td>\n",
       "      <td>1</td>\n",
       "      <td>1</td>\n",
       "      <td>Массаж, Паровая баня, Сауна, Спа-центр, Банком...</td>\n",
       "      <td>5</td>\n",
       "    </tr>\n",
       "    <tr>\n",
       "      <th>...</th>\n",
       "      <td>...</td>\n",
       "      <td>...</td>\n",
       "      <td>...</td>\n",
       "      <td>...</td>\n",
       "      <td>...</td>\n",
       "      <td>...</td>\n",
       "      <td>...</td>\n",
       "      <td>...</td>\n",
       "      <td>...</td>\n",
       "      <td>...</td>\n",
       "      <td>...</td>\n",
       "      <td>...</td>\n",
       "      <td>...</td>\n",
       "      <td>...</td>\n",
       "      <td>...</td>\n",
       "      <td>...</td>\n",
       "    </tr>\n",
       "    <tr>\n",
       "      <th>119</th>\n",
       "      <td>https://ostrovok.ru/hotel/united_kingdom/londo...</td>\n",
       "      <td>Britannia The International Hotel London, Cana...</td>\n",
       "      <td>163 Marsh Wall, Isle of Dogs, Лондон</td>\n",
       "      <td>Канада Уотер</td>\n",
       "      <td>7238</td>\n",
       "      <td>337</td>\n",
       "      <td>Кенари Уорф</td>\n",
       "      <td>8.2</td>\n",
       "      <td>13667</td>\n",
       "      <td>1</td>\n",
       "      <td>1</td>\n",
       "      <td>1</td>\n",
       "      <td>1</td>\n",
       "      <td>1</td>\n",
       "      <td>Оздоровительный клуб, Паровая баня, Салон крас...</td>\n",
       "      <td>3</td>\n",
       "    </tr>\n",
       "    <tr>\n",
       "      <th>120</th>\n",
       "      <td>https://ostrovok.ru/hotel/united_kingdom/londo...</td>\n",
       "      <td>The Lion &amp; Key Hotel</td>\n",
       "      <td>475-477 High Road Leyton, Лондон</td>\n",
       "      <td>Лейтонстоун</td>\n",
       "      <td>10253</td>\n",
       "      <td>959</td>\n",
       "      <td>Лейтон</td>\n",
       "      <td>10.0</td>\n",
       "      <td>16503</td>\n",
       "      <td>1</td>\n",
       "      <td>0</td>\n",
       "      <td>1</td>\n",
       "      <td>1</td>\n",
       "      <td>0</td>\n",
       "      <td>Лифт, Работают лифты для доступа к верхним эта...</td>\n",
       "      <td>3</td>\n",
       "    </tr>\n",
       "    <tr>\n",
       "      <th>121</th>\n",
       "      <td>https://ostrovok.ru/hotel/united_kingdom/londo...</td>\n",
       "      <td>Inhabit, Queen’s Gardens</td>\n",
       "      <td>1-2 Queens Gardens, Bayswater, W2 3BA, Лондон</td>\n",
       "      <td>Гайд-Парк</td>\n",
       "      <td>3768</td>\n",
       "      <td>386</td>\n",
       "      <td>Паддингтон</td>\n",
       "      <td>7.2</td>\n",
       "      <td>26583</td>\n",
       "      <td>1</td>\n",
       "      <td>1</td>\n",
       "      <td>1</td>\n",
       "      <td>0</td>\n",
       "      <td>0</td>\n",
       "      <td>Оздоровительный клуб, Дежурный врач, Кондицион...</td>\n",
       "      <td>4</td>\n",
       "    </tr>\n",
       "    <tr>\n",
       "      <th>122</th>\n",
       "      <td>https://ostrovok.ru/hotel/united_kingdom/londo...</td>\n",
       "      <td>Tophams Hotel</td>\n",
       "      <td>24-32 Ebury Street, Лондон</td>\n",
       "      <td>Слоан Сквер</td>\n",
       "      <td>1894</td>\n",
       "      <td>237</td>\n",
       "      <td>Виктория</td>\n",
       "      <td>9.5</td>\n",
       "      <td>31057</td>\n",
       "      <td>1</td>\n",
       "      <td>0</td>\n",
       "      <td>1</td>\n",
       "      <td>0</td>\n",
       "      <td>0</td>\n",
       "      <td>Бизнес-центр, Конференц-зал, Лифт, Удобства дл...</td>\n",
       "      <td>4</td>\n",
       "    </tr>\n",
       "    <tr>\n",
       "      <th>123</th>\n",
       "      <td>https://ostrovok.ru/hotel/united_kingdom/londo...</td>\n",
       "      <td>Wedgewood Hotel</td>\n",
       "      <td>49-51 Leinster Square, Лондон</td>\n",
       "      <td>Гайд-Парк</td>\n",
       "      <td>4548</td>\n",
       "      <td>327</td>\n",
       "      <td>Бейсуотер</td>\n",
       "      <td>8.6</td>\n",
       "      <td>12403</td>\n",
       "      <td>1</td>\n",
       "      <td>0</td>\n",
       "      <td>1</td>\n",
       "      <td>0</td>\n",
       "      <td>0</td>\n",
       "      <td>Кондиционер, Отель для некурящих, Отопление, Э...</td>\n",
       "      <td>2</td>\n",
       "    </tr>\n",
       "  </tbody>\n",
       "</table>\n",
       "<p>105 rows × 16 columns</p>\n",
       "</div>"
      ],
      "text/plain": [
       "                                                   url  \\\n",
       "0    https://ostrovok.ru/hotel/united_kingdom/londo...   \n",
       "2    https://ostrovok.ru/hotel/united_kingdom/londo...   \n",
       "3    https://ostrovok.ru/hotel/united_kingdom/londo...   \n",
       "4    https://ostrovok.ru/hotel/united_kingdom/londo...   \n",
       "5    https://ostrovok.ru/hotel/united_kingdom/londo...   \n",
       "..                                                 ...   \n",
       "119  https://ostrovok.ru/hotel/united_kingdom/londo...   \n",
       "120  https://ostrovok.ru/hotel/united_kingdom/londo...   \n",
       "121  https://ostrovok.ru/hotel/united_kingdom/londo...   \n",
       "122  https://ostrovok.ru/hotel/united_kingdom/londo...   \n",
       "123  https://ostrovok.ru/hotel/united_kingdom/londo...   \n",
       "\n",
       "                                                 title  \\\n",
       "0                              Apex Temple Court Hotel   \n",
       "2                                    Chelsea Cloisters   \n",
       "3                                     Duke of Leinster   \n",
       "4                                     Flemings Mayfair   \n",
       "5               Four Seasons Hotel London at Park Lane   \n",
       "..                                                 ...   \n",
       "119  Britannia The International Hotel London, Cana...   \n",
       "120                               The Lion & Key Hotel   \n",
       "121                           Inhabit, Queen’s Gardens   \n",
       "122                                      Tophams Hotel   \n",
       "123                                    Wedgewood Hotel   \n",
       "\n",
       "                                           address           closest_landmark  \\\n",
       "0           1-2 Serjeants Inn Fleet Street, Лондон                Тейт Модерн   \n",
       "2                            Sloane Avenue, Лондон  Музей Виктории и Альберта   \n",
       "3                      20 Leinster Gardens, Лондон          Вокзал Паддингтон   \n",
       "4                    7-12 Half Moon Street, Лондон           Гайд Парк Корнер   \n",
       "5                           Hamilton Place, Лондон           Гайд Парк Корнер   \n",
       "..                                             ...                        ...   \n",
       "119           163 Marsh Wall, Isle of Dogs, Лондон               Канада Уотер   \n",
       "120               475-477 High Road Leyton, Лондон                Лейтонстоун   \n",
       "121  1-2 Queens Gardens, Bayswater, W2 3BA, Лондон                  Гайд-Парк   \n",
       "122                     24-32 Ebury Street, Лондон                Слоан Сквер   \n",
       "123                  49-51 Leinster Square, Лондон                  Гайд-Парк   \n",
       "\n",
       "     distance_centre distance_metro             metro rating   price  \\\n",
       "0               1494            408       Блэкфрайарз   10.0   31881   \n",
       "2               3185            493   Саут Кенсингтон    8.3   16881   \n",
       "3               3903            357         Бейсуотер    7.6   26496   \n",
       "4               1218            171         Грин Парк    6.0   47343   \n",
       "5               1567            251  Гайд Парк Корнер    8.0  130930   \n",
       "..               ...            ...               ...    ...     ...   \n",
       "119             7238            337       Кенари Уорф    8.2   13667   \n",
       "120            10253            959            Лейтон   10.0   16503   \n",
       "121             3768            386        Паддингтон    7.2   26583   \n",
       "122             1894            237          Виктория    9.5   31057   \n",
       "123             4548            327         Бейсуотер    8.6   12403   \n",
       "\n",
       "     temperature_regulation  fitness  free_wifi  parking  pets  \\\n",
       "0                         1        1          1        1     0   \n",
       "2                         1        0          1        1     0   \n",
       "3                         0        0          1        0     0   \n",
       "4                         1        1          1        1     1   \n",
       "5                         0        1          1        1     1   \n",
       "..                      ...      ...        ...      ...   ...   \n",
       "119                       1        1          1        1     1   \n",
       "120                       1        0          1        1     0   \n",
       "121                       1        1          1        0     0   \n",
       "122                       1        0          1        0     0   \n",
       "123                       1        0          1        0     0   \n",
       "\n",
       "                                           convinients star_rating  \n",
       "0    Массаж, Сауна, Спа-центр, Кондиционер, Отель д...           4  \n",
       "2                                  Салон красоты, Лифт           3  \n",
       "3    Сауна, Обмен валюты, Отель для некурящих, Отоп...           3  \n",
       "4    Трансфер от аэропорта, Кондиционер, Обмен валю...           5  \n",
       "5    Массаж, Паровая баня, Сауна, Спа-центр, Банком...           5  \n",
       "..                                                 ...         ...  \n",
       "119  Оздоровительный клуб, Паровая баня, Салон крас...           3  \n",
       "120  Лифт, Работают лифты для доступа к верхним эта...           3  \n",
       "121  Оздоровительный клуб, Дежурный врач, Кондицион...           4  \n",
       "122  Бизнес-центр, Конференц-зал, Лифт, Удобства дл...           4  \n",
       "123  Кондиционер, Отель для некурящих, Отопление, Э...           2  \n",
       "\n",
       "[105 rows x 16 columns]"
      ]
     },
     "execution_count": 37,
     "metadata": {},
     "output_type": "execute_result"
    }
   ],
   "source": [
    "table = table[(table.closest_landmark != 'Na') & (table.star_rating != 'Na')]\n",
    "table"
   ]
  },
  {
   "cell_type": "markdown",
   "id": "471f0470",
   "metadata": {},
   "source": [
    "Посмотрим на районы, в которых располагаются отели. Для того, чтобы получить только уникальные районы из колонки `closest_landmark` в нашем датасете воспользуемся функией `.unique()`. Сохраним полученные категории в переменную `all_regions`. Затем посчитаем количество уникальных категорий мебели при помощи функции `len()`."
   ]
  },
  {
   "cell_type": "code",
   "execution_count": 38,
   "id": "fd71f882",
   "metadata": {},
   "outputs": [
    {
     "name": "stdout",
     "output_type": "stream",
     "text": [
      "Районы: Тейт Модерн, Музей Виктории и Альберта, Вокзал Паддингтон, Гайд Парк Корнер, Вокзал Виктория, Вокзал Юстон, Кингс-Кросс Сент-Панкрас, Стадион Лофтус Роуд, Вокзал Чаринг-Кросс, Западный Бромптон, Ланкастер Гейт, Эджвар, Парсонс Грин, Канада Уотер, Лейтонстоун, Гайд-Парк, Слоан Сквер\n"
     ]
    }
   ],
   "source": [
    "all_regions = table['closest_landmark'].unique() \n",
    "num_of_regions = len(all_regions)\n",
    "print(f\"Районы: {', '.join(all_regions)}\")"
   ]
  },
  {
   "cell_type": "code",
   "execution_count": 39,
   "id": "40320fb5",
   "metadata": {},
   "outputs": [
    {
     "data": {
      "text/plain": [
       "numpy.ndarray"
      ]
     },
     "execution_count": 39,
     "metadata": {},
     "output_type": "execute_result"
    }
   ],
   "source": [
    "type(all_regions)"
   ]
  },
  {
   "cell_type": "code",
   "execution_count": 41,
   "id": "486394fa",
   "metadata": {},
   "outputs": [
    {
     "name": "stdout",
     "output_type": "stream",
     "text": [
      "Количество районов: 17\n"
     ]
    }
   ],
   "source": [
    "print('Количество районов:', num_of_regions)"
   ]
  },
  {
   "cell_type": "markdown",
   "id": "97d50166",
   "metadata": {},
   "source": [
    "Найдем максимальную цену за ночь и отель, который соответствует этой максимальной цене. Для этого при помощи метода `.iloc` выберем первый элемент из стоблца `title` в строке с максимальной ценой доставки."
   ]
  },
  {
   "cell_type": "code",
   "execution_count": 42,
   "id": "d1c89a27",
   "metadata": {},
   "outputs": [
    {
     "name": "stdout",
     "output_type": "stream",
     "text": [
      "Максимальная цена за ночь: 130930 рублей для отеля: Отель Four Seasons Hotel London at Park Lane\n"
     ]
    }
   ],
   "source": [
    "max_price = table['price'].max()\n",
    "max_title = table[table['price'] == max_price]['title'].iloc[0] \n",
    "print(f'Максимальная цена за ночь: {max_price} рублей для отеля: {max_title}') "
   ]
  },
  {
   "cell_type": "markdown",
   "id": "7dc4cfad",
   "metadata": {},
   "source": [
    "Затем мы создаем **новый DataFrame, который содержит только те строки, в которых значение столбца price равно максимальному значению**.\n",
    "Мы выбираем только первый элемент из столбца title полученного DataFrame с помощью метода iloc[0]  \n",
    "Метод iloc() используется для доступа к определенным строкам и столбцам. Синтаксис: df.iloc[номер строки,номер столбца] "
   ]
  },
  {
   "cell_type": "markdown",
   "id": "90cfc458",
   "metadata": {},
   "source": [
    "Аналогично найдем минимальную цену за ночь и отель, который соответствует этой минимальной цене."
   ]
  },
  {
   "cell_type": "code",
   "execution_count": 43,
   "id": "c7e4e9d7",
   "metadata": {},
   "outputs": [
    {
     "name": "stdout",
     "output_type": "stream",
     "text": [
      "Минимальная цена за ночь: 9193 рублей для отеля: Отель 65\n"
     ]
    }
   ],
   "source": [
    "min_price = table['price'].min()\n",
    "min_title = table[table['price'] == min_price]['title'].iloc[0] \n",
    "print(f'Минимальная цена за ночь: {min_price} рублей для отеля: {min_title}')  "
   ]
  },
  {
   "cell_type": "markdown",
   "id": "01210441",
   "metadata": {},
   "source": [
    "Посчитаем среднюю цену за ночь в отелях при помощи метода `.mean()` и округлим до первого знака после запятой при помощи функции`round()`."
   ]
  },
  {
   "cell_type": "code",
   "execution_count": 44,
   "id": "4b3e563a",
   "metadata": {},
   "outputs": [
    {
     "name": "stdout",
     "output_type": "stream",
     "text": [
      "Средняя цена за ночь для всех отелей: 27899.8 рублей\n"
     ]
    }
   ],
   "source": [
    "all_mean_price = table['price'].mean()\n",
    "print(f'Средняя цена за ночь для всех отелей: {round(all_mean_price, 1)} рублей') "
   ]
  },
  {
   "cell_type": "markdown",
   "id": "1a84d778",
   "metadata": {},
   "source": [
    "Посчитаем среднюю цену за ночь в отелях при помощи метода `.median()`и округлим до первого знака после запятой при помощи функции`round()`."
   ]
  },
  {
   "cell_type": "code",
   "execution_count": 45,
   "id": "035114f7",
   "metadata": {},
   "outputs": [
    {
     "name": "stdout",
     "output_type": "stream",
     "text": [
      "Медианнная цена за ночь для всех отелей: 22574.0 рублей\n"
     ]
    }
   ],
   "source": [
    "all_median_price = table['price'].median()\n",
    "print(f'Медианнная цена за ночь для всех отелей: {round(all_median_price, 1)} рублей') "
   ]
  },
  {
   "cell_type": "markdown",
   "id": "16cd2c86",
   "metadata": {},
   "source": [
    "Посчитаем среднюю цену за ночь в отелях для каждого района. Cгруппируем столбец `price` по нашему признаку `closest_landmark` (функция `.groupby()`). Далее при помощи метода `mean()` посчитаем среднюю цену за ночь для отелей в каждом районе."
   ]
  },
  {
   "cell_type": "code",
   "execution_count": 46,
   "id": "41508b3a",
   "metadata": {},
   "outputs": [
    {
     "name": "stdout",
     "output_type": "stream",
     "text": [
      "Средняя цена за ночь для отелей для каждого района: closest_landmark\n",
      "Вокзал Виктория              30515.0\n",
      "Вокзал Паддингтон            26496.0\n",
      "Вокзал Чаринг-Кросс          35212.0\n",
      "Вокзал Юстон                 18112.5\n",
      "Гайд Парк Корнер             89136.5\n",
      "Гайд-Парк                    19493.0\n",
      "Западный Бромптон            14139.0\n",
      "Канада Уотер                 13667.0\n",
      "Кингс-Кросс Сент-Панкрас     26812.0\n",
      "Ланкастер Гейт               14153.0\n",
      "Лейтонстоун                  16503.0\n",
      "Музей Виктории и Альберта    16881.0\n",
      "Парсонс Грин                 22574.0\n",
      "Слоан Сквер                  31057.0\n",
      "Стадион Лофтус Роуд           9193.0\n",
      "Тейт Модерн                  31881.0\n",
      "Эджвар                       12813.0\n",
      "Name: price, dtype: float64\n"
     ]
    }
   ],
   "source": [
    "mean_price = table.groupby('closest_landmark')['price'].mean()\n",
    "print(\"Средняя цена за ночь для отелей для каждого района:\", round(mean_price, 1))"
   ]
  },
  {
   "cell_type": "markdown",
   "id": "3b17655d",
   "metadata": {},
   "source": [
    "Метод groupby() позволяет сгруппировать объекты по значениям определенной колонки."
   ]
  },
  {
   "cell_type": "markdown",
   "id": "e7dde0dd",
   "metadata": {},
   "source": [
    "Посмотрим какая средняя цена за ночь для отелей с фитнес залами. Отфильтруем таблицу по условию наличия фитнес зала и выберем столбец с ценой за ночь."
   ]
  },
  {
   "cell_type": "code",
   "execution_count": 47,
   "id": "1f83ca53",
   "metadata": {},
   "outputs": [
    {
     "name": "stdout",
     "output_type": "stream",
     "text": [
      "Средняя цена на за ночь для отелей с фитнес залами: 39092.1 рублей\n"
     ]
    }
   ],
   "source": [
    "avg_price_fitness = table[table['fitness'] == 1]['price'].mean()\n",
    "print(f\"Средняя цена на за ночь для отелей с фитнес залами: {round(avg_price_fitness, 1)} рублей\")"
   ]
  },
  {
   "cell_type": "markdown",
   "id": "789d8a52",
   "metadata": {},
   "source": [
    "Посмотрим какая средняя цена за ночь для отелей с сауной. При помощи метода `.str.contains()` выберем строки таблицы, в которых столбец convinients содержит слово \"Сауна\", затем выбирем значения столбца price из этих строк."
   ]
  },
  {
   "cell_type": "code",
   "execution_count": null,
   "id": "8d2097f6",
   "metadata": {},
   "outputs": [],
   "source": [
    "r_mean_price = table[table['convinients'].str.contains('Сауна')]['price'].mean()\n",
    "print(f\"Средняя цена на за ночь для отелей с сауной: {round(r_mean_price, 1)} рублей\")"
   ]
  },
  {
   "cell_type": "markdown",
   "id": "5c77e943",
   "metadata": {},
   "source": [
    "Метод str.contains() позволяет проверить наличие подстроки в строке. Если подстрока содержится в исходной строке, метод вернет True, иначе - False."
   ]
  },
  {
   "cell_type": "markdown",
   "id": "e7d61efa",
   "metadata": {},
   "source": [
    "Посмотрим в скольких отелях есть обмен валюты"
   ]
  },
  {
   "cell_type": "code",
   "execution_count": 49,
   "id": "0a06d6b5",
   "metadata": {},
   "outputs": [
    {
     "name": "stdout",
     "output_type": "stream",
     "text": [
      "Обмен валюты есть в 38.1% отелях.\n"
     ]
    }
   ],
   "source": [
    "exchange = table['convinients'].str.count('Обмен валюты').sum()/len(table) * 100\n",
    "print(f\"Обмен валюты есть в {round(exchange, 1)}% отелях.\")"
   ]
  },
  {
   "cell_type": "markdown",
   "id": "687a1f86",
   "metadata": {},
   "source": [
    "Посмотрим в какое количество отелей можно заселяться с животными"
   ]
  },
  {
   "cell_type": "code",
   "execution_count": 50,
   "id": "24cddfee",
   "metadata": {},
   "outputs": [
    {
     "name": "stdout",
     "output_type": "stream",
     "text": [
      "Заселение с животными разрешено в 28.6% отелей\n"
     ]
    }
   ],
   "source": [
    "with_pets = len(table[table['pets'] == 1])/len(table) * 100\n",
    "print(f'Заселение с животными разрешено в {round(with_pets, 1)}% отелей')"
   ]
  },
  {
   "cell_type": "markdown",
   "id": "b22c64dc",
   "metadata": {},
   "source": [
    "Посмотрим есть ли взаимосвязь между близостью к центру города и ценой за ночь."
   ]
  },
  {
   "cell_type": "code",
   "execution_count": 51,
   "id": "dea3b6f1",
   "metadata": {},
   "outputs": [
    {
     "name": "stdout",
     "output_type": "stream",
     "text": [
      "Коэффициент корреляции между близостью к центру города и ценой за ночь: -0.3643\n"
     ]
    }
   ],
   "source": [
    "corr = table['price'].corr(table['distance_centre']).round(4)\n",
    "print(f\"Коэффициент корреляции между близостью к центру города и ценой за ночь: {round(corr, 4)}\")"
   ]
  },
  {
   "cell_type": "markdown",
   "id": "32c34788",
   "metadata": {},
   "source": [
    "Связь обратная: чем меньше расстояние до центра (чем мы ближе), тем больше будет цена за ночь."
   ]
  },
  {
   "cell_type": "markdown",
   "id": "044beabc",
   "metadata": {},
   "source": [
    "Посмотрим есть ли взаимосвязь между наличием фитнес зала и ценой за ночь."
   ]
  },
  {
   "cell_type": "code",
   "execution_count": 52,
   "id": "a0ac1130",
   "metadata": {},
   "outputs": [
    {
     "name": "stdout",
     "output_type": "stream",
     "text": [
      "Коэффициент корреляции между наличием фитнес зала и ценой за ночь: 0.3882\n"
     ]
    }
   ],
   "source": [
    "corr = table['price'].corr(table['fitness'])\n",
    "print(f\"Коэффициент корреляции между наличием фитнес зала и ценой за ночь: {round(corr, 4)}\")"
   ]
  },
  {
   "cell_type": "markdown",
   "id": "069c8ebe",
   "metadata": {},
   "source": [
    "Связь положительная: есть фитнес-зал есть, цена будет дороже."
   ]
  },
  {
   "cell_type": "markdown",
   "id": "7efa77c2",
   "metadata": {},
   "source": [
    "Значения корреляции около 0,4 можно считать средними. Проверим, есть ли характеристики, которые сильно коррелируют."
   ]
  },
  {
   "cell_type": "code",
   "execution_count": 53,
   "id": "5779ca4c",
   "metadata": {},
   "outputs": [
    {
     "name": "stdout",
     "output_type": "stream",
     "text": [
      "                        distance_centre     price  temperature_regulation  \\\n",
      "distance_centre                1.000000 -0.364252                0.174722   \n",
      "price                         -0.364252  1.000000               -0.299912   \n",
      "temperature_regulation         0.174722 -0.299912                1.000000   \n",
      "fitness                       -0.182637  0.388156               -0.113228   \n",
      "free_wifi                      0.134291  0.119352               -0.175412   \n",
      "parking                        0.185557  0.197412                0.311376   \n",
      "pets                          -0.184528  0.409025               -0.155043   \n",
      "\n",
      "                         fitness  free_wifi   parking      pets  \n",
      "distance_centre        -0.182637   0.134291  0.185557 -0.184528  \n",
      "price                   0.388156   0.119352  0.197412  0.409025  \n",
      "temperature_regulation -0.113228  -0.175412  0.311376 -0.155043  \n",
      "fitness                 1.000000   0.193649  0.361111  0.304290  \n",
      "free_wifi               0.193649   1.000000 -0.193649 -0.353553  \n",
      "parking                 0.361111  -0.193649  1.000000  0.334719  \n",
      "pets                    0.304290  -0.353553  0.334719  1.000000  \n"
     ]
    }
   ],
   "source": [
    "corr_matrix = table.corr()\n",
    "print(corr_matrix)"
   ]
  },
  {
   "cell_type": "markdown",
   "id": "7a592f5b",
   "metadata": {},
   "source": [
    "Наибольшая корреляция наблюдается между ценой и разрешением заселяться с домашними животными (0,4) и между ценой и наличием фитнес зала (0,388)."
   ]
  },
  {
   "cell_type": "markdown",
   "id": "d3ca6b38",
   "metadata": {},
   "source": [
    "Посмотрим есть ли выбросы в ценах за ночь. Посчитаем верхний и нижний квантили и верхний и нижний пределы."
   ]
  },
  {
   "cell_type": "code",
   "execution_count": 54,
   "id": "af24ffe0",
   "metadata": {},
   "outputs": [
    {
     "name": "stdout",
     "output_type": "stream",
     "text": [
      "31057.0\n",
      "14153.0\n"
     ]
    }
   ],
   "source": [
    "q3 = table['price'].quantile(0.75)\n",
    "q1 = table['price'].quantile(0.25)\n",
    "d = q3 - q1\n",
    "upper = q3 + 1.5*d\n",
    "lower = q1 - 1.5*d\n",
    "print(q3)\n",
    "print(q1)"
   ]
  },
  {
   "cell_type": "markdown",
   "id": "00c789f4",
   "metadata": {},
   "source": [
    "Посмотрим на выбросы. Цена товара будет являться выбросом, если она меньше нижнего предела или больше верхнего. \n",
    "Вычислим среднее значение цен за ночь до удаления выбросов.\n",
    "Вычислим среднее значение цен за ночь после удаления выбросов. Для этого из столбца price выберем элементы, которые не являются выбросами (которые не равны True в логической серии outliers_amount) и найдем их среднее значение."
   ]
  },
  {
   "cell_type": "code",
   "execution_count": 55,
   "id": "262e5993",
   "metadata": {},
   "outputs": [
    {
     "name": "stdout",
     "output_type": "stream",
     "text": [
      "Количество выбросов в цене за ночь: 5\n",
      "Среднее по цене за ночь до удаления выбросов: 27899.761904761905\n",
      "Среднее по цене за ночь после удаления выбросов: 22748.25\n"
     ]
    }
   ],
   "source": [
    "outliers_amount = (table['price'] < lower) | (table['price'] > upper)\n",
    "mean_before = table['price'].mean()\n",
    "mean_after = table['price'].loc[~outliers_amount].mean()\n",
    "print(f\"Количество выбросов в цене за ночь: {outliers_amount.sum()}\")\n",
    "print(f\"Среднее по цене за ночь до удаления выбросов: {mean_before}\")\n",
    "print(f\"Среднее по цене за ночь после удаления выбросов: {mean_after}\")"
   ]
  },
  {
   "cell_type": "markdown",
   "id": "05729c1f",
   "metadata": {},
   "source": [
    "~outliers_amount - отсеивание выбросов. ~ - возвращаются наблюдения, которые не являются выбросами."
   ]
  },
  {
   "cell_type": "markdown",
   "id": "6b192151",
   "metadata": {},
   "source": [
    "Создадим признак для цены за ночь — низкая, средняя, высокая (границы определим в соотвествии с квантилями). Сгруппируем данные по району и цене (новому признаку), посчитаем среднюю цену за ночь."
   ]
  },
  {
   "cell_type": "code",
   "execution_count": 56,
   "id": "c3ac2751",
   "metadata": {},
   "outputs": [
    {
     "data": {
      "text/html": [
       "<div>\n",
       "<style scoped>\n",
       "    .dataframe tbody tr th:only-of-type {\n",
       "        vertical-align: middle;\n",
       "    }\n",
       "\n",
       "    .dataframe tbody tr th {\n",
       "        vertical-align: top;\n",
       "    }\n",
       "\n",
       "    .dataframe thead th {\n",
       "        text-align: right;\n",
       "    }\n",
       "</style>\n",
       "<table border=\"1\" class=\"dataframe\">\n",
       "  <thead>\n",
       "    <tr style=\"text-align: right;\">\n",
       "      <th></th>\n",
       "      <th></th>\n",
       "      <th>price</th>\n",
       "    </tr>\n",
       "    <tr>\n",
       "      <th>closest_landmark</th>\n",
       "      <th>price category</th>\n",
       "      <th></th>\n",
       "    </tr>\n",
       "  </thead>\n",
       "  <tbody>\n",
       "    <tr>\n",
       "      <th rowspan=\"3\" valign=\"top\">Вокзал Виктория</th>\n",
       "      <th>низкая</th>\n",
       "      <td>NaN</td>\n",
       "    </tr>\n",
       "    <tr>\n",
       "      <th>средняя</th>\n",
       "      <td>23130.0</td>\n",
       "    </tr>\n",
       "    <tr>\n",
       "      <th>высокая</th>\n",
       "      <td>37900.0</td>\n",
       "    </tr>\n",
       "    <tr>\n",
       "      <th rowspan=\"3\" valign=\"top\">Вокзал Паддингтон</th>\n",
       "      <th>низкая</th>\n",
       "      <td>NaN</td>\n",
       "    </tr>\n",
       "    <tr>\n",
       "      <th>средняя</th>\n",
       "      <td>26496.0</td>\n",
       "    </tr>\n",
       "    <tr>\n",
       "      <th>высокая</th>\n",
       "      <td>NaN</td>\n",
       "    </tr>\n",
       "    <tr>\n",
       "      <th rowspan=\"3\" valign=\"top\">Вокзал Чаринг-Кросс</th>\n",
       "      <th>низкая</th>\n",
       "      <td>NaN</td>\n",
       "    </tr>\n",
       "    <tr>\n",
       "      <th>средняя</th>\n",
       "      <td>NaN</td>\n",
       "    </tr>\n",
       "    <tr>\n",
       "      <th>высокая</th>\n",
       "      <td>35212.0</td>\n",
       "    </tr>\n",
       "    <tr>\n",
       "      <th rowspan=\"3\" valign=\"top\">Вокзал Юстон</th>\n",
       "      <th>низкая</th>\n",
       "      <td>NaN</td>\n",
       "    </tr>\n",
       "    <tr>\n",
       "      <th>средняя</th>\n",
       "      <td>18112.5</td>\n",
       "    </tr>\n",
       "    <tr>\n",
       "      <th>высокая</th>\n",
       "      <td>NaN</td>\n",
       "    </tr>\n",
       "    <tr>\n",
       "      <th rowspan=\"3\" valign=\"top\">Гайд Парк Корнер</th>\n",
       "      <th>низкая</th>\n",
       "      <td>NaN</td>\n",
       "    </tr>\n",
       "    <tr>\n",
       "      <th>средняя</th>\n",
       "      <td>NaN</td>\n",
       "    </tr>\n",
       "    <tr>\n",
       "      <th>высокая</th>\n",
       "      <td>89136.5</td>\n",
       "    </tr>\n",
       "    <tr>\n",
       "      <th rowspan=\"3\" valign=\"top\">Гайд-Парк</th>\n",
       "      <th>низкая</th>\n",
       "      <td>12403.0</td>\n",
       "    </tr>\n",
       "    <tr>\n",
       "      <th>средняя</th>\n",
       "      <td>26583.0</td>\n",
       "    </tr>\n",
       "    <tr>\n",
       "      <th>высокая</th>\n",
       "      <td>NaN</td>\n",
       "    </tr>\n",
       "    <tr>\n",
       "      <th rowspan=\"3\" valign=\"top\">Западный Бромптон</th>\n",
       "      <th>низкая</th>\n",
       "      <td>14139.0</td>\n",
       "    </tr>\n",
       "    <tr>\n",
       "      <th>средняя</th>\n",
       "      <td>NaN</td>\n",
       "    </tr>\n",
       "    <tr>\n",
       "      <th>высокая</th>\n",
       "      <td>NaN</td>\n",
       "    </tr>\n",
       "    <tr>\n",
       "      <th rowspan=\"3\" valign=\"top\">Канада Уотер</th>\n",
       "      <th>низкая</th>\n",
       "      <td>13667.0</td>\n",
       "    </tr>\n",
       "    <tr>\n",
       "      <th>средняя</th>\n",
       "      <td>NaN</td>\n",
       "    </tr>\n",
       "    <tr>\n",
       "      <th>высокая</th>\n",
       "      <td>NaN</td>\n",
       "    </tr>\n",
       "    <tr>\n",
       "      <th rowspan=\"3\" valign=\"top\">Кингс-Кросс Сент-Панкрас</th>\n",
       "      <th>низкая</th>\n",
       "      <td>NaN</td>\n",
       "    </tr>\n",
       "    <tr>\n",
       "      <th>средняя</th>\n",
       "      <td>26812.0</td>\n",
       "    </tr>\n",
       "    <tr>\n",
       "      <th>высокая</th>\n",
       "      <td>NaN</td>\n",
       "    </tr>\n",
       "    <tr>\n",
       "      <th rowspan=\"3\" valign=\"top\">Ланкастер Гейт</th>\n",
       "      <th>низкая</th>\n",
       "      <td>14153.0</td>\n",
       "    </tr>\n",
       "    <tr>\n",
       "      <th>средняя</th>\n",
       "      <td>NaN</td>\n",
       "    </tr>\n",
       "    <tr>\n",
       "      <th>высокая</th>\n",
       "      <td>NaN</td>\n",
       "    </tr>\n",
       "    <tr>\n",
       "      <th rowspan=\"3\" valign=\"top\">Лейтонстоун</th>\n",
       "      <th>низкая</th>\n",
       "      <td>NaN</td>\n",
       "    </tr>\n",
       "    <tr>\n",
       "      <th>средняя</th>\n",
       "      <td>16503.0</td>\n",
       "    </tr>\n",
       "    <tr>\n",
       "      <th>высокая</th>\n",
       "      <td>NaN</td>\n",
       "    </tr>\n",
       "    <tr>\n",
       "      <th rowspan=\"3\" valign=\"top\">Музей Виктории и Альберта</th>\n",
       "      <th>низкая</th>\n",
       "      <td>NaN</td>\n",
       "    </tr>\n",
       "    <tr>\n",
       "      <th>средняя</th>\n",
       "      <td>16881.0</td>\n",
       "    </tr>\n",
       "    <tr>\n",
       "      <th>высокая</th>\n",
       "      <td>NaN</td>\n",
       "    </tr>\n",
       "    <tr>\n",
       "      <th rowspan=\"3\" valign=\"top\">Парсонс Грин</th>\n",
       "      <th>низкая</th>\n",
       "      <td>NaN</td>\n",
       "    </tr>\n",
       "    <tr>\n",
       "      <th>средняя</th>\n",
       "      <td>22574.0</td>\n",
       "    </tr>\n",
       "    <tr>\n",
       "      <th>высокая</th>\n",
       "      <td>NaN</td>\n",
       "    </tr>\n",
       "    <tr>\n",
       "      <th rowspan=\"3\" valign=\"top\">Слоан Сквер</th>\n",
       "      <th>низкая</th>\n",
       "      <td>NaN</td>\n",
       "    </tr>\n",
       "    <tr>\n",
       "      <th>средняя</th>\n",
       "      <td>NaN</td>\n",
       "    </tr>\n",
       "    <tr>\n",
       "      <th>высокая</th>\n",
       "      <td>31057.0</td>\n",
       "    </tr>\n",
       "    <tr>\n",
       "      <th rowspan=\"3\" valign=\"top\">Стадион Лофтус Роуд</th>\n",
       "      <th>низкая</th>\n",
       "      <td>9193.0</td>\n",
       "    </tr>\n",
       "    <tr>\n",
       "      <th>средняя</th>\n",
       "      <td>NaN</td>\n",
       "    </tr>\n",
       "    <tr>\n",
       "      <th>высокая</th>\n",
       "      <td>NaN</td>\n",
       "    </tr>\n",
       "    <tr>\n",
       "      <th rowspan=\"3\" valign=\"top\">Тейт Модерн</th>\n",
       "      <th>низкая</th>\n",
       "      <td>NaN</td>\n",
       "    </tr>\n",
       "    <tr>\n",
       "      <th>средняя</th>\n",
       "      <td>NaN</td>\n",
       "    </tr>\n",
       "    <tr>\n",
       "      <th>высокая</th>\n",
       "      <td>31881.0</td>\n",
       "    </tr>\n",
       "    <tr>\n",
       "      <th rowspan=\"3\" valign=\"top\">Эджвар</th>\n",
       "      <th>низкая</th>\n",
       "      <td>12813.0</td>\n",
       "    </tr>\n",
       "    <tr>\n",
       "      <th>средняя</th>\n",
       "      <td>NaN</td>\n",
       "    </tr>\n",
       "    <tr>\n",
       "      <th>высокая</th>\n",
       "      <td>NaN</td>\n",
       "    </tr>\n",
       "  </tbody>\n",
       "</table>\n",
       "</div>"
      ],
      "text/plain": [
       "                                            price\n",
       "closest_landmark          price category         \n",
       "Вокзал Виктория           низкая              NaN\n",
       "                          средняя         23130.0\n",
       "                          высокая         37900.0\n",
       "Вокзал Паддингтон         низкая              NaN\n",
       "                          средняя         26496.0\n",
       "                          высокая             NaN\n",
       "Вокзал Чаринг-Кросс       низкая              NaN\n",
       "                          средняя             NaN\n",
       "                          высокая         35212.0\n",
       "Вокзал Юстон              низкая              NaN\n",
       "                          средняя         18112.5\n",
       "                          высокая             NaN\n",
       "Гайд Парк Корнер          низкая              NaN\n",
       "                          средняя             NaN\n",
       "                          высокая         89136.5\n",
       "Гайд-Парк                 низкая          12403.0\n",
       "                          средняя         26583.0\n",
       "                          высокая             NaN\n",
       "Западный Бромптон         низкая          14139.0\n",
       "                          средняя             NaN\n",
       "                          высокая             NaN\n",
       "Канада Уотер              низкая          13667.0\n",
       "                          средняя             NaN\n",
       "                          высокая             NaN\n",
       "Кингс-Кросс Сент-Панкрас  низкая              NaN\n",
       "                          средняя         26812.0\n",
       "                          высокая             NaN\n",
       "Ланкастер Гейт            низкая          14153.0\n",
       "                          средняя             NaN\n",
       "                          высокая             NaN\n",
       "Лейтонстоун               низкая              NaN\n",
       "                          средняя         16503.0\n",
       "                          высокая             NaN\n",
       "Музей Виктории и Альберта низкая              NaN\n",
       "                          средняя         16881.0\n",
       "                          высокая             NaN\n",
       "Парсонс Грин              низкая              NaN\n",
       "                          средняя         22574.0\n",
       "                          высокая             NaN\n",
       "Слоан Сквер               низкая              NaN\n",
       "                          средняя             NaN\n",
       "                          высокая         31057.0\n",
       "Стадион Лофтус Роуд       низкая           9193.0\n",
       "                          средняя             NaN\n",
       "                          высокая             NaN\n",
       "Тейт Модерн               низкая              NaN\n",
       "                          средняя             NaN\n",
       "                          высокая         31881.0\n",
       "Эджвар                    низкая          12813.0\n",
       "                          средняя             NaN\n",
       "                          высокая             NaN"
      ]
     },
     "execution_count": 56,
     "metadata": {},
     "output_type": "execute_result"
    }
   ],
   "source": [
    "borders = [0, 14153, 26812, max(table['price'])] \n",
    "borders_name = ['низкая', 'средняя', 'высокая'] \n",
    "table['price category'] = pd.cut(table['price'], bins = borders, labels = borders_name)\n",
    "table.groupby(['closest_landmark', 'price category'])[['price']].mean().round(1)   "
   ]
  },
  {
   "cell_type": "markdown",
   "id": "111a2d25",
   "metadata": {},
   "source": [
    "Добавление нового столбца 'price category' в таблицу \"table\". **Значения этого столбца определяются путем разделения значений в столбце 'price' на категории с помощью функции pd.cut()**. \n",
    "Группировка таблицы \"table\" по двум столбцам: 'closestlandmark' и 'price category'.  мы хотим узнать среднюю цену на жилье для каждой комбинации ближайшей достопримечательности и категории цены, мы выбираем только столбец 'price' для агрегирования. "
   ]
  },
  {
   "cell_type": "code",
   "execution_count": 57,
   "id": "95fb9930",
   "metadata": {},
   "outputs": [
    {
     "name": "stdout",
     "output_type": "stream",
     "text": [
      "Район с самыми дорогими отелями: Гайд Парк Корнер\n"
     ]
    }
   ],
   "source": [
    "max_category = table.groupby(['closest_landmark'])[['price']].mean().idxmax()[0] \n",
    "print('Район с самыми дорогими отелями:', max_category)  "
   ]
  },
  {
   "cell_type": "markdown",
   "id": "cdb34703",
   "metadata": {},
   "source": [
    "Метод idxmax() используется для нахождения индекса строки или столбца, содержащего максимальное значение\n",
    "используя метод .loc, мы можем получить значение ячейки в столбце 'Region' для этой строки."
   ]
  },
  {
   "cell_type": "markdown",
   "id": "18fbc289",
   "metadata": {},
   "source": [
    "Создадим признак для расстояния от отеля от центра — далеко от центра, близко к центру, в центре (границы определим в соотвествии с квантилями). "
   ]
  },
  {
   "cell_type": "code",
   "execution_count": 58,
   "id": "3bd43079",
   "metadata": {},
   "outputs": [
    {
     "name": "stdout",
     "output_type": "stream",
     "text": [
      "4892.0\n",
      "1567.0\n"
     ]
    }
   ],
   "source": [
    "q3 = table['distance_centre'].quantile(0.75)\n",
    "q1 = table['distance_centre'].quantile(0.25)\n",
    "d = q3 - q1\n",
    "upper = q3 + 1.5*d\n",
    "lower = q1 - 1.5*d\n",
    "print(q3)\n",
    "print(q1)"
   ]
  },
  {
   "cell_type": "code",
   "execution_count": 40,
   "id": "197bc158",
   "metadata": {},
   "outputs": [
    {
     "data": {
      "text/html": [
       "<div>\n",
       "<style scoped>\n",
       "    .dataframe tbody tr th:only-of-type {\n",
       "        vertical-align: middle;\n",
       "    }\n",
       "\n",
       "    .dataframe tbody tr th {\n",
       "        vertical-align: top;\n",
       "    }\n",
       "\n",
       "    .dataframe thead th {\n",
       "        text-align: right;\n",
       "    }\n",
       "</style>\n",
       "<table border=\"1\" class=\"dataframe\">\n",
       "  <thead>\n",
       "    <tr style=\"text-align: right;\">\n",
       "      <th></th>\n",
       "      <th>url</th>\n",
       "      <th>title</th>\n",
       "      <th>address</th>\n",
       "      <th>closest_landmark</th>\n",
       "      <th>distance_centre</th>\n",
       "      <th>distance_metro</th>\n",
       "      <th>metro</th>\n",
       "      <th>rating</th>\n",
       "      <th>price</th>\n",
       "      <th>temperature_regulation</th>\n",
       "      <th>fitness</th>\n",
       "      <th>free_wifi</th>\n",
       "      <th>parking</th>\n",
       "      <th>pets</th>\n",
       "      <th>convinients</th>\n",
       "      <th>star_rating</th>\n",
       "      <th>d_centre</th>\n",
       "    </tr>\n",
       "  </thead>\n",
       "  <tbody>\n",
       "    <tr>\n",
       "      <th>0</th>\n",
       "      <td>https://ostrovok.ru/hotel/united_kingdom/londo...</td>\n",
       "      <td>Apex Temple Court Hotel</td>\n",
       "      <td>1-2 Serjeants Inn Fleet Street, Лондон</td>\n",
       "      <td>Тейт Модерн</td>\n",
       "      <td>1494</td>\n",
       "      <td>408</td>\n",
       "      <td>Блэкфрайарз</td>\n",
       "      <td>10.0</td>\n",
       "      <td>31881</td>\n",
       "      <td>1</td>\n",
       "      <td>1</td>\n",
       "      <td>1</td>\n",
       "      <td>1</td>\n",
       "      <td>0</td>\n",
       "      <td>Массаж, Сауна, Спа-центр, Кондиционер, Отель д...</td>\n",
       "      <td>4</td>\n",
       "      <td>далеко от центра</td>\n",
       "    </tr>\n",
       "    <tr>\n",
       "      <th>2</th>\n",
       "      <td>https://ostrovok.ru/hotel/united_kingdom/londo...</td>\n",
       "      <td>Chelsea Cloisters</td>\n",
       "      <td>Sloane Avenue, Лондон</td>\n",
       "      <td>Музей Виктории и Альберта</td>\n",
       "      <td>3185</td>\n",
       "      <td>493</td>\n",
       "      <td>Саут Кенсингтон</td>\n",
       "      <td>8.3</td>\n",
       "      <td>16881</td>\n",
       "      <td>1</td>\n",
       "      <td>0</td>\n",
       "      <td>1</td>\n",
       "      <td>1</td>\n",
       "      <td>0</td>\n",
       "      <td>Салон красоты, Лифт</td>\n",
       "      <td>3</td>\n",
       "      <td>близко к центру</td>\n",
       "    </tr>\n",
       "    <tr>\n",
       "      <th>3</th>\n",
       "      <td>https://ostrovok.ru/hotel/united_kingdom/londo...</td>\n",
       "      <td>Duke of Leinster</td>\n",
       "      <td>20 Leinster Gardens, Лондон</td>\n",
       "      <td>Вокзал Паддингтон</td>\n",
       "      <td>3903</td>\n",
       "      <td>357</td>\n",
       "      <td>Бейсуотер</td>\n",
       "      <td>7.6</td>\n",
       "      <td>26496</td>\n",
       "      <td>0</td>\n",
       "      <td>0</td>\n",
       "      <td>1</td>\n",
       "      <td>0</td>\n",
       "      <td>0</td>\n",
       "      <td>Сауна, Обмен валюты, Отель для некурящих, Отоп...</td>\n",
       "      <td>3</td>\n",
       "      <td>близко к центру</td>\n",
       "    </tr>\n",
       "    <tr>\n",
       "      <th>4</th>\n",
       "      <td>https://ostrovok.ru/hotel/united_kingdom/londo...</td>\n",
       "      <td>Flemings Mayfair</td>\n",
       "      <td>7-12 Half Moon Street, Лондон</td>\n",
       "      <td>Гайд Парк Корнер</td>\n",
       "      <td>1218</td>\n",
       "      <td>171</td>\n",
       "      <td>Грин Парк</td>\n",
       "      <td>6.0</td>\n",
       "      <td>47343</td>\n",
       "      <td>1</td>\n",
       "      <td>1</td>\n",
       "      <td>1</td>\n",
       "      <td>1</td>\n",
       "      <td>1</td>\n",
       "      <td>Трансфер от аэропорта, Кондиционер, Обмен валю...</td>\n",
       "      <td>5</td>\n",
       "      <td>далеко от центра</td>\n",
       "    </tr>\n",
       "    <tr>\n",
       "      <th>5</th>\n",
       "      <td>https://ostrovok.ru/hotel/united_kingdom/londo...</td>\n",
       "      <td>Four Seasons Hotel London at Park Lane</td>\n",
       "      <td>Hamilton Place, Лондон</td>\n",
       "      <td>Гайд Парк Корнер</td>\n",
       "      <td>1567</td>\n",
       "      <td>251</td>\n",
       "      <td>Гайд Парк Корнер</td>\n",
       "      <td>8.0</td>\n",
       "      <td>130930</td>\n",
       "      <td>0</td>\n",
       "      <td>1</td>\n",
       "      <td>1</td>\n",
       "      <td>1</td>\n",
       "      <td>1</td>\n",
       "      <td>Массаж, Паровая баня, Сауна, Спа-центр, Банком...</td>\n",
       "      <td>5</td>\n",
       "      <td>далеко от центра</td>\n",
       "    </tr>\n",
       "  </tbody>\n",
       "</table>\n",
       "</div>"
      ],
      "text/plain": [
       "                                                 url  \\\n",
       "0  https://ostrovok.ru/hotel/united_kingdom/londo...   \n",
       "2  https://ostrovok.ru/hotel/united_kingdom/londo...   \n",
       "3  https://ostrovok.ru/hotel/united_kingdom/londo...   \n",
       "4  https://ostrovok.ru/hotel/united_kingdom/londo...   \n",
       "5  https://ostrovok.ru/hotel/united_kingdom/londo...   \n",
       "\n",
       "                                    title  \\\n",
       "0                 Apex Temple Court Hotel   \n",
       "2                       Chelsea Cloisters   \n",
       "3                        Duke of Leinster   \n",
       "4                        Flemings Mayfair   \n",
       "5  Four Seasons Hotel London at Park Lane   \n",
       "\n",
       "                                  address           closest_landmark  \\\n",
       "0  1-2 Serjeants Inn Fleet Street, Лондон                Тейт Модерн   \n",
       "2                   Sloane Avenue, Лондон  Музей Виктории и Альберта   \n",
       "3             20 Leinster Gardens, Лондон          Вокзал Паддингтон   \n",
       "4           7-12 Half Moon Street, Лондон           Гайд Парк Корнер   \n",
       "5                  Hamilton Place, Лондон           Гайд Парк Корнер   \n",
       "\n",
       "   distance_centre distance_metro             metro rating   price  \\\n",
       "0             1494            408       Блэкфрайарз   10.0   31881   \n",
       "2             3185            493   Саут Кенсингтон    8.3   16881   \n",
       "3             3903            357         Бейсуотер    7.6   26496   \n",
       "4             1218            171         Грин Парк    6.0   47343   \n",
       "5             1567            251  Гайд Парк Корнер    8.0  130930   \n",
       "\n",
       "   temperature_regulation  fitness  free_wifi  parking  pets  \\\n",
       "0                       1        1          1        1     0   \n",
       "2                       1        0          1        1     0   \n",
       "3                       0        0          1        0     0   \n",
       "4                       1        1          1        1     1   \n",
       "5                       0        1          1        1     1   \n",
       "\n",
       "                                         convinients star_rating  \\\n",
       "0  Массаж, Сауна, Спа-центр, Кондиционер, Отель д...           4   \n",
       "2                                Салон красоты, Лифт           3   \n",
       "3  Сауна, Обмен валюты, Отель для некурящих, Отоп...           3   \n",
       "4  Трансфер от аэропорта, Кондиционер, Обмен валю...           5   \n",
       "5  Массаж, Паровая баня, Сауна, Спа-центр, Банком...           5   \n",
       "\n",
       "           d_centre  \n",
       "0  далеко от центра  \n",
       "2   близко к центру  \n",
       "3   близко к центру  \n",
       "4  далеко от центра  \n",
       "5  далеко от центра  "
      ]
     },
     "execution_count": 40,
     "metadata": {},
     "output_type": "execute_result"
    }
   ],
   "source": [
    "table['d_centre'] = table['distance_centre'].apply(lambda x: 'далеко от центра' if x < 1584.0 else 'в центре' if x > 4892.0 else 'близко к центру')\n",
    "table.head()"
   ]
  },
  {
   "cell_type": "markdown",
   "id": "92dabb6c",
   "metadata": {},
   "source": [
    "Посмотрим сколько отелей в каждой категории."
   ]
  },
  {
   "cell_type": "code",
   "execution_count": 60,
   "id": "14e67e49",
   "metadata": {},
   "outputs": [
    {
     "name": "stdout",
     "output_type": "stream",
     "text": [
      "Количество отелей в центре: 28.6%\n",
      "Количество отелей близко к центру: 23.8%\n",
      "Количество отелей далеко от центра: 47.6%\n"
     ]
    }
   ],
   "source": [
    "amount = table.groupby('d_centre')['title'].count()\n",
    "print(f'Количество отелей в центре: {round(amount[2]/len(table) * 100, 1)}%')\n",
    "print(f'Количество отелей близко к центру: {round(amount[1]/len(table) * 100, 1)}%')\n",
    "print(f'Количество отелей далеко от центра: {round(amount[0]/len(table) * 100, 1)}%')"
   ]
  },
  {
   "cell_type": "code",
   "execution_count": 42,
   "id": "3403f0a6",
   "metadata": {},
   "outputs": [
    {
     "data": {
      "text/plain": [
       "('Apex Temple Court Hotel', 31881)"
      ]
     },
     "execution_count": 42,
     "metadata": {},
     "output_type": "execute_result"
    }
   ],
   "source": [
    "def hotels_with_spa(table):\n",
    "    for i in range(len(table['title'])):\n",
    "        if table['fitness'][i] == 1 and any(x in table['convinients'][i] for x in ['Массаж', 'Сауна', 'Спа-центр']):\n",
    "            return table['title'][i], table['price'][i]\n",
    "hotels_with_spa(table)"
   ]
  },
  {
   "cell_type": "markdown",
   "id": "d04b8f0e",
   "metadata": {},
   "source": [
    "если значение в столбце 'fitness' у **строки с номером i** равно 1, и если в столбце 'convinients' у строки с номером i есть хотя бы одно из значений 'Массаж', 'Сауна', 'Спа-центр'. Если оба условия истинны, то функция возвращает название и цену объекта из соответствующих столбцов 'title' и 'price'."
   ]
  },
  {
   "cell_type": "markdown",
   "id": "f963346e",
   "metadata": {},
   "source": [
    "## Визуализация"
   ]
  },
  {
   "cell_type": "markdown",
   "id": "28487ca5",
   "metadata": {},
   "source": [
    "Опишем характеристики"
   ]
  },
  {
   "cell_type": "code",
   "execution_count": 64,
   "id": "90738b7f",
   "metadata": {},
   "outputs": [
    {
     "data": {
      "text/plain": [
       "count                    105\n",
       "unique                    16\n",
       "top       метро Рассел Сквер\n",
       "freq                      15\n",
       "Name: metro, dtype: object"
      ]
     },
     "execution_count": 64,
     "metadata": {},
     "output_type": "execute_result"
    }
   ],
   "source": [
    "table['metro'].describe()"
   ]
  },
  {
   "cell_type": "markdown",
   "id": "61362ce6",
   "metadata": {},
   "source": [
    "count - количество записей в столбце \"metro\". \n",
    "\"freq\" - частота наиболее встречающегося значения в столбце \"metro\". Взначение \"метро Рассел Сквер\" встречается 15 раз в столбце \"metro\"."
   ]
  },
  {
   "cell_type": "code",
   "execution_count": 65,
   "id": "f51b0949",
   "metadata": {},
   "outputs": [
    {
     "data": {
      "image/png": "[encoded data removed]",
      "text/plain": [
       "<Figure size 6400x3600 with 1 Axes>"
      ]
     },
     "metadata": {},
     "output_type": "display_data"
    }
   ],
   "source": [
    "fig, ax = plt.subplots(figsize =(16, 9), dpi = 400) # первая переменная - картинка, вторая - оси\n",
    "ax.set_xlabel(\"Price\", fontsize = 15)\n",
    "ax.set_ylabel(\"Count\", fontsize = 15)\n",
    "table_plot = sns.histplot(table['price']) # сохраняем в переменную гистограмму\n",
    "fig = table_plot.get_figure();\n",
    "fig.savefig('price_hist.png') # сохраняем картинку с гистограммой"
   ]
  },
  {
   "cell_type": "markdown",
   "id": "c0b239c7",
   "metadata": {},
   "source": [
    "создаем переменные fig и ax (изображение и оси графика).   \n",
    "указываем размер и разрешение графика. \n",
    "задаем подписи осей x и y с помощью методов set_xlabel и set_ylabel.  \n",
    "fontsize - размер шрифта на графике.\n",
    "создаем гистограмму с помощью метода histplot библиотеки Seaborn и сохраняем ее в переменную table_plot.  \n",
    "получаем объект fig из гистограммы и сохраняем его в файл с помощью метода savefig."
   ]
  },
  {
   "cell_type": "markdown",
   "id": "52ea5a00",
   "metadata": {},
   "source": [
    "По графику видно, что цена за ночь в основном около 10000-20000."
   ]
  },
  {
   "cell_type": "code",
   "execution_count": 66,
   "id": "88eb5946",
   "metadata": {},
   "outputs": [
    {
     "data": {
      "image/png": "[encoded data removed]",
      "text/plain": [
       "<Figure size 6400x3600 with 1 Axes>"
      ]
     },
     "metadata": {},
     "output_type": "display_data"
    }
   ],
   "source": [
    "fig, ax = plt.subplots(figsize =(16, 9), dpi = 400) # первая переменная - картинка, вторая - оси\n",
    "ax.set_xlabel(\"Distance from centre\", fontsize = 15)\n",
    "ax.set_ylabel(\"Count\", fontsize = 15)\n",
    "table_plot = sns.histplot(table['distance_centre']) # сохраняем в переменную гистограмму\n",
    "fig = table_plot.get_figure();\n",
    "fig.savefig('distance_centre_hist.png') # сохраняем картинку с гистограммой"
   ]
  },
  {
   "cell_type": "markdown",
   "id": "7e2cf823",
   "metadata": {},
   "source": [
    "Большая часть отелей находится недалеко от центра, расстояние от центра для большинства отелей составляет примерно от 400 до 5000 метров. "
   ]
  },
  {
   "cell_type": "code",
   "execution_count": 44,
   "id": "0665bbdd",
   "metadata": {},
   "outputs": [
    {
     "data": {
      "image/png": "[encoded data removed]",
      "text/plain": [
       "<Figure size 6400x3600 with 1 Axes>"
      ]
     },
     "metadata": {},
     "output_type": "display_data"
    }
   ],
   "source": [
    "fig, ax = plt.subplots(figsize =(16, 9), dpi = 400) # первая переменная - картинка, вторая - оси\n",
    "ax.set_xlabel(\"Pets\", fontsize = 15)\n",
    "ax.set_ylabel(\"Count\", fontsize = 15)\n",
    "table_plot = sns.histplot(table['pets']) # сохраняем в переменную гистограмму\n",
    "fig = table_plot.get_figure();\n",
    "fig.savefig('pets_hist.png') # сохраняем картинку с гистограммой"
   ]
  },
  {
   "cell_type": "markdown",
   "id": "82c0c632",
   "metadata": {},
   "source": [
    "В более чем 70 отелей с животными нельзя, однако остальные отели разрешают находиться в номерах с животными."
   ]
  },
  {
   "cell_type": "code",
   "execution_count": null,
   "id": "94e3a0d0",
   "metadata": {},
   "outputs": [],
   "source": [
    "our_bar = go.Bar(y = table['price'][0:20])\n",
    "fig = go.Figure(our_bar)\n",
    "fig.show(\"notebook\")"
   ]
  },
  {
   "cell_type": "markdown",
   "id": "d8e9e3bd",
   "metadata": {},
   "source": [
    "Можем визуализировать информацию по цене первых 20 отелей следующим образом."
   ]
  },
  {
   "cell_type": "code",
   "execution_count": null,
   "id": "e723783e",
   "metadata": {},
   "outputs": [],
   "source": [
    "scatter_trace = go.Scatter(x=table['distance_centre'], y=table['price'], mode='markers', marker=dict(color='purple'))\n",
    "layout = go.Layout(title=\"Distance to Centre and Price\",\n",
    "                   xaxis=dict(title=\"Distance to Centre\"),\n",
    "                   yaxis=dict(title=\"Price\"))\n",
    "fig = go.Figure(data=[scatter_trace], layout=layout)\n",
    "fig.show(\"notebook\")"
   ]
  },
  {
   "cell_type": "markdown",
   "id": "a37c1cd0",
   "metadata": {},
   "source": [
    "режим графика  \"markers\" - точки.\n",
    "Создаем объект слоя графика (layout), задавая заголовок, название осей X и Y.\n",
    "Создаем объект графика (fig), используя данные из нашего \"точечного графика\" и объект \"layout\".\n",
    "dict используется для создания словаря (dictionary) - структуры данных в Python, чтобы задать marker параметры в виде пары ключ-значение. В данном случае, color является ключом, а 'purple' - соответствующим значением. Такая запись позволяет указывать пары параметров для элементов графика."
   ]
  },
  {
   "cell_type": "markdown",
   "id": "54737345",
   "metadata": {},
   "source": [
    "Видно, что небольшая связь между показателями есть: чем дороже отель, тем ближе он к центру."
   ]
  },
  {
   "cell_type": "code",
   "execution_count": null,
   "id": "7024d0e9",
   "metadata": {},
   "outputs": [],
   "source": [
    "box_trace = go.Box(x=table['temperature_regulation'], y=table['rating'], marker=dict(color='pink'))\n",
    "layout = go.Layout(title=\"Temperature Regulation and Rating\",\n",
    "                   xaxis=dict(title=\"Temperature Regulation\"),\n",
    "                   yaxis=dict(title=\"Rating\"))\n",
    "fig = go.Figure(data=[box_trace], layout=layout)\n",
    "fig.show(\"notebook\")"
   ]
  },
  {
   "cell_type": "markdown",
   "id": "11b1774f",
   "metadata": {},
   "source": [
    "Таким образом, кондиционер несильно влияет на рейтинг отеля. Единственное, он исключает возможность получить 10 звезд, однако даже при его отсутсвии оценки не падают ниже 7.6, что все еще довольно высокий показатель, а вот обладателем минимальной оценки является как раз-таки отель с кондиционером."
   ]
  },
  {
   "cell_type": "code",
   "execution_count": null,
   "id": "8d30297b",
   "metadata": {},
   "outputs": [],
   "source": [
    "box_trace = go.Box(x=table['fitness'], y=table['price'], marker=dict(color='green'))\n",
    "layout = go.Layout(title=\"Fitness and Price\",\n",
    "                   xaxis=dict(title=\"Fitness\"),\n",
    "                   yaxis=dict(title=\"Price\"))\n",
    "fig = go.Figure(data=[box_trace], layout=layout)\n",
    "fig.show(\"notebook\")"
   ]
  },
  {
   "cell_type": "markdown",
   "id": "b2f063fd",
   "metadata": {},
   "source": [
    "Наблюдаем следующую закономерность: услугу спортивного зала предлагают отели из более дорогой ценовой категории."
   ]
  },
  {
   "cell_type": "code",
   "execution_count": null,
   "id": "80a4402a",
   "metadata": {},
   "outputs": [],
   "source": [
    "bar_trace = go.Bar(x=['Free Wifi', 'Parking'], \n",
    "                    y=[table['free_wifi'].sum(), table['parking'].sum()], \n",
    "                    marker=dict(color='teal'))\n",
    "layout = go.Layout(title=\"Free Wifi and Parking\",\n",
    "                   yaxis=dict(title=\"Number of Hotels\"))\n",
    "fig = go.Figure(data=[bar_trace], layout=layout)\n",
    "fig.show(\"notebook\")"
   ]
  },
  {
   "cell_type": "markdown",
   "id": "1203beea",
   "metadata": {},
   "source": [
    "График для наглядности: в 100 отелях есть бесплатный интернет, в 65 есть парковка. Можно отметить, что интернет является практически повсеместным удобством, в отличие от парковки."
   ]
  },
  {
   "cell_type": "code",
   "execution_count": null,
   "id": "ac4ffcfe",
   "metadata": {},
   "outputs": [],
   "source": [
    "trace = go.Scatter(\n",
    "    x = table.price,\n",
    "    y = table.rating,\n",
    "    mode = 'markers',\n",
    "    marker = {\n",
    "        'size': 10,\n",
    "        'color': 'brown',\n",
    "        'opacity': 0.5,\n",
    "    },\n",
    "    text = table.title,\n",
    "    hovertemplate =\n",
    "    '<b>%{text}</b>' +\n",
    "    'Price: %{x}' +\n",
    "    'Rating: %{y}'\n",
    ")\n",
    "our_layout = go.Layout(\n",
    "    title = 'Hotels',\n",
    "    xaxis = {'title': 'Price'},\n",
    "    yaxis = {'title': 'Rating'})\n",
    "\n",
    "fig = go.Figure([trace], layout = our_layout)\n",
    "fig.show(\"notebook\")"
   ]
  },
  {
   "cell_type": "markdown",
   "id": "d142f595",
   "metadata": {},
   "source": [
    "opacity - прозрачность маркеров на графике. При наведении на точку с заголовком появляется всплывающее окно hovertemplate, которое содержит информацию о цене и рейтинге отеля."
   ]
  },
  {
   "cell_type": "markdown",
   "id": "290dbb68",
   "metadata": {},
   "source": [
    "Еще один график по рейтингу и цене. Принимая во внимание выбросы, можно заметить некую линейную зависимость в левом верхнем углу: с ростом цены за номер чаще всего возрастает рейтинг. Удивительно, что самый дорогой отель имеет отметку далеко не 10, не 9, а всего 8 баллов (для такой суммы). Отель с самой низкой оценкой также имеет цену выше среднего. Это можно попытаться объяснить либо привередливыми богатыми клиентами (что лишний раз убеждает в сложности работы с такой группой людей), либо же дело в большой разнице цены/ качества."
   ]
  },
  {
   "cell_type": "markdown",
   "id": "8fddbf87",
   "metadata": {},
   "source": [
    "Дальше мы решили проанализировать, от чего больше всего зависит количество звезд у отеля. Мы построили графики по всем переменным, продемонстрируем лишь наиболее важные и интересные."
   ]
  },
  {
   "cell_type": "code",
   "execution_count": null,
   "id": "7ef9d892",
   "metadata": {},
   "outputs": [],
   "source": [
    "box_trace = go.Box(x=table['star_rating'], y=table['distance_centre'], marker=dict(color='maroon'))\n",
    "layout = go.Layout(title=\"The dependence of the star rating on the distance to the centre\",\n",
    "                   xaxis=dict(title=\"Star Rating\"),\n",
    "                   yaxis=dict(title=\"Distance to Centre\"))\n",
    "fig = go.Figure(data=[box_trace], layout=layout)\n",
    "fig.show(\"notebook\")"
   ]
  },
  {
   "cell_type": "markdown",
   "id": "38c5a065",
   "metadata": {},
   "source": [
    "Данный график показывает, как меняется распределение рейтинга отеля (звезд) в зависимости от расстояния до центра города. Он может быть полезен, например, для определения того, какие отели в какой зоне города чаще всего получают высокие рейтинги. Мы видим выбросы: есть отель, который имеет три звезды и при этом находится очень далеко от центра. Для четырехзвездочных отелей тоже есть выброс: один отель находится дальше от центра, чем остальные четырехзвездочные отели. Для всех звезд мы видим медиану: например, для четырехзвездочных и пятизвездочных отелей медиана примерно одинаковая (то есть расстояние до центра, которое половина отелей превышает и половина имеет меньшее, примерно одно и то же)."
   ]
  },
  {
   "cell_type": "code",
   "execution_count": null,
   "id": "971ee213",
   "metadata": {},
   "outputs": [],
   "source": [
    "trace = go.Scatter(\n",
    "    x = table.star_rating,\n",
    "    y = table.price,\n",
    "    mode = 'markers',\n",
    "    marker = {\n",
    "        'size': 10,\n",
    "        'color': 'maroon',\n",
    "        'opacity': 0.5,\n",
    "    },\n",
    "    text = table.title,\n",
    "    hovertemplate =\n",
    "    '<b>%{text}</b>' +\n",
    "    'Price: %{x}' +\n",
    "    'Rating: %{y}'\n",
    ")\n",
    "our_layout = go.Layout(\n",
    "    title = 'The dependence of the star rating on the price',\n",
    "    xaxis = {'title': 'Star Rating'},\n",
    "    yaxis = {'title': 'Price'})\n",
    "\n",
    "fig = go.Figure([trace], layout = our_layout)\n",
    "fig.show(\"notebook\")"
   ]
  },
  {
   "cell_type": "markdown",
   "id": "8594f072",
   "metadata": {},
   "source": [
    "График зависимости количества звезд от цены отеля. Здесь мы видим, что 5 звезд имеют всего 3 отеля, при этом из абсолютно разных ценовых категорий. Наибольшее количество отелей имеют 4 звезды, более дешевые отели оценены в 3 звезды, и всего один отель имеет 2."
   ]
  },
  {
   "cell_type": "code",
   "execution_count": null,
   "id": "0eb6f235",
   "metadata": {},
   "outputs": [],
   "source": [
    "trace = go.Scatter(\n",
    "    x = table.star_rating,\n",
    "    y = table.rating,\n",
    "    mode = 'markers',\n",
    "    marker = {\n",
    "        'size': 10,\n",
    "        'color': 'maroon',\n",
    "        'opacity': 0.5,\n",
    "    },\n",
    "    text = table.title,\n",
    "    hovertemplate =\n",
    "    '<b>%{text}</b>' +\n",
    "    'Price: %{x}' +\n",
    "    'Rating: %{y}'\n",
    ")\n",
    "our_layout = go.Layout(\n",
    "    title = 'The dependence of the star rating on the rating',\n",
    "    xaxis = {'title': 'Star Rating'},\n",
    "    yaxis = {'title': 'Rating'})\n",
    "\n",
    "fig = go.Figure([trace], layout = our_layout)\n",
    "fig.show(\"notebook\")"
   ]
  },
  {
   "cell_type": "markdown",
   "id": "dc631ed2",
   "metadata": {},
   "source": [
    "График зависимости количества звезд от обычного рейтинга на сайте. Мы видим, что самый высокий рейтинг на сайте имеют трехзвездочные и четырехзвездочные отели. В целом, данные отели имеют довольно высокий рейтинг на сайте, чего не скажешь о тех немногочисленных пятизвездочных отелях, один из которых имеет самый низкий рейтинг на сайте. Возможно, большое количество звезд - не всегда показатель хорошего отеля:)"
   ]
  }
 ],
 "metadata": {
  "kernelspec": {
   "display_name": "Python 3 (ipykernel)",
   "language": "python",
   "name": "python3"
  },
  "language_info": {
   "codemirror_mode": {
    "name": "ipython",
    "version": 3
   },
   "file_extension": ".py",
   "mimetype": "text/x-python",
   "name": "python",
   "nbconvert_exporter": "python",
   "pygments_lexer": "ipython3",
   "version": "3.10.9"
  }
 },
 "nbformat": 4,
 "nbformat_minor": 5
}
