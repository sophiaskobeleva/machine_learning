{
 "cells": [
  {
   "cell_type": "markdown",
   "id": "82735325",
   "metadata": {},
   "source": [
    "# Бонусное задание №2"
   ]
  },
  {
   "cell_type": "markdown",
   "id": "9b2098fe",
   "metadata": {},
   "source": [
    "Итоговый код:"
   ]
  },
  {
   "cell_type": "code",
   "execution_count": 52,
   "id": "d35148a1",
   "metadata": {},
   "outputs": [
    {
     "name": "stdout",
     "output_type": "stream",
     "text": [
      "{\n",
      "     \"question\": [\n",
      "          \"Вопрос №1. Какой из представленных типов данных является неизменяемым?\",\n",
      "          \"Вопрос №2. Какой индекс должен использоваться для доступа к первому символу в строке Hello world?\",\n",
      "          \"Вопрос №3. Какой будет результат выполнения кода Hello world[::-1]?\",\n",
      "          \"Вопрос №4. Какое значение будет у переменной x после выполнения следующего кода: x = True or False and not True?\",\n",
      "          \"Вопрос №5. Какой метод позволяет получить ввод с клавиатуры и работать с ним в цикле while True?\",\n",
      "          \"Вопрос №6. Какой метод можно использовать для превращения строки в список?\",\n",
      "          \"Вопрос №7. Какой тип данных позволяет хранить неупорядоченные коллекции элементов, где каждый элемент встречается не более одного раза?\",\n",
      "          \"Вопрос №8. Какой метод можно использовать для добавления элементов в словарь словарей?\",\n",
      "          \"Вопрос №9. Каким методом можно прочитать все содержимое неструктурированного файла с сохранением в строку?\",\n",
      "          \"Вопрос №10. Как должен начинаться код для создания пользовательской функции?\"\n",
      "     ],\n",
      "     \"correct_answer\": [\n",
      "          3,\n",
      "          1,\n",
      "          1,\n",
      "          4,\n",
      "          1,\n",
      "          2,\n",
      "          3,\n",
      "          3,\n",
      "          1,\n",
      "          1\n",
      "     ],\n",
      "     \"options\": [\n",
      "          [\n",
      "               \"список\",\n",
      "               \"словарь\",\n",
      "               \"кортеж\",\n",
      "               \"множество\"\n",
      "          ],\n",
      "          [\n",
      "               \"0\",\n",
      "               \"1\",\n",
      "               \"2\",\n",
      "               \"-1\"\n",
      "          ],\n",
      "          [\n",
      "               \"dlrow olleH\",\n",
      "               \"Hell oworld\",\n",
      "               \"world Hello\",\n",
      "               \"SyntaxError\"\n",
      "          ],\n",
      "          [\n",
      "               \"False\",\n",
      "               \"Ошибка\",\n",
      "               \"None\",\n",
      "               \"True\"\n",
      "          ],\n",
      "          [\n",
      "               \"input()\",\n",
      "               \"print()\",\n",
      "               \"for i in range(10):\",\n",
      "               \"if __name__ == __main__:\"\n",
      "          ],\n",
      "          [\n",
      "               \"join()\",\n",
      "               \"split()\",\n",
      "               \"concat()\",\n",
      "               \"slice()\"\n",
      "          ],\n",
      "          [\n",
      "               \"Списки\",\n",
      "               \"Кортежи\",\n",
      "               \"Множества\",\n",
      "               \"Словари\"\n",
      "          ],\n",
      "          [\n",
      "               \"add()\",\n",
      "               \"append()\",\n",
      "               \"update()\",\n",
      "               \"insert()\"\n",
      "          ],\n",
      "          [\n",
      "               \"read()\",\n",
      "               \"readline()\",\n",
      "               \"write()\",\n",
      "               \"seek() \"\n",
      "          ],\n",
      "          [\n",
      "               \"def function_name (var1, var2):\",\n",
      "               \"def function_name ():\",\n",
      "               \"function(function_name):\",\n",
      "               \"def function(function_name):\"\n",
      "          ]\n",
      "     ]\n",
      "}\n"
     ]
    }
   ],
   "source": [
    "from tkinter import *\n",
    "from tkinter import messagebox\n",
    "import json\n",
    "\n",
    "class Vikt:\n",
    "    def __init__(self):\n",
    "\n",
    "        self.q_no = 0\n",
    "\n",
    "        self.show_title()\n",
    "        self.show_question()\n",
    "\n",
    "        self.opt_selected = IntVar()\n",
    "        self.opts = self.radio_buttons()\n",
    "\n",
    "        self.show_options()\n",
    "\n",
    "        self.buttons()\n",
    "\n",
    "        self.data_size = 10\n",
    "\n",
    "        self.correct = 0\n",
    "\n",
    "\n",
    "    def show_result(self):\n",
    "\n",
    "        wrong_count = self.data_size - self.correct\n",
    "        correct = f\"Количество верных ответов: {self.correct}\"\n",
    "        wrong = f\"Количество неверных ответов: {wrong_count}\"\n",
    "\n",
    "        score = int(self.correct / self.data_size * 100)\n",
    "        result = f\"Ваш результат: {score}%\"\n",
    "\n",
    "        messagebox.showinfo(\"Результат\", f\"Спасибо за участие в викторине! Удачи на экзамене! :)\\n{result}\\n{correct}\\n{wrong}\")\n",
    "\n",
    "\n",
    "\n",
    "    def check_ans(self, q_no):\n",
    "        if self.opt_selected.get() == correct_answer[q_no]:\n",
    "            return True\n",
    "\n",
    "    def next_btn(self):\n",
    "        if self.check_ans(self.q_no):\n",
    "            self.correct += 1\n",
    "        self.q_no += 1\n",
    "        \n",
    "        if self.q_no==10:\n",
    "            self.show_result()\n",
    "            gui.destroy()\n",
    "        else:\n",
    "            self.show_question()\n",
    "            self.show_options()\n",
    "\n",
    "\n",
    "    def buttons(self):\n",
    "\n",
    "        next_button = Button(gui, text =\"Далее\",command=self.next_btn,\n",
    "        width=10,bg=\"orange\",fg=\"white\",font=(\"ariel\",16,\"bold\"))\n",
    "\n",
    "        next_button.place(x=950,y=380)\n",
    "\n",
    "\n",
    "    def show_options(self):\n",
    "        v=0\n",
    "        \n",
    "        self.opt_selected.set(0)\n",
    "\n",
    "        for option in options[self.q_no]:\n",
    "            self.opts[v]['text']=option\n",
    "            v+=1\n",
    "\n",
    "\n",
    "    def show_question(self):\n",
    "        q_no = Label(gui, text=question[self.q_no], width=200,\n",
    "        font=( 'ariel' ,10, 'bold' ), anchor= 'w' )\n",
    "\n",
    "        q_no.place(x=100, y=100)\n",
    "\n",
    "\n",
    "    def show_title(self):\n",
    "\n",
    "        title = Label(gui, text=\"Викторина по языку программирования Python\",\n",
    "        width=70, bg=\"orange\",fg=\"white\", font=(\"ariel\", 20, \"bold\"))\n",
    "\n",
    "        title.place(x=0, y=0)\n",
    "\n",
    "\n",
    "\n",
    "    def radio_buttons(self):\n",
    "\n",
    "        q_list = []\n",
    "\n",
    "        y_pos = 150\n",
    "\n",
    "        while len(q_list) < 4:\n",
    "\n",
    "            radio_btn = Radiobutton(gui,text=\" \",variable=self.opt_selected,\n",
    "            value = len(q_list)+1,font = (\"ariel\",10))\n",
    "\n",
    "            q_list.append(radio_btn)\n",
    "\n",
    "            radio_btn.place(x = 100, y = y_pos)\n",
    "\n",
    "            y_pos += 40\n",
    "\n",
    "        return q_list\n",
    "\n",
    "gui = Tk()\n",
    "\n",
    "gui.geometry(\"1150x450\")\n",
    "\n",
    "\n",
    "gui.title(\"Викторина по языку программирования Python\")\n",
    "\n",
    "viktorina = '{\"question\": [\"Вопрос №1. Какой из представленных типов данных является неизменяемым?\",\"Вопрос №2. Какой индекс должен использоваться для доступа к первому символу в строке Hello world?\", \"Вопрос №3. Какой будет результат выполнения кода Hello world[::-1]?\", \"Вопрос №4. Какое значение будет у переменной x после выполнения следующего кода: x = True or False and not True?\", \"Вопрос №5. Какой метод позволяет получить ввод с клавиатуры и работать с ним в цикле while True?\", \"Вопрос №6. Какой метод можно использовать для превращения строки в список?\", \"Вопрос №7. Какой тип данных позволяет хранить неупорядоченные коллекции элементов, где каждый элемент встречается не более одного раза?\", \"Вопрос №8. Какой метод можно использовать для добавления элементов в словарь словарей?\", \"Вопрос №9. Каким методом можно прочитать все содержимое неструктурированного файла с сохранением в строку?\", \"Вопрос №10. Как должен начинаться код для создания пользовательской функции?\"],  \"correct_answer\": [3, 1, 1, 4, 1, 2, 3, 3, 1, 1], \"options\": [[\"список\",\"словарь\",\"кортеж\", \"множество\"],[\"0\",\"1\",\"2\", \"-1\"], [\"dlrow olleH\",\"Hell oworld\",\"world Hello\",\"SyntaxError\"], [\"False\", \"Ошибка\", \"None\", \"True\"], [\"input()\", \"print()\", \"for i in range(10):\", \"if __name__ == __main__:\"], [\"join()\", \"split()\", \"concat()\", \"slice()\"], [\"Списки\", \"Кортежи\", \"Множества\", \"Словари\"], [\"add()\", \"append()\", \"update()\", \"insert()\"], [\"read()\", \"readline()\", \"write()\", \"seek() \"], [\"def function_name (var1, var2):\", \"def function_name ():\", \"function(function_name):\", \"def function(function_name):\"]]}' \n",
    " \n",
    "viktorina_dict = json.loads(viktorina) \n",
    " \n",
    "print(json.dumps(viktorina_dict, indent = 5, ensure_ascii=False))\n",
    "\n",
    "with open('viktorina.json', mode = 'r', encoding = 'UTF-8') as infile:\n",
    "    vikt_data = json.load(infile)\n",
    "\n",
    "question = (vikt_data['question'])\n",
    "options = (vikt_data['options'])\n",
    "correct_answer = (vikt_data[ 'correct_answer'])\n",
    "\n",
    "vikt = Vikt()\n",
    "\n",
    "gui.mainloop()"
   ]
  },
  {
   "cell_type": "markdown",
   "id": "8e0ebfe1",
   "metadata": {},
   "source": [
    "Разбор кода по шагам:"
   ]
  },
  {
   "cell_type": "markdown",
   "id": "3e9cabe9",
   "metadata": {},
   "source": [
    "1.\n",
    "Импортируем пакет tkinter"
   ]
  },
  {
   "cell_type": "code",
   "execution_count": 48,
   "id": "8cab5f2f",
   "metadata": {},
   "outputs": [],
   "source": [
    "from tkinter import *"
   ]
  },
  {
   "cell_type": "markdown",
   "id": "2d86c990",
   "metadata": {},
   "source": [
    "2.\n",
    "Импортируем модуль messagebox из пакета tkinter"
   ]
  },
  {
   "cell_type": "code",
   "execution_count": null,
   "id": "574e0f45",
   "metadata": {},
   "outputs": [],
   "source": [
    "from tkinter import messagebox"
   ]
  },
  {
   "cell_type": "markdown",
   "id": "5b3fac81",
   "metadata": {},
   "source": [
    "3.\n",
    "Создадим графический пользовательский интерфейс (GUI) для викторины."
   ]
  },
  {
   "cell_type": "markdown",
   "id": "e20057ea",
   "metadata": {},
   "source": [
    "4.\n",
    "Создадим класс Vilt для определения компонентов GUI. "
   ]
  },
  {
   "cell_type": "markdown",
   "id": "7022d083",
   "metadata": {},
   "source": [
    "5.\n",
    "Создадим функцию  st, которая будет выполняться каждый раз про создании экземпляра класса Vikt. Она устанавливает начальные значения переменных и вызывает методы, необходимых для того, чтобы отобразить вопросы и варианты ответов, создать радиокнопки, кнопки и тд."
   ]
  },
  {
   "cell_type": "markdown",
   "id": "4e9186e7",
   "metadata": {},
   "source": [
    "Внутри функции мы \n",
    "1. задаем переменную q_num со значением 0,\n",
    "2. вызываем методы для отображения заголовка викторины и вопроса (self.display_title(), self.display_question()),\n",
    "3. создаем переменную opt_selected, которая используется для хранения выбранного пользователем ответа на вопрос (self.opt_selected = IntVar()), далее опции для ответов на вопрос добавляются в форму для выбора,\n",
    "4. определяем параметры отображения текущего вопроса (self.display_options()),\n",
    "5. определяем кнопки для отображения \"далее\" и \"выход\". (self.buttons()),\n",
    "6. определяем размер данных, которые используются для обновления информации по викторине (self.data_size = 11, так как у нас 11 вопросов),\n",
    "7. задаем переменную correct со значением 0."
   ]
  },
  {
   "cell_type": "code",
   "execution_count": null,
   "id": "2cdc3855",
   "metadata": {},
   "outputs": [],
   "source": [
    "class Vikt:\n",
    "    def __init__(self):\n",
    "        self.q_no = 0\n",
    "\n",
    "        self.show_title()\n",
    "        self.show_question()\n",
    "\n",
    "        self.opt_selected = IntVar()\n",
    "        self.opts = self.radio_buttons()\n",
    "\n",
    "        self.show_options()\n",
    "\n",
    "        self.buttons()\n",
    "\n",
    "        self.data_size = 10\n",
    "\n",
    "        self.correct = 0"
   ]
  },
  {
   "cell_type": "markdown",
   "id": "83ccd13b",
   "metadata": {},
   "source": [
    "6.\n",
    "Создадим функцию show_result, которая будет считать количество верных и неверных ответов, а также процент верных ответов, и отображать результат в отдельном окне в конце викторины.\n",
    "Для отображения информации о результатах прохождения теста используем функцию showinfo()."
   ]
  },
  {
   "cell_type": "code",
   "execution_count": null,
   "id": "386b0160",
   "metadata": {},
   "outputs": [],
   "source": [
    " def show_result(self):\n",
    "        wrong_count = self.data_size - self.correct\n",
    "        correct = f\"Количество верных ответов: {self.correct}\"\n",
    "        wrong = f\"Количество неверных ответов: {wrong_count}\"\n",
    "\n",
    "        score = int(self.correct / self.data_size * 100)\n",
    "        result = f\"Ваш результат: {score}%\"\n",
    "\n",
    "        messagebox.showinfo(\"Результат\", f\"Спасибо за участие в викторине! Удачи на экзамене! :)\\n{result}\\n{correct}\\n{wrong}\")"
   ]
  },
  {
   "cell_type": "markdown",
   "id": "d248a264",
   "metadata": {},
   "source": [
    "7.\n",
    "Создадим функцию check_ans, которая будет проверять ответ пользователя. Если ответ, выбранный пользователем верный, то функция возвращает \"True\".\t"
   ]
  },
  {
   "cell_type": "code",
   "execution_count": null,
   "id": "aee20c40",
   "metadata": {},
   "outputs": [],
   "source": [
    "    def check_ans(self, q_no):\n",
    "        if self.opt_selected.get() == correct_answer[q_no]:\n",
    "            return True"
   ]
  },
  {
   "cell_type": "markdown",
   "id": "de05bbbc",
   "metadata": {},
   "source": [
    "8.\n",
    "Создадим функцию next_btn, которая будет проверять верный или неверный ответ на вопрос дал пользователь и переходить на следующий вопрос или выводить окно с результатами викторины."
   ]
  },
  {
   "cell_type": "markdown",
   "id": "fcb61677",
   "metadata": {},
   "source": [
    "Если пользователь дал верный ответ, функция next_btn увеличивает количество итоговых баллов и номер вопроса на один (верный ли ответ проверяется при помощи обращения к функции check_ans). "
   ]
  },
  {
   "cell_type": "markdown",
   "id": "bba9a2ca",
   "metadata": {},
   "source": [
    "Если вопрос последний (узнаем, сравнивая номер вопроса и размер данных), то функция next_btn обращается к функции show_result для того, чтобы отобразить окно с результатами викторины и уничтожит GUI. Если вопрос не последний, то функция next_btn отображает следующий вопрос."
   ]
  },
  {
   "cell_type": "code",
   "execution_count": null,
   "id": "b4a55430",
   "metadata": {},
   "outputs": [],
   "source": [
    "    def next_btn(self):\n",
    "        if self.check_ans(self.q_no):\n",
    "            self.correct += 1\n",
    "        self.q_no += 1\n",
    "        \n",
    "        if self.q_no==10:\n",
    "            self.show_result()\n",
    "            gui.destroy()\n",
    "        else:\n",
    "            self.show_question()\n",
    "            self.show_options()"
   ]
  },
  {
   "cell_type": "markdown",
   "id": "bb9c5d56",
   "metadata": {},
   "source": [
    "9.\n",
    "Создадим функцию buttons, которая задает формат кнопки \"Далее\". Зададим текст, отображаемый на кнопке (\"Далее\"), функцию кнопки (соотвествует функции next_btn), размер, цвет и шрифт текста. Также зададим расположение кнопки на экране."
   ]
  },
  {
   "cell_type": "code",
   "execution_count": null,
   "id": "f46dc620",
   "metadata": {},
   "outputs": [],
   "source": [
    "    def buttons(self):\n",
    "        next_button = Button(gui, text =\"Далее\",command=self.next_btn,\n",
    "        width=10,bg=\"orange\",fg=\"white\",font=(\"ariel\",16,\"bold\"))\n",
    "\n",
    "        next_button.place(x=950,y=380)"
   ]
  },
  {
   "cell_type": "markdown",
   "id": "65c4ba75",
   "metadata": {},
   "source": [
    "10.\n",
    "Создадим функцию show_options(self), которая нужна для отображения вариантов ответов на текущий вопрос. Она устанавливает значения opt_selected (выбранный пользователем вариант ответа) и opts (список объектов, которые представляют варианты ответов) в соответствии с информацией из переменной options[self.q_no], которая содержит список доступных вариантов ответов на текущий вопрос. Функция присваивает каждому из вариантов ответов соответствующий объект в списке opts и отображает все эти объекты на экране. "
   ]
  },
  {
   "cell_type": "code",
   "execution_count": null,
   "id": "86af35b5",
   "metadata": {},
   "outputs": [],
   "source": [
    "    def show_options(self):\n",
    "        v=0\n",
    "        \n",
    "        self.opt_selected.set(0)\n",
    "\n",
    "        for option in options[self.q_no]:\n",
    "            self.opts[v]['text']=option\n",
    "            v+=1"
   ]
  },
  {
   "cell_type": "markdown",
   "id": "b59199f1",
   "metadata": {},
   "source": [
    "11.\n",
    "Создадим функцию show_question, которая задает параметры отображения вопроса. Зададим текст вопроса, ширину, шрифт и размещение в окне."
   ]
  },
  {
   "cell_type": "code",
   "execution_count": null,
   "id": "4f3167a5",
   "metadata": {},
   "outputs": [],
   "source": [
    "    def show_question(self):\n",
    "        q_no = Label(gui, text=question[self.q_no], width=200,\n",
    "        font=( 'ariel' ,10, 'bold' ), anchor= 'w' )\n",
    "\n",
    "        q_no.place(x=100, y=100)"
   ]
  },
  {
   "cell_type": "markdown",
   "id": "a8c3c2e3",
   "metadata": {},
   "source": [
    "12.\n",
    "Создадим функцию show_title, которая задает параметры отображения заголовка.Зададим текст заголовка, ширину, цвет, шрифт и размещение в окне."
   ]
  },
  {
   "cell_type": "code",
   "execution_count": null,
   "id": "b2469301",
   "metadata": {},
   "outputs": [],
   "source": [
    "    def show_title(self):\n",
    "        title = Label(gui, text=\"Викторина по языку программирования Python\",\n",
    "        width=70, bg=\"orange\",fg=\"white\", font=(\"ariel\", 20, \"bold\"))\n",
    "\n",
    "        title.place(x=0, y=0)"
   ]
  },
  {
   "cell_type": "markdown",
   "id": "ee024fce",
   "metadata": {},
   "source": [
    "13.\n",
    "Создадим функцию radio_buttons, которая создает и размещает четыре радио-кнопки в определенном порядке. Каждая кнопка имеет свою уникальную величину, которая будет использоваться как значение при выборе пользователя. Когда пользователь выбирает радио-кнопку, ее значение записывается в переменную self.opt_selected, которая передается в функцию radio_buttons(self) в качестве аргумента. \n",
    "Зададим расположение кнопки для первого варианта ответа (y_pos). При помощи цикла while добавим четрые радио-кнопки для четрых варинтов ответа.  Каждая кнопка создается с помощью класса Radiobutton с параметрами текста, переменной, отвечающей за выбор пользователя, значения кнопки, шрифта.  Кнопки размещаются на форме с помощью функции place с определенными значениями по оси x и y. В конце функция возвращает список всех созданных радио-кнопок."
   ]
  },
  {
   "cell_type": "code",
   "execution_count": null,
   "id": "4cf90c5a",
   "metadata": {},
   "outputs": [],
   "source": [
    "    def radio_buttons(self):\n",
    "\n",
    "        q_list = []\n",
    "\n",
    "        y_pos = 150\n",
    "\n",
    "        while len(q_list) < 4:\n",
    "\n",
    "            radio_btn = Radiobutton(gui,text=\" \",variable=self.opt_selected,\n",
    "            value = len(q_list)+1,font = (\"ariel\",10))\n",
    "\n",
    "            q_list.append(radio_btn)\n",
    "\n",
    "            radio_btn.place(x = 100, y = y_pos)\n",
    "\n",
    "            y_pos += 40\n",
    "\n",
    "        return q_list"
   ]
  },
  {
   "cell_type": "markdown",
   "id": "d2467438",
   "metadata": {},
   "source": [
    "14.\n",
    "Создадим окно GUI "
   ]
  },
  {
   "cell_type": "code",
   "execution_count": null,
   "id": "46296e16",
   "metadata": {},
   "outputs": [],
   "source": [
    "gui = Tk()"
   ]
  },
  {
   "cell_type": "markdown",
   "id": "22893107",
   "metadata": {},
   "source": [
    "15.\n",
    "Зададим параметры окна (размер и заголовок)."
   ]
  },
  {
   "cell_type": "code",
   "execution_count": null,
   "id": "1656da75",
   "metadata": {},
   "outputs": [],
   "source": [
    "gui.geometry(\"1150x450\")"
   ]
  },
  {
   "cell_type": "markdown",
   "id": "bc6d2886",
   "metadata": {},
   "source": [
    "16.\n",
    "Импортируем модуль json. "
   ]
  },
  {
   "cell_type": "code",
   "execution_count": null,
   "id": "082e9502",
   "metadata": {},
   "outputs": [],
   "source": [
    "import json"
   ]
  },
  {
   "cell_type": "markdown",
   "id": "80344ce9",
   "metadata": {},
   "source": [
    "17.\n",
    "Создадим файл viktorina.json с вопросами, вариантами ответа и верными ответами."
   ]
  },
  {
   "cell_type": "code",
   "execution_count": null,
   "id": "9e521e5b",
   "metadata": {},
   "outputs": [],
   "source": [
    "gui.title(\"Викторина по языку программирования Python\")\n",
    "\n",
    "viktorina = '{\"question\": [\"Вопрос №1. Какой из представленных типов данных является неизменяемым?\",\"Вопрос №2. Какой индекс должен использоваться для доступа к первому символу в строке Hello world?\", \"Вопрос №3. Какой будет результат выполнения кода Hello world[::-1]?\", \"Вопрос №4. Какое значение будет у переменной x после выполнения следующего кода: x = True or False and not True?\", \"Вопрос №5. Какой метод позволяет получить ввод с клавиатуры и работать с ним в цикле while True?\", \"Вопрос №6. Какой метод можно использовать для превращения строки в список?\", \"Вопрос №7. Какой тип данных позволяет хранить неупорядоченные коллекции элементов, где каждый элемент встречается не более одного раза?\", \"Вопрос №8. Какой метод можно использовать для добавления элементов в словарь словарей?\", \"Вопрос №9. Каким методом можно прочитать все содержимое неструктурированного файла с сохранением в строку?\", \"Вопрос №10. Как должен начинаться код для создания пользовательской функции?\"],  \"correct_answer\": [3, 1, 1, 4, 1, 2, 3, 3, 1, 1], \"options\": [[\"список\",\"словарь\",\"кортеж\", \"множество\"],[\"0\",\"1\",\"2\", \"-1\"], [\"dlrow olleH\",\"Hell oworld\",\"world Hello\",\"SyntaxError\"], [\"False\", \"Ошибка\", \"None\", \"True\"], [\"input()\", \"print()\", \"for i in range(10):\", \"if __name__ == __main__:\"], [\"join()\", \"split()\", \"concat()\", \"slice()\"], [\"Списки\", \"Кортежи\", \"Множества\", \"Словари\"], [\"add()\", \"append()\", \"update()\", \"insert()\"], [\"read()\", \"readline()\", \"write()\", \"seek() \"], [\"def function_name (var1, var2):\", \"def function_name ():\", \"function(function_name):\", \"def function(function_name):\"]]}' \n",
    " \n",
    "viktorina_dict = json.loads(viktorina) \n",
    " \n",
    "print(json.dumps(viktorina_dict, indent = 5, ensure_ascii=False))"
   ]
  },
  {
   "cell_type": "markdown",
   "id": "46629701",
   "metadata": {},
   "source": [
    "18.\n",
    "Обратимся к файлу viktorina.json: откроем его и получим из него данные (вопросы, варианты ответа и верный ответ). "
   ]
  },
  {
   "cell_type": "code",
   "execution_count": null,
   "id": "4b3a2cd2",
   "metadata": {},
   "outputs": [],
   "source": [
    "with open('viktorina.json', mode = 'r', encoding = 'UTF-8') as infile:\n",
    "    vikt_data = json.load(infile)\n",
    "\n",
    "question = (vikt_data['question'])\n",
    "options = (vikt_data['options'])\n",
    "correct_answer = (vikt_data[ 'correct_answer'])"
   ]
  },
  {
   "cell_type": "markdown",
   "id": "91ac20c9",
   "metadata": {},
   "source": [
    "19.\n",
    "Создадим объект класса Vikt."
   ]
  },
  {
   "cell_type": "code",
   "execution_count": null,
   "id": "621304b7",
   "metadata": {},
   "outputs": [],
   "source": [
    "vikt = Vikt()"
   ]
  },
  {
   "cell_type": "markdown",
   "id": "8b0b3ad5",
   "metadata": {},
   "source": [
    "20.\n",
    "Запустим GUI."
   ]
  },
  {
   "cell_type": "code",
   "execution_count": null,
   "id": "78d2ad8b",
   "metadata": {},
   "outputs": [],
   "source": [
    "gui.mainloop()"
   ]
  }
 ],
 "metadata": {
  "kernelspec": {
   "display_name": "Python 3 (ipykernel)",
   "language": "python",
   "name": "python3"
  },
  "language_info": {
   "codemirror_mode": {
    "name": "ipython",
    "version": 3
   },
   "file_extension": ".py",
   "mimetype": "text/x-python",
   "name": "python",
   "nbconvert_exporter": "python",
   "pygments_lexer": "ipython3",
   "version": "3.10.9"
  }
 },
 "nbformat": 4,
 "nbformat_minor": 5
}
