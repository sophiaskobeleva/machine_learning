{
 "cells": [
  {
   "cell_type": "markdown",
   "id": "1313c4a0",
   "metadata": {},
   "source": [
    "# Бонусное задание №3\n",
    "Данные содержат следующие признаки:\n",
    "\n",
    "Furniture - Описание мебели  \n",
    "Type - Категория, к которой относится мебель  \n",
    "Url - Ссылка на товар  \n",
    "Rate - Оценка товара (0 — значит, что оценок нет)   \n",
    "Delivery - Цена доставки на дом  \n",
    "Sale - Размер скидки  \n",
    "Price - Цена мебели  "
   ]
  },
  {
   "cell_type": "markdown",
   "id": "62df6b2e",
   "metadata": {},
   "source": [
    "**1. Самостоятельно скачайте и загрузите данные**"
   ]
  },
  {
   "cell_type": "markdown",
   "id": "4a5a7b2c",
   "metadata": {},
   "source": [
    "Импортируем модуль pandas и загрузим данные."
   ]
  },
  {
   "cell_type": "code",
   "execution_count": 1,
   "id": "2b2704bb",
   "metadata": {},
   "outputs": [],
   "source": [
    "import pandas as pd\n",
    "data = pd.read_csv('Furniture Price Prediction.csv')"
   ]
  },
  {
   "cell_type": "markdown",
   "id": "38674e76",
   "metadata": {},
   "source": [
    "Посмотрим на наши данные. Мы не будем выводить весь датасет и посмотрим только на первые строки."
   ]
  },
  {
   "cell_type": "code",
   "execution_count": 3,
   "id": "b1c17121",
   "metadata": {},
   "outputs": [
    {
     "data": {
      "text/html": [
       "<div>\n",
       "<style scoped>\n",
       "    .dataframe tbody tr th:only-of-type {\n",
       "        vertical-align: middle;\n",
       "    }\n",
       "\n",
       "    .dataframe tbody tr th {\n",
       "        vertical-align: top;\n",
       "    }\n",
       "\n",
       "    .dataframe thead th {\n",
       "        text-align: right;\n",
       "    }\n",
       "</style>\n",
       "<table border=\"1\" class=\"dataframe\">\n",
       "  <thead>\n",
       "    <tr style=\"text-align: right;\">\n",
       "      <th></th>\n",
       "      <th>furniture</th>\n",
       "      <th>type</th>\n",
       "      <th>url</th>\n",
       "      <th>rate</th>\n",
       "      <th>delivery</th>\n",
       "      <th>sale</th>\n",
       "      <th>price</th>\n",
       "    </tr>\n",
       "  </thead>\n",
       "  <tbody>\n",
       "    <tr>\n",
       "      <th>0</th>\n",
       "      <td>Bed side table with storage shelf</td>\n",
       "      <td>Home Decor Center</td>\n",
       "      <td>https://www.jumia.com.eg//ar/home-decor-center...</td>\n",
       "      <td>3.3</td>\n",
       "      <td>172.14</td>\n",
       "      <td>72%</td>\n",
       "      <td>2500.0</td>\n",
       "    </tr>\n",
       "    <tr>\n",
       "      <th>1</th>\n",
       "      <td>Bed side table with storage shelf</td>\n",
       "      <td>Modern Home</td>\n",
       "      <td>https://www.jumia.com.eg//ar/modern-home-bedsi...</td>\n",
       "      <td>0.0</td>\n",
       "      <td>172.14</td>\n",
       "      <td>54%</td>\n",
       "      <td>1200.0</td>\n",
       "    </tr>\n",
       "    <tr>\n",
       "      <th>2</th>\n",
       "      <td>Modern Zigzag TV Table</td>\n",
       "      <td>Modern Home</td>\n",
       "      <td>https://www.jumia.com.eg//ar/generic-zigzag-tv...</td>\n",
       "      <td>0.0</td>\n",
       "      <td>172.14</td>\n",
       "      <td>18%</td>\n",
       "      <td>1099.0</td>\n",
       "    </tr>\n",
       "    <tr>\n",
       "      <th>3</th>\n",
       "      <td>Bedside table with storage shelf</td>\n",
       "      <td>Modern Home</td>\n",
       "      <td>https://www.jumia.com.eg//ar/modern-home-bedsi...</td>\n",
       "      <td>0.0</td>\n",
       "      <td>172.14</td>\n",
       "      <td>58%</td>\n",
       "      <td>1200.0</td>\n",
       "    </tr>\n",
       "    <tr>\n",
       "      <th>4</th>\n",
       "      <td>Wall Mounted TV Unit with Cabinet TV Stand Uni...</td>\n",
       "      <td>Modern Home</td>\n",
       "      <td>https://www.jumia.com.eg//ar/modern-home-wall-...</td>\n",
       "      <td>5.0</td>\n",
       "      <td>52.44</td>\n",
       "      <td>54%</td>\n",
       "      <td>1400.0</td>\n",
       "    </tr>\n",
       "  </tbody>\n",
       "</table>\n",
       "</div>"
      ],
      "text/plain": [
       "                                           furniture               type  \\\n",
       "0                 Bed side table with storage shelf   Home Decor Center   \n",
       "1                 Bed side table with storage shelf         Modern Home   \n",
       "2                            Modern Zigzag TV Table         Modern Home   \n",
       "3                  Bedside table with storage shelf         Modern Home   \n",
       "4  Wall Mounted TV Unit with Cabinet TV Stand Uni...        Modern Home   \n",
       "\n",
       "                                                 url  rate  delivery sale  \\\n",
       "0  https://www.jumia.com.eg//ar/home-decor-center...   3.3    172.14  72%   \n",
       "1  https://www.jumia.com.eg//ar/modern-home-bedsi...   0.0    172.14  54%   \n",
       "2  https://www.jumia.com.eg//ar/generic-zigzag-tv...   0.0    172.14  18%   \n",
       "3  https://www.jumia.com.eg//ar/modern-home-bedsi...   0.0    172.14  58%   \n",
       "4  https://www.jumia.com.eg//ar/modern-home-wall-...   5.0     52.44  54%   \n",
       "\n",
       "    price  \n",
       "0  2500.0  \n",
       "1  1200.0  \n",
       "2  1099.0  \n",
       "3  1200.0  \n",
       "4  1400.0  "
      ]
     },
     "execution_count": 3,
     "metadata": {},
     "output_type": "execute_result"
    }
   ],
   "source": [
    "data.head()"
   ]
  },
  {
   "cell_type": "markdown",
   "id": "0e144940",
   "metadata": {},
   "source": [
    "**2. Какие категории мебели есть в данных? Сколько их?**"
   ]
  },
  {
   "cell_type": "markdown",
   "id": "e0f1ca87",
   "metadata": {},
   "source": [
    "Посмотрим на категории мебели в данных. Для того, чтобы получить только уникальные категории из колонки type в нашем датасете воспользуемся функией .unique(). Сохраним полученные категории в переменную categories. Затем посчитаем количество уникальных категорий мебели при помощи функции len()."
   ]
  },
  {
   "cell_type": "code",
   "execution_count": 5,
   "id": "e1c20e3f",
   "metadata": {},
   "outputs": [],
   "source": [
    "categories = data['type'].unique() \n",
    "num_of_categories = len(categories) "
   ]
  },
  {
   "cell_type": "code",
   "execution_count": 7,
   "id": "b5c4e01f",
   "metadata": {},
   "outputs": [
    {
     "name": "stdout",
     "output_type": "stream",
     "text": [
      "Категории мебели: ['Home Decor Center' 'Modern Home'\n",
      " 'Modern Home Modern Tv Table   Black Oak'\n",
      " 'Modern Home Modern Table            cm   Light Brown'\n",
      " 'Sarcomisr Manager Medical Office Chair   Black   White'\n",
      " 'Rattan Folding Table   Biege'\n",
      " 'Modern Home                                                                 W'\n",
      " 'General' 'Sarcomisr' 'tv covers Protector' 'Gad Woods'\n",
      " 'Modern Home Home  Studying Desk     x  x      White' 'Homztown'\n",
      " 'Minihomz' 'Modern Home GR' 'Minihomz           minihomz'\n",
      " 'Home  Studying Desk     x  x      White'\n",
      " 'Low Pvc Hard Back Chair   Black'\n",
      " 'Modern Home                                         T'\n",
      " 'Modern Home Tv Table       Cm    Brown'\n",
      " 'Modern Home Office Desk              White' 'Arikaty'\n",
      " 'Modern Home Modern Library With Matching Shelves  White W'\n",
      " 'Modern Home                         x'\n",
      " 'Home  Studying Desk     x  x      White   Brown' 'Flamingo'\n",
      " 'General                                                           W'\n",
      " 'Khorshed' 'Sarcomisr Medical Office Chair   Blue Mesh   White'\n",
      " 'Metal Chair   Black' 'Homztown Regular Beanbag Black' 'Artistico'\n",
      " 'Rango' 'Minihomz       minihomz' 'Sedra Velvet Buff   Black'\n",
      " 'Modern Home Office Desk           Brown'\n",
      " 'Sedra Tala Waterproof Buff   Orange'\n",
      " 'Sarcomisr Medical Office Chair   Red Mesh   White' 'Family Bed'\n",
      " 'Marfy Touch' 'minihomz' 'Arikaty       Sofa   Dark Red'\n",
      " 'Home  Studying Desk     x  x      White   Black' 'Habitat' 'Fantazzia'\n",
      " 'Penguin Group' 'Ht     Office Chair   Black'\n",
      " 'Modern Home Modern Library With Matching Shelves  Black W'\n",
      " 'Sola Golden Console With Modern Marble Stainless Steel'\n",
      " 'Sarcomisr Desk Chair        x    x   cm' 'SunBoat Commerce' 'Bean GO'\n",
      " 'Arikaty Bed Sofa   Coffe Latte'\n",
      " 'Seat Stool Bedroom Decorative Dices Stool Black'\n",
      " 'Winner Plast Light Portable Table   White' 'At Home'\n",
      " 'OR Cat Diamond Painting  D DIY Embroidery Rhinestone Cross Stitch Arts Craft colorful'\n",
      " 'Homztown Large Beanbag Sabia Brown'\n",
      " 'Modern Home                                                    W'\n",
      " 'General Home Studying Desk     x  x      White grey'\n",
      " 'Modern Home Office Desk            White Red'\n",
      " 'Multi use Baby Table   Green' 'In Home'\n",
      " 'General Modern Library With Matching Shelves  White W' 'TheWoodenArt'\n",
      " 'General Home Studying Desk      x  x      White wood'\n",
      " 'Laptop And PC  Desk     x  x      White'\n",
      " 'Home Gallery Side Table W   X H   X D'\n",
      " 'Sarcomisr High Back Chair   Black' 'Forbed'\n",
      " 'Home Gallery Side Table   Beige W    X D   X H' 'Bar Chair   Black'\n",
      " 'Waiting Chair' 'Leather High Back Chair         Cm   Black Brown'\n",
      " 'x   cm Bean Bag Cover Chair Gamer Seat Protection Cover In'\n",
      " 'Rango Romantic Chair   Red'\n",
      " 'General Home Studying Desk      x  x      White'\n",
      " 'Beech Square Bar Chair' 'Homztown Lounge Black'\n",
      " 'Arikaty Bed Chair            cm'\n",
      " 'Rango Romantic Chair          Cm   Blue'\n",
      " 'Modern Home Office Desk           Black'\n",
      " 'Wall Mounted Folding Desk     X    Cm Beige X Black'\n",
      " 'Storage Shelves From Khorshid Beige' 'Sedra'\n",
      " 'One Piece Office Armrest Seat Cover Rotating Elastic Chair'\n",
      " 'Recliner Replacement Elastic Cord Repair Tool for Zero Gravity Chair  Lounge Chair and Bungee Chair    Pack Brown'\n",
      " 'Penguin' 'Multi purpose Tool Durable Multi purpose Tool Gadgets'\n",
      " 'Sarcomisr Office Chair Set     Pcs   Mesh Black' 'Royal Home' 'Global'\n",
      " 'General Home  Studying Desk     x  x      White'\n",
      " 'Modern Home                                             W  W'\n",
      " 'Modern Home Modern Library With Matching Shelves  Red W'\n",
      " 'buft  Buffet   Brown' 'Marfy Touch Modern Wooden   Tables   Brown'\n",
      " 'Wooden Foldable Table' 'Ariika' 'El Helal W El Negma'\n",
      " 'Modern Home Office Desk           White Black'\n",
      " 'Rango Romantic Chair   Beige' 'Storage Shelves From Khorshid'\n",
      " 'Multipurpose Adjustable Table Mate   White'\n",
      " 'Portable Folding Chair Ultra Lightweight For Camping'\n",
      " 'Sofa Covers Wing Chair Elastic Fabric Stretch Couch'\n",
      " 'Holes Manual Capsule Filling Machine    Pharmaceutical'\n",
      " 'Wooden Folding Chair' 'TV Table      x  x  Cm   Black'\n",
      " 'Sola   piece Nested Stainless Steel Table Set'\n",
      " 'OR      cm DIY Diamond Style Square Great Outskirts Red House Embroidery Painting multi color'\n",
      " 'Sarcomisr Office Chair   Black'\n",
      " 'Laptop And PC  Desk     x  x      Black'\n",
      " 'Leather Gaming Chair   Red Black'\n",
      " 'Table Mate Plastic Foldable Table   White' 'Hub Furniture'\n",
      " 'Rango Chair Bed          Cm   Red'\n",
      " 'Plastic Chair Folding Scissors   White'\n",
      " 'eWeLink  CH T                                                             RF                                                             SONOFF RF    MHz'\n",
      " 'OR Full Resin Drill  D DIY Diamond Painting Vase PatternCross Stitch Mosaic Home multi colour'\n",
      " 'Rango Bed Sofa            Cm    Teal'\n",
      " 'Modern Home T                           cm'\n",
      " 'Vintage Lion Head Ring Dresser Drawer Cabinet Door Pull Handle  pcs'\n",
      " 'Clear Coffee Filter Cup Cone Maker Brewer Holder Plastic'\n",
      " 'Sedra Bentley Leather Buff   Dark Brown'\n",
      " 'Pieces Paracord Fids Accessories  Stainless Steel Lacing'\n",
      " 'Therapy Swing for Kids Hanging Hammock Swing Cuddle Indoor Outdoor Hammock for Children Sensory Integration Red'\n",
      " 'Homztown Kids Beanbag Orange' 'Mintra'\n",
      " 'Outdoor EDC Waterproof Sealed Storage Medicine Bottle for Hiking Camping   Pumpkin Orange'\n",
      " 'Folding Stool  Suitable for Outdoor Beach Camping  Hiking  Fishing'\n",
      " 'Rango Romantic Chair   Blue'\n",
      " 'OR L    Delicate Embroidery Cross Stitch Kit Diamond Painting Home Decoration colorful'\n",
      " 'Homztown Mega Chair'\n",
      " 'Inches Scale Divider Proportional Scale Divider Drawing'\n",
      " 'Homztown Regular Beanbag Pink' 'X   X'\n",
      " 'Periodic Table with Real Elements Inside Real Elements'\n",
      " 'Wooden Foldable Chair     X   Cm'\n",
      " 'Arikaty New Primo Sofa Bed       X     Cm' 'Countertop Wood Table'\n",
      " 'Fishing Chair Portable Outdoor Folding Fishing Chair'\n",
      " 'Portable Folding Chair Outdoor Folding Stool for Fishing Hiking Picnic BBQ Oxford Cloth Foldable Camping Beach Chair'\n",
      " 'Rolls Of High Temperature Adhesive Tape for Thermal'\n",
      " 'mm Espresso Dosing Funnel  Magnetic Ring Coffee'\n",
      " 'Homztown Large Beanbag Sabia Gray' 'Outdoor Folding Chair   Plastic'\n",
      " 'Portable Table   Lap desks     Cmx  Cm   Beige'\n",
      " 'Wall Mounted Folding Desk      X    Cm Black X Black'\n",
      " 'Tiger Plush Toy Stuffed Lifelike Animal Toys for Children'\n",
      " 'OR Solid Color Bandage Trendy Summer Beach Y Bikinis Women Swimsuit Fashion Blue'\n",
      " 'Wall Mounted Folding Desk     X    Cm White X Black'\n",
      " 'Office Chair      X  Cm   Black White' 'Watanya'\n",
      " 'Homztown Regular Beanbag'\n",
      " 'Dollhosue Miniature Modern Ceramic China Porcelain Rose'\n",
      " 'General luxury    center table    side tables     pieces   multi color'\n",
      " 'Conch Tray Resin Silicone Mold  Used to Make Jewelry'\n",
      " 'Rango Cabotene Seat      X    Cm   Gray'\n",
      " 'CB Men Boar Hair Bristle Beard Mustache Brush Hard Round Wood Handle Comb'\n",
      " 'tb ssd  ssd drive ssd hard drive     inch'\n",
      " 'Pcs Reusable Coffee Capsules Spoon Brush Set For Dolce'\n",
      " 'Rango Sofa Bed   Dark Blue    Cushions   Yellow     Pcs'\n",
      " 'Tv Table       Cm' 'Home Gallery TV Stand   White    X    X'\n",
      " 'Pcs Carbon Steel Hexagonal Countersunk Screw Nut Kit M'\n",
      " 'Sweet furniture' 'Rango Romantic Chair   Grey'\n",
      " 'Rango Bed Chair            cm' 'Khorshed Folding Table   Biege'\n",
      " 'Home Gallery Modern White TV Stand And Media Console   White'\n",
      " 'DVO Universal For JBC C    Soldering Iron Tips Welding'\n",
      " 'Pcs Wood Knobs Wooden Cabinet Drawer Handles With'\n",
      " 'Hand Soap Dispenser Stainless Steel Dish Bath Countertop Lotion Dispensers Black Liquid Wash Brushed Metal Soap Bottle'\n",
      " 'Wall Mounted Folding Desk      X    Cm Brown X Black'\n",
      " 'Rango Sofa With Storage Place          Cm  Brown'\n",
      " 'Canvas Hammock    x    No Stick  Red Stripes'\n",
      " 'Ht Comfortable Medical Spine Support Seat And Bolster'\n",
      " 'Rango Corner Bed      x    Cm   Brown   Free Pouf        cm'\n",
      " 'Homztown Regular Beanbag Orange'\n",
      " 'Indoor Outdoor Hammock Chair Macrame Swing Cotton Rope Hanging Chair'\n",
      " 'TheWoodenArt Natural Wood   Natural Veneer Tables Set     Pcs'\n",
      " 'Art House           L shape' 'Rango       Sofa   Brown'\n",
      " 'Classic Style Marquise Chair   Gold   White'\n",
      " 'Wall Mounted Folding Desk     X    Cm Brown X Black'\n",
      " 'Modern Coffee Table   Brown            CM'\n",
      " 'OR  D DIY Zodiacal Constellations Diamond Painting Cross Stitch Wall Decoration blue'\n",
      " 'Bar Chair   Red' 'High heels  Die Stencils Eming DIY Scrapbooking'\n",
      " 'Computer Chair   Black'\n",
      " 'Male Metric Joint End Threaded Rod Single Bearing Spherical'\n",
      " 'Modern Home Office Desk           White'\n",
      " 'Coffee Table   Beige    X    X'\n",
      " 'Black   mm Diameter Blanking End Caps Round Tube Insert    Pcs'\n",
      " 'Modern Home GR       Modern Decor Coffee Table   Red         Cm'\n",
      " 'OR Solid Color Bandage Trendy Summer Beach Y Bikinis Women Swimsuit Fashion Yellow   Green'\n",
      " 'Beach Camping Chair Side Pocket Armrest Organizer'\n",
      " 'Home Gallery Coffee Table   Beige    X    X'\n",
      " 'In Home Bed Sofa            Cm    Teal'\n",
      " 'Full Screen LCD Writing Tablet    Inch Erasable Reusable Doodle Drawing Board Kids Early Educational Learning Toys'\n",
      " 'Color Elastic Sofa Tight Wrap All inclusive Slip resistant Sofa Cover Elastic Sofa Towel Single Two Three Four seater CUI'\n",
      " 'Homztown Sofa Beanbag Blue'\n",
      " 'SunBoat Commerce                                   HDPE'\n",
      " 'Big Feet Shape Bathroom Rug Non Slip Carpet Doormat Floor'\n",
      " 'Arikaty Bed Sofa            Cm    Brown'\n",
      " 'Modern Home Home  Studying Desk     x  x      Wood'\n",
      " 'Minihomz                        minihomz'\n",
      " 'X Ceramic Door Wardrobe Cabinet Cupboard Knob Handle'\n",
      " 'Corner Protection Edge Protection Child Protection Baby'\n",
      " 'OR Washi Sticky Paper Masking Adhesive Tape Label DIY Craft Scrapbooking'\n",
      " 'Dumplings Maker Mold  Dumpling Mold Creative Kitchen Gadgets'\n",
      " 'Marfy Touch Portable Folding Laptop Desk    Cmx  Cm   Blue'\n",
      " 'Modern Home Office Desk            White Black'\n",
      " 'Homztown Regular Beanbag Purple'\n",
      " 'Trolley Wall mounted Manual Soap Dispenser ABS Electroplate Ergonomic Leaver Modeling Chic Bathroom Kitchen Utility Silver'\n",
      " 'Table Mate shelves Plastic with metal feet Table   black' 'Art House'\n",
      " 'Home Gallery Modern TV Stand And Media Console   White'\n",
      " 'Homztown Sofa Beanbag Black' 'Beroia'\n",
      " 'OR  D Diamond Painting DIY Kits Wall Pictures Decoration Full Diamond  x  CM multi color'\n",
      " 'Homztown Large Beanbag Orange' 'Floral Shelf Brackets'\n",
      " 'OR    English Small Letter Bracelets Personality Round Pendant Bracelet Necklace Rose Gold'\n",
      " 'Transparent Spray Bottle High Pressure Mist Spray Bottle Disinfectant Portable Bottling of Perfume and Cosmetics   Ml C'\n",
      " 'x   x' 'Kitchen Spoon Sucker Electric Rice Cooker Rice Spoon Hanger'\n",
      " 'Cm Long Black Aluminum Alloy Screw Locking Split Ring'\n",
      " 'Folding Chair   White'\n",
      " 'Rango Corner Bed      x    Cm   Brown   Free Puff        cm'\n",
      " 'Sedra Leather Soccer Bean Bag   White Red'\n",
      " 'KW trio   pcs Plastic    Hole Loose Leaf Binders Ring'\n",
      " 'Takara Tomy Rika chan LF    Koori Korokoro Reizoko' 'SANUME'\n",
      " 'Rango Romantic Chair   Black' 'Sprayer model coloring  art drawing'\n",
      " 'Epoch Sylvanian Families Ka     Shining room light'\n",
      " 'Modern Home R        PCS' 'Rango Romantic Chair   Brown'\n",
      " 'Elastic Electric Gaming Chair Covers Household Office'\n",
      " 'OR   X  CM Art Painting Full Diamond Handmade Home Wall Decoration L    multicolour'\n",
      " 'Homztown Sofa Beanbag Pink'\n",
      " 'Epoch Sylvanian Families Chocolat Rabbit Futago chan   Furniture Set'\n",
      " 'Star Curtains Stars Blackout Curtains For Kids Girls'\n",
      " 'In Home New sofa bed sofa   cashmere'\n",
      " 'New Barbecue Cover Household Dust Cover'\n",
      " 'Tema Home  Studying Desk     x  x      White'\n",
      " 'Home Gallery   Tier Coffee Table With Open Shelf   White'\n",
      " 'Leather long back Chair   Black' 'Footstool Cover Replacement'\n",
      " 'V      B'\n",
      " 'TheWoodenArt Natural Wood   Natural Veneer Tables Set     Pcs    Brown'\n",
      " 'General all luxury nightstand ll xx'\n",
      " 'Pcs Camping Stool Folding Portable Stool for Fishing'\n",
      " 'Keyboard Cover Thin Universal Waterproof Silicone For ASUS Clear'\n",
      " 'Epoch Sylvanian Families Doll   furniture set Chocolat Rabbit Baby   Furniture Set DF'\n",
      " 'Computer Stand with   Locking Wheels and   Swivel Casters'\n",
      " 'OR Noise Reduction And Sound Insulation Earplug Red Household Goods Practical Yellow'\n",
      " 'Homztown Regular Beanbag Yellow'\n",
      " 'Seater Sofa Slipcover Stretch Protector Soft Couch Love Seat Chair Cover CUI'\n",
      " 'Blackout Pleated Window Shades Window Blind Blackout Light'\n",
      " 'OR Art Painting Handmade Full Diamond Cross Stitch Wall Decoration Multi color'\n",
      " 'Double Layer Underwear Storage Box Drawer Fabric' 'StyleWayz'\n",
      " 'Wonderlife  Pc Night Light Tissue Box Household Napkin Container Home Decoration Ornament'\n",
      " 'Ahda Deco'\n",
      " 'OR DIY Diamond Painting Accessories Cross Stitch Embroidery Pen Tray Glue Kit green'\n",
      " 'D Window Film Rainbow Reflective Decorative Privacy Static'\n",
      " 'Sedra Leather Soccer Bean Bag   White Gold'\n",
      " 'Two Seats Sofa Cushion Furniture Protector Cover Pad Pet Waterproof CUI'\n",
      " 'Home Gallery Side Table   Beige D   X H   X W'\n",
      " 'cm Black Induction Hob Converter Heat Diffuser Disc Adapter Plate Saucepan'\n",
      " 'Takara Tomy Licca chan Dress LF    Dreaming Princess Crystal Dresser Set'\n",
      " 'Artistico Folding Chair' 'Art House                  L'\n",
      " 'SOLID Diverter   way Diverter Valve All     Inch IPS Shower' 'Woplek'\n",
      " 'Pcs Lazy Sofa Cover Unfilled Linen Recliner Seat Bean Bag'\n",
      " 'Sedra Waterproof Buff Bean Bag   Blue'\n",
      " 'Sedra Waterproof Buff Bean Bag   Orange' 'Farhan'\n",
      " 'Coffee Table Set     Pcs   White' 'Trade Secret'\n",
      " 'Home Gallery Side Table   BEIGE W   X D   X H'\n",
      " 'Cupboard Cabinet Drawer Vintage Lion Head Ring Pull Knob Handle   Pcs'\n",
      " 'CIREM' 'Computer Swivel Chair Cover Elastic Household Split Chair'\n",
      " 'PCS Patio Umbrella Steel Anchor Stand Beach Umbrella'\n",
      " 'Cartoon Linen Desk Storage Holder Cotton Organizer Sundries Cute Home Decor'\n",
      " 'Jute Simple Tissue Box Living Room Cotton Pumping Tissue Case Car Towel Napkin Papers Holder Pouch Table Home Decor C'\n",
      " 'Camping Hiking Travel Kneeling Gardening Supplies'\n",
      " 'Arikaty Sofa Bed   Dark Blue    Cushions   Yellow     Pcs'\n",
      " 'Epoch Sylvanian Families Furniture Single Bed     x   x   cm Ka'\n",
      " 'Multifunctional Lap Desk Holder Computer Table For iPad'\n",
      " 'Pcs Soft Rubber Desk Corner Pad Cover Protector Cushion Transparent'\n",
      " 'Rango       Sofa   Dark Red'\n",
      " 'OR   pcs DIY  D Diamond Painting Tools Set Stitch Pen Accessories Multicolor'\n",
      " 'Arikaty Corner Bed L Shape            Cm'\n",
      " 'Sedra Big Big Buff   Small Buff     Pcs   Yellow'\n",
      " 'Gaming Chair   Black Red'\n",
      " 'Rango Corner Bed           Cm   Dark Blue   Free Puff         Cm'\n",
      " 'Protable Mini Folding Chair Stool Outdoor Hiking Camping Fishing BBQ Picnic Seat CUI'\n",
      " 'OR Single Horn Horse Diamond Painting Mosaic Embroidery Cross Stitch Decoration colorful'\n",
      " 'Anti skid Bookends Shelf Holder Book Nature Wood Stand Square' 'Yashmak'\n",
      " 'Homztown Kids Beanbag Purple'\n",
      " 'x Mouse Trap Mouse Finger Live Trap Rat Trap'\n",
      " 'Ahda Deco Classic Floral Style Fold able Tables Set    Pcs'\n",
      " 'Dollhouse Furniture Miniature Single Sofa Armchair' 'TheWoodenArt    x'\n",
      " 'Rango Chair Bed          cm   Black'\n",
      " 'Wall Mounted Folding Desk     X    Cm Beige X GRAY'\n",
      " 'Cake Decorating Sugarcraft Modelling Tool Kit    pcs'\n",
      " 'Gad Woods Modern White Floating TV Stand   White'\n",
      " 'Marvo CH     Scorpion Adjustable Gaming Chair   Black Red'\n",
      " 'OR Home Color Drawing Painting Stencils Templates for Kids Imagination Improving Multi color'\n",
      " 'Modern Home TV Table      x  x  Cm   Black'\n",
      " 'OR J    Full Diamond DIY Square Painting Cross Stitch Embroidery Decor colorful'\n",
      " 'Classic Black Red Blue Marker Pen Plastic Oily Waterproof Permanent'\n",
      " 'Arikaty New Bed       X    cm   Gray'\n",
      " 'Outdoor Aluminum Alloy Camping Folding Table Portable Mini Table Barbecue Coffee Table Super Light Camping Table Silver'\n",
      " 'Computer Desk Table Grommet Cable Wire Hole Plastic Cover'\n",
      " 'PCS Heavy Duty T Hinge     Stainless Steel Marine Grade'\n",
      " 'Takara Tomy Licca chan LF'\n",
      " 'OR Cross Stitch  D Diamond Painting Rhinestone Decoration Square colorful'\n",
      " 'Ombre                                                                                                                             W x       L'\n",
      " 'Cell Foam Camping Tent Pad Indoor Outdoor'\n",
      " 'Sola Golden Stainless Steel Table Italian White Calacatta Marble Top'\n",
      " 'PC Coffee Capsule for Nespresso Vertuo Vertuoline Pods'\n",
      " 'Pcs Table Corner Protector Child Anti Collision Silicone'\n",
      " 'Pack Of Disney Shapes Adhesive Cover Book      pcs'\n",
      " 'Elegant Arabic Style Paravan   Brown'\n",
      " 'In Home Sofa Bed      x    cm   Pouf     x   cm     Cushions'\n",
      " 'Universal Heavy Duty Metal Bearing Rotating Swivel Turntable Plate TV Rack Desk Lazy Susan Square   Inch CUI'\n",
      " 'Wall Mounted Folding Desk      X    Cm Beige X GRAY'\n",
      " 'Cupboard Cabinet Drawer Lion Head Ring Pull Knob Handle'\n",
      " 'OR   X  cm Charm Flower Landscape Pattern Diamond Cross Painting Decoration multi color mixed'\n",
      " 'Homztown Kids Beanbag Blue'\n",
      " 'Patio Furniture Covers  Outdoor Waterproof Furniture Cover   Universal Outside Table and Chair Covers  Furniture Cover B'\n",
      " 'Elegant Modern Style Table   Beige' 'Homztown Large Beanbag Red'\n",
      " 'Formula Dispenser  Non Spill Baby Milk Powder Dispenser and Snack Cup  Baby Food Storage Container  Yellow'\n",
      " 'Sedra Rabbit PVC Kids Buff   Blue' 'Homztown Lounge Yellow'\n",
      " 'OR Magic DIY Handmade Diamond Painting Embroidery Cross Stitch Wall Decor Bear'\n",
      " 'Modern TV Stand And Media Console   White'\n",
      " 'Artistico Office Cabinet      Cm'\n",
      " 'Pcs Plastic Cork Board Safety Colored Push Pins'\n",
      " 'With Platforms Disc Swings Seat Kids Playground'\n",
      " 'OR Pregnancy Waistband Belt Adjustable Elastic Waist Extender Pants For Pregnant black'\n",
      " 'Large LCD Writing Board    Inches with   Delete Keys and'\n",
      " 'Homztown Large Beanbag Purple'\n",
      " 'Pieces Rubber Gasket Sealing Ring Pressure Cookers   cm' 'Safeer'\n",
      " 'OR Religion Painting Handmade Diamond Indoor Wall Embroidery Decor J   Multicolor'\n",
      " 'Multifunctional Lap Desk Holder Computer Table For'\n",
      " 'Wall Mounted Shower Seat Bathroom Shower Folding Seat'\n",
      " 'Rango Romantic Chair          Cm   Red'\n",
      " 'Wall Mounted Bathroom Shelf Organizer For Bathroom'\n",
      " 'OR Cross Stitch Full Diamond Embroidery Painting L    colorful'\n",
      " 'Mooncake Mold Cookie Cutter With   Ingot Stamps Hand Press'\n",
      " 'Pcs Black Rubber Oil Seal O Shaped Rings Seal Washers'\n",
      " 'Rango Corner Bed      x    cm   Brown'\n",
      " 'General                         x'\n",
      " 'USB    Type c usb flash Drive USB    thumb drive'\n",
      " 'Kitchen Roll Holder  Metal     X    X    Cm  Silver'\n",
      " 'Car Tyre Table           Orange'\n",
      " 'Universal  Pcs Travel Storage Bags Clothes Packing Cube Waterproof Luggage Organizer Pouch CUI'\n",
      " 'Home Gallery Side Table With Storage Shelves W   X H   X D'\n",
      " 'OR  D DIY Diamond Plated Painting Home Bedroom Decoration Religious Wall Sticker multicolor'\n",
      " 'PCS Set Recyclable Anti Slip Washable Rug Carpet Mat For Home Bath Living Room Black'\n",
      " 'Sedra Waterproof Buff Bean Bag   Yellow'\n",
      " 'KW trio Plastic Binder Ring Opener For Loose Leaf Binders'\n",
      " 'Alphabet Shaped Iron Metal Bookends Support Holder Desk Stands For Books Blue'\n",
      " 'Pcs Clear Plastic Boxes for Gifts Pvc Packing Box Gift Packaging Transparent Candy Box Wedding Gift Boxes Party Favors'\n",
      " 'Pcs Unbleached Parchment Paper  Precut Baking Liners'\n",
      " 'Espresso Stand Coffee Measure Tamper Spoon Stainless Steel'\n",
      " 'Modern Style Swivel Drawers Commode   Multicolor'\n",
      " 'Mini Chalkboard Signs     Pack Framed Small Chalkboard Labels with Easel Stand  Wooden Blackboard for Table Numbers  Food Signs  Wedding Signs  Message Board Event Decorations'\n",
      " 'Mat Geometric Lattice Carpet Kitchen Bath Antiskid Mat'\n",
      " 'Mat Faux Fur Rug Anti slip Solid Bath Carpet'\n",
      " 'Pcs Clear Plastic Boxes for Gifts Pvc Packing Box Gift'\n",
      " 'x Rubber O Ring Oil Seal Gaskets          mm' 'Emtop'\n",
      " 'Hiamok   Pcs Washing Machine Refrigerator Table Cabinet Chair Cushion Shock Proof Pads'\n",
      " 'Epoch Sylvanian Families furniture Dining table set Ka'\n",
      " 'Inflatable Sleeping Pad for Camping  Air Mattress'\n",
      " 'Nitrile Rubber Sealing Ring   O ring     X    X   Mm'\n",
      " 'Office Desk      x  cm'\n",
      " 'in   Espresso Coffee Bean Tea Spoon Tools Professional Measuring   g'\n",
      " 'OR  D Diamond Painting Full Cross Stitch Kit Rhinestone Embroidery   x  cm L    Multi color'\n",
      " 'Jent Medical desk Chair' 'Homztown Regular Beanbag Blue'\n",
      " 'Homztown Large Beanbag Yellow' 'Plastic Chair Ratan Huge Brown'\n",
      " 'Wx     L' 'Corner Sofa Bed             Cm'\n",
      " 'OR Colored Rose Diamond Painting E    Cross Stitch Embroidery Decoration Colorful'\n",
      " 'Outdoor TV Cover    D Polyester Weatherproof Fla'\n",
      " 'Home Gallery Side Table   x  x'\n",
      " 'OR Two Swans Painting Handmade Diamond Indoor Wall Embroidery Decoration Multicolor'\n",
      " 'Ahda Deco Fold able Table With Mandala Style      x    x   cm'\n",
      " 'Elastic Stretch Chair Cover Seat Covers Spandex Washable Banquet Wedding Party CUI'\n",
      " 'Modern Table     X  X  Cm' 'Hard Pvc Low Back Chair   Black'\n",
      " 'Lounge Chair Covers Waterproof Outdoor Garden'\n",
      " 'Multipurpose Compact Picnic Canopy Awning'\n",
      " 'Anti pinch Door Wedge Doorstop Door Stop Stoppers'\n",
      " 'Patio Chair Covers   Pack Waterproof Outdoor Lounge Deep'\n",
      " 'MT Anti Adhesion Wire Four in One Combination Pen Holder Full Hollow Design'\n",
      " 'Single Seater Desk   Chair    Pcs'\n",
      " 'Home Cushion Pillow Can Be Washed Without Core Heart shaped Pillowcase  Size    x  cm White'\n",
      " 'Art House            L shape' 'Corner Bed L Shape            Cm'\n",
      " 'Pcs Self Adhesive Black Foam Table Chair Leg Pad Protector'\n",
      " 'OR Geometric Wooden Wall Shelf Mounted Storage Rack Organization For Bedroom Pink'\n",
      " 'Stainless Steel Cheese Grater  Rotary Chopper  Vegetable'\n",
      " 'Pieces     Mm Diameter     Mm Thickness Black Rubber'\n",
      " 'Pcs Color Cannot Be Specified  Shockproof Pad Door'\n",
      " 'OR A Type Glue material crystal pendant perforated necklace silicone mold transparent'\n",
      " 'Adjustable Angle Foldable Portable Reading Book Stand Document Holder Green'\n",
      " 'Office Chair      X  Cm   Black'\n",
      " 'Chair Foot Table Mat Furniture Foot Bed Leg Sofa'\n",
      " 'Elastic Fitted Cover Cloth Dining Tables    inch' 'Master'\n",
      " 'sewing machine dust cover with storage pockets'\n",
      " 'Aluminum Coffee Lid for Nespresso Vertuoline Coffee Capsule'\n",
      " 'A  Magnetic Whiteboard Sheet For Kitchen Fridge With'\n",
      " 'OR Transparent Clothing Dust proof Hanging Pocket Black'\n",
      " 'Nordic Modern Style Coffee Book Table Bedside Table Mini'\n",
      " 'Rango Bed Sofa   Coffe Latte'\n",
      " 'Portable Storage Box Mobile Phone Data Line Earphone Bag Orange Orange'\n",
      " 'OR  D Diamond Painting Bridge Embroidery Rhinestone Cross Stitch Kit Multi color'\n",
      " 'Family Mat Ramie Insulation Mat Round Placemat Carpet'\n",
      " 'Thin Parts Deep Groove Ball Bearings Ball Bearing    X'\n",
      " 'Dollhouse Furniture Fabric Double Sofa for      Dolls House'\n",
      " 'Modern Home Office Desk           White Red'\n",
      " 'Foldable multifunctional small storage box Organizer Cosmetic Storage Case'\n",
      " 'Pcs Folding Washable Lint Dust Reusable Hair Remover'\n",
      " 'Outdoor Portable Foldable EVA Foam Waterproof Garden Cushion Seat Pad Chair Blue'\n",
      " 'Elegant Oriental Table   Arabic Style   Multicolor'\n",
      " 'Universal        cm Pet Dog Cat Couch Seat Sofa Cushion Pad Protector Cover Slipcover CUI'\n",
      " 'Rango Sofa Bed      x    Cm   Cashmere'\n",
      " 'Wooden   Panel Single Door Frame Model Miniature Doll House DIY Decoration Kitchen Game Party Toys for Dollhouse'\n",
      " 'OR Diamond Cross Stitch  D Painting Full Of Diamonds Landscape Scenery E    Landscape scenery'\n",
      " 'Formula Dispenser  Baby Milk Powder Dispenser and Snack'\n",
      " 'Vintage Antique Drawer Handle Home Kitchen Cabinet Hardware Cup Pull Handle Green Bronze'\n",
      " 'Mat  Diameter   CM Home Furnishing Carpet'\n",
      " 'Tri Holder Filter Sink Strainer Bag Sink Net Triangular'\n",
      " 'Wall Mounted Folding Desk     X    Cm Gray X GRAY'\n",
      " 'Epoch Sylvanian Families furniture Fashionable accessory set Ka'\n",
      " 'USB  V  A Lithium Battery Charging Module Lipo Charge'\n",
      " 'lazy sofa gaming kid toddler Beanbag Chair Adult'\n",
      " 'OR Multi purpose Perfect Airtight     ML Food Storage Container  For PREUP Transparent'\n",
      " 'OR Cute Deer Pattern DIY Diamond Painting Charming Cross Stitch Art multi color mixed'\n",
      " 'Embroidered Retro Home Sofa Cushion Pillow Cover  Size      cm Without Core Light Coffee'\n",
      " 'Pcs Swivel Head Vacuum Cleaner Brush Cleaner Nozzle Suction Floor Nozzle with Adapter Swivel Head Carpet Cleaner Parts'\n",
      " 'x   mm Feet Pad Skid Glide Nail Protector Chair Table'\n",
      " 'Pcs Vintage Drawer Door Cabinet Iron Shell Cup Handle'\n",
      " 'Elegant Oriental Style Table   Brown'\n",
      " 'Corner Protection Edge Protection Child Protection Baby Safety Mattress Soft Brown'\n",
      " 'OR  D Diamond Painting Kit Full Drill Cross Stitch Arts Craft Canvas Wall Decor Multi color'\n",
      " 'Caster Wheels Rubber Heavy Duty'\n",
      " 'Scale Dollhouse Couch Miniature Large Sofa with Pillow'\n",
      " 'Furniture Pad Stackable Bed Lifts Floor Protector'\n",
      " 'Flower Pot Trays Ring Balcony Wall Mounted Pot Ring Holder Folding Metal Planter Stand Tray Flower Pot Tray'\n",
      " 'Portable Folding Chair Portable Beach Picnic Stool Fishing'\n",
      " 'Bathroom Home   Living Leaf Box Dish Storage Plate Tray Holder Case Container Blue'\n",
      " 'Wooden Portable Leg Foldable Computer Laptop Desk Picnic Table'\n",
      " 'Folding Step Stool Portable Chair Seat'\n",
      " 'OR DIY  D Diamond Painting Deer Pattern Resin Cross Stitch Craft Home Decor D    multi color'\n",
      " 'Food Storage Container Square Kitchen Storage Box'\n",
      " 'PC Heavy Duty Furniture Mover for Home Shop Lifting Moving Furniture Sliders Kit Hand Transport Tool Load           Lbs'\n",
      " 'D Kitten Puppy Broken Wall Decoration Sticker Bathroom Toilet Stickers Multicolor'\n",
      " 'Large Inflatable Sofa Chair Bean Bag Flocking PVC Garden'\n",
      " 'Bed Desk Table Couch Stand Holder'\n",
      " 'OR  D DIY X      Handmade Full Diamond Painting Cross Stitch Embroidery Decor colorful'\n",
      " 'Manual Meat Grinder   Sausage Noodle Dishes Handheld Making Gadgets Mincer'\n",
      " 'OR W    Small House Pattern DIY Embroidery Diamond Painting Cross Stitch Picture multi color mixed'\n",
      " 'Gold Stamping Pillow Case Sofa Cushion Pillow Holder Home Decorations  No Pillow Core  Size    x  cm GOLD'\n",
      " 'Jacquard Sofa Cover   Seater Stretch Elastic Stretch'\n",
      " 'Wall Mounted Shower Seat Bathroom Shower Folding Seat Folding Beach Bath Shower Stool Toilet Shower Chair'\n",
      " 'Embroidered Retro Home Sofa Cushion Pillow Cover  Size      cm Without Core Coffe'\n",
      " 'KL      Glitter Sequins Sofa Throw Pillow Cover For Home Decoration Sofa Cushion Case Pink'\n",
      " 'Glass Honey Jar Glass Honey Pot with Dipper   Lid Jar'\n",
      " 'Epoch Sylvanian Families Room set Big house with red roof Recommended furniture set Se'\n",
      " 'Domino Mold Mold Domino Mold For Resin    Cavities Silicone'\n",
      " 'Homztown Large Beanbag Blue' 'x    cm'\n",
      " 'Home Universal Modern Sofa Furniture Seats Mat Cotton Non Slip Cover Pad       cm Croatia Style'\n",
      " 'Keyboard Protection Webcam Cover Screen Light Red Black'\n",
      " 'Elegant Hand Painted Modern Vitrine   Classic French Style   Off White'\n",
      " 'Home Cushion Pillow Can Be Washed Without Core Heart shaped Pillowcase  Size    x  cm Brown'\n",
      " 'Home Cushion Pillow Can Be Washed Without Core Heart shaped Pillowcase  Size    x  cm Red Wine'\n",
      " 'Small Tension Rods For Cabinets Cupboard Bars For RV'\n",
      " 'KL      Glitter Sequins Sofa Throw Pillow Cover For Home Decoration Sofa Cushion Case Champagne'\n",
      " 'Home Cushion Pillow Can Be Washed Without Core Heart shaped Pillowcase  Size    x  cm Pink'\n",
      " 'KL      Glitter Sequins Sofa Throw Pillow Cover For Home Decoration Sofa Cushion Case Coffee'\n",
      " 'Pairs Toilet Seat Hinges Set With Fittings Screws For'\n",
      " 'Chair Armrest Pads Soft Memory Foam Elbow Pillow Support Fit For Most Chairs'\n",
      " 'Coffee Tamper Adjustable Depth with Scale   Lb Espresso'\n",
      " 'Coconut Bowl Decoration Fruit Salad Noodle Rice Bowl Wooden'\n",
      " 'Pcs      Aluminum Corner Bracket  L Shape Right Angle'\n",
      " 'JINHAO SHAKR Series Plastic Fountain Pen     mm'\n",
      " 'Picnic Accessories  Garden Hammock   Heavy Duty Parachute Fabric  Hanging Bed  Blue'\n",
      " 'Bird Parrot Toys Wooden Hanging Swing Hammock Pet Cage'\n",
      " 'Rango Sofa Bed      x    cm   Ottoman     x  cm'\n",
      " 'Table Football Football Game Table Football Machine Plastic'\n",
      " 'Round Braided Placemats Set Of   Jute Handmade   Inch Heat'\n",
      " 'In   Matching Letter Game Number Math Counting Alphabet'\n",
      " 'Pcs Decorative Knob Ceramic Knobs Pull Tool With Mounting'\n",
      " 'Coffee Table            Cm   Brown'\n",
      " 'Childs Kids Chef Hat Apron Cooking Baking Boy Girl Chefs'\n",
      " 'Round Spiral Drying Rack Multifunction Quilt Blanket Clothes Hanger'\n",
      " 'Seafood Tool Crab Crackers Picks Spoons Stainless Steel'\n",
      " 'X Paper Cake Cup Cupcake Cases Liners Muffin Kitchen'\n",
      " 'Baking Cups      Piece Tulip Cake Cup Liner Baking Paper'\n",
      " 'Jewelry Box Mini Stud Earrings Rings Makeup'\n",
      " 'Adjustable Anti Shake Bed Frame Tool'\n",
      " 'Tenwin Corner Table Dust Vacuum Cleaner Sweeper Portable'\n",
      " 'Dog Toothbrush Chew Toys for Aggressive Chewers'\n",
      " 'USB Electric Garlic Masher Mini Food Chopper Garlic Blender'\n",
      " 'Universal Swivel Computer Chair Cover Stretch Office Armchair Protector Seat Decoration Chair Is Not Included  CUI'\n",
      " 'Soft Baby Kids Play Mat Fluffy Area Floor Rug Carpet Game Gym Activity Blanket CUI'\n",
      " 'Culinary Drawing Decorating Spoon Set    Pcs Saucier'\n",
      " 'Cosmoplast Folding Chair   White'\n",
      " 'Mat Household Living Room Carpet   Size    cm'\n",
      " 'Travel Stool Adjustable Pocket Stool Black'\n",
      " 'Homztown Kids Beanbag Yellow'\n",
      " 'Pcs Key ID Label Tags Split Ring Keyring Keychain Blu'\n",
      " 'x   Cleaning Kit  Clean Accessories    Brush Set Fits For'\n",
      " 'Wood Spelling Words Game Letter Recognition Card Montessori'\n",
      " 'Pcs Cute Stainless Steel Flower Teaspoon Dessert Coffee'\n",
      " 'quot W      quot  L'\n",
      " 'Shell Type Zinc Alloy Furniture Kitchen Door Handle Drawer Pull'\n",
      " 'Wooden Tissue Box Mediterranean Style Tissue Home'\n",
      " 'For Philips HD     HD     HD     HD     HD     HD     HD     Coffee Maker Spare Part Replacement'\n",
      " 'TheWoodenArt Natural Wood White Tables Set     Pcs'\n",
      " 'General                                                    W'\n",
      " 'Lipstick Box Transparent Makeup Storage Box Lipstick'\n",
      " 'Storage Rack Two Layer Cosmetic Hollow Storage Box'\n",
      " 'Jewelry Box Jewelry Exquisite Cosmetic Case Jewelry Storage Box Container Box Graduate Day Gift'\n",
      " 'Penguin                              Bean Bag'\n",
      " 'Rango Sofa Bed      x    cm   Pouf     x   cm     Cushions'\n",
      " 'Camping Table Solid Aluminum Alloy Folding Table'\n",
      " 'Sarcomisr Office Chair Set     Pcs   Mesh Blue'\n",
      " 'Foldable  Bleacher Chairs Heated Stadium Seats Pearl'\n",
      " 'Pcs Household Footstool Stable Stable Bamboo Toilet Stool'\n",
      " 'Aluminum Alloy Laptop Table Folding Notebook Desktop Stand with Cooling Fan Bed Laptop Tray Desk Study Desk'\n",
      " 'Folding Bench Reusable Portable Camping Bench Blue'\n",
      " 'Scale Dolls House Miniature Bar Chair Doll'\n",
      " 'Conch Tray Resin Silicone Mold  Used to Make'\n",
      " 'Portable Folding Chair Portable Beach Picnic Stool Fishing Chair M'\n",
      " 'Pad Clip Holder Folder Plastic Clipboard Blue Purple for p'\n",
      " 'Car Tyre Pouf'\n",
      " 'Outdoor Folding Table Beach Camping Picnic Table Portable'\n",
      " 'Pcs Bulldog Statue Storage Tray Resin Art Home Decoration'\n",
      " 'Rango Dual Headrest Sofa Bed     Seats   Purple' 'support'\n",
      " 'Outdoor Sports Camping Folding Chair      Aluminum Folding Fishing Chair Ultra Light Portable Mini Seat Leisure Outdoor Chair Large Black Gray'\n",
      " 'Outdoor Stool Gardening Outdoor Fishing Stool Beige'\n",
      " 'cm Dia Single Roller Window Pane Pulley Doors Wheel'\n",
      " 'Cosmetics Storage Box Desktop Multi Layer Finishing Box'\n",
      " 'Self Stick Furniture Round Felt Pads for Hard Surfaces'\n",
      " 'Antique Retro Vintage Decorative Latch Wooden Jewelry Box'\n",
      " 'gaming desk accessories cushion for office chair'\n",
      " 'Pcs      Dollhouse Miniature Dining Table and Chair Wooden Set Doll Toy for Dollhouse Decoration Accessories White'\n",
      " 'Transparent Waterproof Tablecloth PVC Table Cloth Solid'\n",
      " 'Rango New Sahara Sofa Bed    Cashmere'\n",
      " 'Tripod Stool Cloth Outdoor Tools Waterproof Lightweight For Green'\n",
      " 'Stretch Sofa Slipcover Milk Silk Fabric Anti Slip Soft'\n",
      " 'Crash Pad Door Handle Wall Mute Thickened Anti collision Pad'\n",
      " 'pu leather high elastic chair covers slipcovers' 'Ombre'\n",
      " 'Mat Ethnic Carpet Camel Mandala Flower Carpet'\n",
      " 'Kids Foldable Sofa Chair Cover'\n",
      " 'Crystal Display Essential Oil Shelf Moon Shelf Decor for'\n",
      " 'Mat aby Infant Play Mats Kids Crawling Carpet'\n",
      " 'stool folding   step folding step stool'\n",
      " 'Food Storage Cabinet Refrigerator Storage Box' 'Hard Drive Enclosure'\n",
      " 'pcs Retro Sweet Eye Work Top Beverages Silicone Coasters skidproof  brown'\n",
      " 'Egypt Antiques' 'camping hammock  person with tree straps'\n",
      " 'Crystal Door Knobs  Pcs    mm   Pcs    mm Clear Drawer'\n",
      " 'Sedra Tala Waterproof Buff   Yellow'\n",
      " 'Bestway Pavillo Camping Stool Chair Seat Fold N   No'\n",
      " 'Wall Mounted Folding Desk    x    cm Black'\n",
      " 'PVC Flocking Air Inflatable Travel Pillow Cushion'\n",
      " 'Sofa Chair Bean Bag Flocking PVC Garden Lounge'\n",
      " 'Casio Standard Analogue Ladys Standard Analog Women s LTP V   G  A']\n"
     ]
    }
   ],
   "source": [
    "print('Категории мебели:', categories) "
   ]
  },
  {
   "cell_type": "code",
   "execution_count": 8,
   "id": "9b660a8b",
   "metadata": {},
   "outputs": [
    {
     "name": "stdout",
     "output_type": "stream",
     "text": [
      "Количество категорий: 592\n"
     ]
    }
   ],
   "source": [
    "print('Количество категорий:', num_of_categories)  "
   ]
  },
  {
   "cell_type": "markdown",
   "id": "afff2da9",
   "metadata": {},
   "source": [
    "**3. У каких товаров максимальная/минимальная цена доставки?**"
   ]
  },
  {
   "cell_type": "markdown",
   "id": "2fef70cb",
   "metadata": {},
   "source": [
    "Найдем максимальную цену доставки в столбце delivery в нашем датасете. Затем найдем товар, который соответствует этой максимальной цене доставки. Для этого при помощи метода .iloc выберем первый элемент из стоблца furniture в строке с максимальной ценой доставки."
   ]
  },
  {
   "cell_type": "code",
   "execution_count": 12,
   "id": "fb1ee81a",
   "metadata": {},
   "outputs": [
    {
     "name": "stdout",
     "output_type": "stream",
     "text": [
      "Максимальная цена доставки: 2409.9 для товара: Inflatable Sleeping Pad for Camping  Air Mattress\n"
     ]
    }
   ],
   "source": [
    "max_delivery_price = data['delivery'].max()\n",
    "max_delivery_product = data[data['delivery'] == max_delivery_price]['furniture'].iloc[0] \n",
    "print('Максимальная цена доставки:', max_delivery_price, 'для товара:', max_delivery_product) "
   ]
  },
  {
   "cell_type": "markdown",
   "id": "e6495ab6",
   "metadata": {},
   "source": [
    "Выполним аналогичные действия для того, чтобы узнать минимальную цену доставки."
   ]
  },
  {
   "cell_type": "code",
   "execution_count": 14,
   "id": "93ca642b",
   "metadata": {},
   "outputs": [
    {
     "name": "stdout",
     "output_type": "stream",
     "text": [
      "Минимальная цена доставки: 10.83 для товара: Shannon cupboard, beige storage shelves, brown shelves\n"
     ]
    }
   ],
   "source": [
    "min_delivery_price = data['delivery'].min() \n",
    "min_delivery_product = data[data['delivery'] == min_delivery_price]['furniture'].iloc[0] \n",
    "print('Минимальная цена доставки:', min_delivery_price, 'для товара:', min_delivery_product) "
   ]
  },
  {
   "cell_type": "markdown",
   "id": "5f5178c9",
   "metadata": {},
   "source": [
    "**4. Создайте новый признак, принимающий значение 0 (скидка на товар менее 50%) или 1 (в обратном случае). Сколько товаров в каждой категории?**"
   ]
  },
  {
   "cell_type": "markdown",
   "id": "a2020389",
   "metadata": {},
   "source": [
    "Для начала преобразуем данные в столбце sale в целочисленный формат. Обратимся к столбцу sale в нашем датафрейме и уберем из каждого значения в этом столбце знак процента при помощи метода str.replace(), преобразуем значения без знака процента в целые числа при помощи метода astype(). Мы получили новый столбец sale_2 с целочисленными значениями без знака процента.\n",
    "\n",
    "Для создания нового бинарного признака обратимся к столбцу sale_2 и применим при помощи метода .apply к каждому значению в нем анонимную функцию lambda: если значение в столбце sale < 50%, то в новый стоблец записывается значение 0, в обратном случае записывается значение 1."
   ]
  },
  {
   "cell_type": "code",
   "execution_count": 48,
   "id": "af07d54d",
   "metadata": {},
   "outputs": [
    {
     "data": {
      "text/html": [
       "<div>\n",
       "<style scoped>\n",
       "    .dataframe tbody tr th:only-of-type {\n",
       "        vertical-align: middle;\n",
       "    }\n",
       "\n",
       "    .dataframe tbody tr th {\n",
       "        vertical-align: top;\n",
       "    }\n",
       "\n",
       "    .dataframe thead th {\n",
       "        text-align: right;\n",
       "    }\n",
       "</style>\n",
       "<table border=\"1\" class=\"dataframe\">\n",
       "  <thead>\n",
       "    <tr style=\"text-align: right;\">\n",
       "      <th></th>\n",
       "      <th>furniture</th>\n",
       "      <th>type</th>\n",
       "      <th>url</th>\n",
       "      <th>rate</th>\n",
       "      <th>delivery</th>\n",
       "      <th>sale</th>\n",
       "      <th>price</th>\n",
       "      <th>sale_2</th>\n",
       "      <th>sale_bin</th>\n",
       "    </tr>\n",
       "  </thead>\n",
       "  <tbody>\n",
       "    <tr>\n",
       "      <th>0</th>\n",
       "      <td>Bed side table with storage shelf</td>\n",
       "      <td>Home Decor Center</td>\n",
       "      <td>https://www.jumia.com.eg//ar/home-decor-center...</td>\n",
       "      <td>3.3</td>\n",
       "      <td>172.14</td>\n",
       "      <td>72%</td>\n",
       "      <td>2500.0</td>\n",
       "      <td>72</td>\n",
       "      <td>1</td>\n",
       "    </tr>\n",
       "    <tr>\n",
       "      <th>1</th>\n",
       "      <td>Bed side table with storage shelf</td>\n",
       "      <td>Modern Home</td>\n",
       "      <td>https://www.jumia.com.eg//ar/modern-home-bedsi...</td>\n",
       "      <td>0.0</td>\n",
       "      <td>172.14</td>\n",
       "      <td>54%</td>\n",
       "      <td>1200.0</td>\n",
       "      <td>54</td>\n",
       "      <td>1</td>\n",
       "    </tr>\n",
       "    <tr>\n",
       "      <th>2</th>\n",
       "      <td>Modern Zigzag TV Table</td>\n",
       "      <td>Modern Home</td>\n",
       "      <td>https://www.jumia.com.eg//ar/generic-zigzag-tv...</td>\n",
       "      <td>0.0</td>\n",
       "      <td>172.14</td>\n",
       "      <td>18%</td>\n",
       "      <td>1099.0</td>\n",
       "      <td>18</td>\n",
       "      <td>0</td>\n",
       "    </tr>\n",
       "    <tr>\n",
       "      <th>3</th>\n",
       "      <td>Bedside table with storage shelf</td>\n",
       "      <td>Modern Home</td>\n",
       "      <td>https://www.jumia.com.eg//ar/modern-home-bedsi...</td>\n",
       "      <td>0.0</td>\n",
       "      <td>172.14</td>\n",
       "      <td>58%</td>\n",
       "      <td>1200.0</td>\n",
       "      <td>58</td>\n",
       "      <td>1</td>\n",
       "    </tr>\n",
       "    <tr>\n",
       "      <th>4</th>\n",
       "      <td>Wall Mounted TV Unit with Cabinet TV Stand Uni...</td>\n",
       "      <td>Modern Home</td>\n",
       "      <td>https://www.jumia.com.eg//ar/modern-home-wall-...</td>\n",
       "      <td>5.0</td>\n",
       "      <td>52.44</td>\n",
       "      <td>54%</td>\n",
       "      <td>1400.0</td>\n",
       "      <td>54</td>\n",
       "      <td>1</td>\n",
       "    </tr>\n",
       "  </tbody>\n",
       "</table>\n",
       "</div>"
      ],
      "text/plain": [
       "                                           furniture               type  \\\n",
       "0                 Bed side table with storage shelf   Home Decor Center   \n",
       "1                 Bed side table with storage shelf         Modern Home   \n",
       "2                            Modern Zigzag TV Table         Modern Home   \n",
       "3                  Bedside table with storage shelf         Modern Home   \n",
       "4  Wall Mounted TV Unit with Cabinet TV Stand Uni...        Modern Home   \n",
       "\n",
       "                                                 url  rate  delivery sale  \\\n",
       "0  https://www.jumia.com.eg//ar/home-decor-center...   3.3    172.14  72%   \n",
       "1  https://www.jumia.com.eg//ar/modern-home-bedsi...   0.0    172.14  54%   \n",
       "2  https://www.jumia.com.eg//ar/generic-zigzag-tv...   0.0    172.14  18%   \n",
       "3  https://www.jumia.com.eg//ar/modern-home-bedsi...   0.0    172.14  58%   \n",
       "4  https://www.jumia.com.eg//ar/modern-home-wall-...   5.0     52.44  54%   \n",
       "\n",
       "    price  sale_2  sale_bin  \n",
       "0  2500.0      72         1  \n",
       "1  1200.0      54         1  \n",
       "2  1099.0      18         0  \n",
       "3  1200.0      58         1  \n",
       "4  1400.0      54         1  "
      ]
     },
     "execution_count": 48,
     "metadata": {},
     "output_type": "execute_result"
    }
   ],
   "source": [
    "data['sale_2'] = data['sale'].str.replace('%','').astype(int) \n",
    "data['sale_bin'] = data['sale_2'].apply(lambda x: 0 if x < 50 else 1) \n",
    "data.head()"
   ]
  },
  {
   "cell_type": "markdown",
   "id": "53e2bf20",
   "metadata": {},
   "source": [
    "Для того, чтоы узнать сколько товаров в каждой категории сгруппируем столбец с названием товаров (type) по нашему новому признаку sale_bin (функция .groupby()). Далее при помощи метода count() подсчитаем количество элементов в каждой группе."
   ]
  },
  {
   "cell_type": "code",
   "execution_count": 45,
   "id": "1d20e8ca",
   "metadata": {},
   "outputs": [
    {
     "name": "stdout",
     "output_type": "stream",
     "text": [
      "Количество товаров, у которых скидка на товар более 50%: 323\n",
      "Количество товаров, у которых скидка на товар менее 50%: 1677\n"
     ]
    }
   ],
   "source": [
    "amount = data.groupby('sale_bin')['type'].count()\n",
    "print(\"Количество товаров, у которых скидка на товар более 50%:\", amount[1])\n",
    "print(\"Количество товаров, у которых скидка на товар менее 50%:\", amount[0])"
   ]
  },
  {
   "cell_type": "markdown",
   "id": "b3ac226b",
   "metadata": {},
   "source": [
    "**5. В описании скольких товаров встречается слово \"TV\" (в любом регистре)? Посмотрите именно на уникальные товары.**"
   ]
  },
  {
   "cell_type": "markdown",
   "id": "c0fb8e1e",
   "metadata": {},
   "source": [
    "Для того, чтобы узнать в описании скольких уникальных товаров встречается слово \"TV\" в любом регистре сначала приведем все строки в столбце к нижнему регистру при помощи метода .str.lower(), затем при помощи метода .str.contains() отберем строки, в которых содержится 'tv' и при помощи метода .nunique() подсчитаем количество уникальных элементов в полученном наборе строк."
   ]
  },
  {
   "cell_type": "code",
   "execution_count": 50,
   "id": "ad949e16",
   "metadata": {},
   "outputs": [
    {
     "name": "stdout",
     "output_type": "stream",
     "text": [
      "В описании 2 уникальных товаров встречается слово 'TV'.\n"
     ]
    }
   ],
   "source": [
    "tv_count = data['furniture'].str.lower().str.contains('tv').nunique()\n",
    "print(f\"В описании {tv_count} уникальных товаров встречается слово 'TV'.\")"
   ]
  },
  {
   "cell_type": "markdown",
   "id": "a54a0218",
   "metadata": {},
   "source": [
    " **6. Посмотрите только на те товары, у которых есть рейтинг. Посчитайте средний рейтинг по каждой категории мебели.**"
   ]
  },
  {
   "cell_type": "markdown",
   "id": "4a25a155",
   "metadata": {},
   "source": [
    "Для того, чтобы смотреть только на те товары, у которых есть рейтинг отфильтруем данные только по тем, где значение столбца rate больше, чем 0 и сохраним в переменной rating. Далее сгруппируем данные по столбцу type и вычислим средний рейтинг для каждой категории."
   ]
  },
  {
   "cell_type": "code",
   "execution_count": 59,
   "id": "f1aa001b",
   "metadata": {},
   "outputs": [
    {
     "name": "stdout",
     "output_type": "stream",
     "text": [
      "Средний рейтинг по каждой категории мебели: type\n",
      "Alphabet Shaped Iron Metal Bookends Support Holder Desk Stands For Books Blue                5.000000\n",
      "Anti skid Bookends Shelf Holder Book Nature Wood Stand Square                                4.000000\n",
      "Ariika                                                                                       5.000000\n",
      "Arikaty                                                                                      3.333333\n",
      "Artistico                                                                                    4.552174\n",
      "                                                                                               ...   \n",
      "TheWoodenArt                                                                                 3.000000\n",
      "Universal        cm Pet Dog Cat Couch Seat Sofa Cushion Pad Protector Cover Slipcover CUI    1.000000\n",
      "V      B                                                                                     4.000000\n",
      "Winner Plast Light Portable Table   White                                                    4.700000\n",
      "tb ssd  ssd drive ssd hard drive     inch                                                    3.000000\n",
      "Name: rate, Length: 94, dtype: float64\n"
     ]
    }
   ],
   "source": [
    "rating = data[data['rate'] > 0]\n",
    "mean_rating = rating.groupby('type')['rate'].mean()\n",
    "print(\"Средний рейтинг по каждой категории мебели:\", mean_rating)"
   ]
  },
  {
   "cell_type": "markdown",
   "id": "b44d6ec9",
   "metadata": {},
   "source": [
    "**7. Есть ли взаимосвязь между ценой доставки и ценой товара? Какая она?**"
   ]
  },
  {
   "cell_type": "markdown",
   "id": "5fb9b579",
   "metadata": {},
   "source": [
    "При помощи метода .corr() рассчитаем коэффициент корреляции между двумя интересующими нас столбцами price и delivery. "
   ]
  },
  {
   "cell_type": "code",
   "execution_count": 61,
   "id": "8545fb4a",
   "metadata": {},
   "outputs": [
    {
     "name": "stdout",
     "output_type": "stream",
     "text": [
      "Коэффициент корреляции между ценой доставки и ценой товара: 0.10114922939543863\n"
     ]
    }
   ],
   "source": [
    "corr = data['price'].corr(data['delivery'])\n",
    "print(f\"Коэффициент корреляции между ценой доставки и ценой товара: {corr}\")"
   ]
  },
  {
   "cell_type": "markdown",
   "id": "5302c009",
   "metadata": {},
   "source": [
    "**8. Есть ли выбросы в цене товара? Сколько их? Посчитайте среднее по цене до удаления выбросов и после. Как оно изменилось?**"
   ]
  },
  {
   "cell_type": "markdown",
   "id": "d3b82647",
   "metadata": {},
   "source": [
    "Посчитаем верхний и нижний квантили и верхний и нижний пределы."
   ]
  },
  {
   "cell_type": "code",
   "execution_count": 97,
   "id": "37c12c4a",
   "metadata": {},
   "outputs": [],
   "source": [
    "q3 = data['price'].quantile(0.75)\n",
    "q1 = data['price'].quantile(0.25)\n",
    "d = q3 - q1\n",
    "upper = q3 + 1.5*d\n",
    "lower = q1 - 1.5*d"
   ]
  },
  {
   "cell_type": "markdown",
   "id": "c931a555",
   "metadata": {},
   "source": [
    "Посмотрим на выбросы. Цена товара будет являться выбросом, если она меньше нижнего предела или больше верхнего. \n",
    "Вычислим среднее значение цен на товары до удаления выбросов.\n",
    "Вычислим среднее значение цен на товары после удаления выбросов. Для этого из столбца price выберем элементы, которые не являются выбросами (которые не равны True в логической серии outliers_amount) и найдем их среднее значение."
   ]
  },
  {
   "cell_type": "code",
   "execution_count": 99,
   "id": "66cd4b2e",
   "metadata": {},
   "outputs": [
    {
     "name": "stdout",
     "output_type": "stream",
     "text": [
      "Количество выбросов в цене товара: 83\n",
      "Среднее по цене до удаления выбросов: 2910.4181947985726\n",
      "Среднее по цене после удаления выбросов: 2320.4899254526085\n"
     ]
    }
   ],
   "source": [
    "outliers_amount = (data['price'] < lower) | (data['price'] > upper)\n",
    "mean_before = data['price'].mean()\n",
    "mean_after = data['price'].loc[~outliers_amount].mean()\n",
    "print(f\"Количество выбросов в цене товара: {outliers_amount.sum()}\")\n",
    "print(f\"Среднее по цене до удаления выбросов: {mean_before}\")\n",
    "print(f\"Среднее по цене после удаления выбросов: {mean_after}\")"
   ]
  },
  {
   "cell_type": "markdown",
   "id": "10530adc",
   "metadata": {},
   "source": [
    "**9. Сколько всего раз в данных встречалось слово home (в любом регистре)?**"
   ]
  },
  {
   "cell_type": "markdown",
   "id": "b559c6f0",
   "metadata": {},
   "source": [
    "Для того, чтобы узнать сколько раз в данных встречалось слово home в любом регистре, сначала приведем все строки в столбце furniture к нижнему регистру при помощи метода .str.lower(), затем при помощи метода .str.count() посчитаем сколько раз в каждой строке встречается слово home и при помощи метода .sum() суммируем сколько раз слово home встречалось во всех строках столбца furniture."
   ]
  },
  {
   "cell_type": "code",
   "execution_count": 75,
   "id": "4275f12c",
   "metadata": {},
   "outputs": [
    {
     "name": "stdout",
     "output_type": "stream",
     "text": [
      "В описании товаров слово 'home' встречается 170 раз.\n"
     ]
    }
   ],
   "source": [
    "home_amount = data['furniture'].str.lower().str.count('home').sum()\n",
    "print(f\"В описании товаров слово 'home' встречается {home_amount} раз.\")"
   ]
  },
  {
   "cell_type": "markdown",
   "id": "66a973ab",
   "metadata": {},
   "source": [
    "**10. Какова средняя цена на столы (table)?**"
   ]
  },
  {
   "cell_type": "markdown",
   "id": "c794a8b6",
   "metadata": {},
   "source": [
    "С помощью метода str.contains() в столбце furniture отберем строки, в которых есть слово table. Затем отфильтруем таблицу, чтобы оставить только те строки, которые содержат слово table. Из полученной таблицы выберем столбец price и вычислим среднюю цену на столы при помощи метода .mean()."
   ]
  },
  {
   "cell_type": "code",
   "execution_count": 64,
   "id": "06a04191",
   "metadata": {},
   "outputs": [
    {
     "name": "stdout",
     "output_type": "stream",
     "text": [
      "Средняя цена на столы: 2825.7726771653543\n"
     ]
    }
   ],
   "source": [
    "table_mean_price = data[data['furniture'].str.lower().str.contains('table')]['price'].mean()\n",
    "print(f\"Средняя цена на столы: {table_mean_price}\")"
   ]
  },
  {
   "cell_type": "markdown",
   "id": "81ec039a",
   "metadata": {},
   "source": [
    "**11. Создайте признак для цены товара уже со скидкой на него + доставкой. Сколько в таком случае будет со скидкой и доставкой стоить Home Gallery TV unit made of natural wood, beige?**"
   ]
  },
  {
   "cell_type": "markdown",
   "id": "3e0ac699",
   "metadata": {},
   "source": [
    "Создадим новый признак для цены товара уже со скидкой на него + доставкой. Назовем его \"price + delivery\" и вычислим новые значения.\n",
    "Рассчитаем цену с доставкой для \"Home Gallery TV unit made of natural wood, beige\". При помощи метода .loc выберем нужную нам строку \"Home Gallery TV unit made of natural wood, beige\") и колонку furniture из нашего датафрейма и возьмем значение цены с доставкой."
   ]
  },
  {
   "cell_type": "code",
   "execution_count": 67,
   "id": "caae5972",
   "metadata": {},
   "outputs": [
    {
     "name": "stdout",
     "output_type": "stream",
     "text": [
      "3448.98\n"
     ]
    }
   ],
   "source": [
    "data['price + delivery'] = data['price'] * (100 - data['sale_2']) / 100 + data['delivery']   \n",
    "price = data.loc[(data['furniture'] == 'Home Gallery TV unit made of natural wood, beige'), 'price + delivery'].values[0] \n",
    "print(price)  "
   ]
  },
  {
   "cell_type": "markdown",
   "id": "4463b0f3",
   "metadata": {},
   "source": [
    "**12. Создайте признак для цены товара — низкая, средняя, высокая (границы определите сами). Сгруппируйте данные по категории мебели и цене (новому признаку), посчитайте среднюю цену доставки. Выведите результат в виде таблицы.**"
   ]
  },
  {
   "cell_type": "markdown",
   "id": "36c9591d",
   "metadata": {},
   "source": [
    "Зададим границы интервалов для признака цены товаров и названия этих групп. При помощи функии pd.cut() создадим новый столбец price category, в котором для каждой строки указывается название категории, которой принадлежит значение цены. Сгруппируем строки в нашем датафрейме по двум интересующим нас колонкам: type и price category. Выберем колонку delivery и применим доя нее функцию .mean() для рассчета средней цены доставки."
   ]
  },
  {
   "cell_type": "code",
   "execution_count": 88,
   "id": "b77b7a6c",
   "metadata": {},
   "outputs": [
    {
     "data": {
      "text/html": [
       "<div>\n",
       "<style scoped>\n",
       "    .dataframe tbody tr th:only-of-type {\n",
       "        vertical-align: middle;\n",
       "    }\n",
       "\n",
       "    .dataframe tbody tr th {\n",
       "        vertical-align: top;\n",
       "    }\n",
       "\n",
       "    .dataframe thead th {\n",
       "        text-align: right;\n",
       "    }\n",
       "</style>\n",
       "<table border=\"1\" class=\"dataframe\">\n",
       "  <thead>\n",
       "    <tr style=\"text-align: right;\">\n",
       "      <th></th>\n",
       "      <th></th>\n",
       "      <th>delivery</th>\n",
       "    </tr>\n",
       "    <tr>\n",
       "      <th>type</th>\n",
       "      <th>price category</th>\n",
       "      <th></th>\n",
       "    </tr>\n",
       "  </thead>\n",
       "  <tbody>\n",
       "    <tr>\n",
       "      <th rowspan=\"3\" valign=\"top\">A  Magnetic Whiteboard Sheet For Kitchen Fridge With</th>\n",
       "      <th>low</th>\n",
       "      <td>208.65</td>\n",
       "    </tr>\n",
       "    <tr>\n",
       "      <th>medium</th>\n",
       "      <td>NaN</td>\n",
       "    </tr>\n",
       "    <tr>\n",
       "      <th>high</th>\n",
       "      <td>NaN</td>\n",
       "    </tr>\n",
       "    <tr>\n",
       "      <th rowspan=\"2\" valign=\"top\">Adjustable Angle Foldable Portable Reading Book Stand Document Holder Green</th>\n",
       "      <th>low</th>\n",
       "      <td>132.73</td>\n",
       "    </tr>\n",
       "    <tr>\n",
       "      <th>medium</th>\n",
       "      <td>NaN</td>\n",
       "    </tr>\n",
       "    <tr>\n",
       "      <th>...</th>\n",
       "      <th>...</th>\n",
       "      <td>...</td>\n",
       "    </tr>\n",
       "    <tr>\n",
       "      <th rowspan=\"2\" valign=\"top\">x Mouse Trap Mouse Finger Live Trap Rat Trap</th>\n",
       "      <th>medium</th>\n",
       "      <td>NaN</td>\n",
       "    </tr>\n",
       "    <tr>\n",
       "      <th>high</th>\n",
       "      <td>NaN</td>\n",
       "    </tr>\n",
       "    <tr>\n",
       "      <th rowspan=\"3\" valign=\"top\">x Rubber O Ring Oil Seal Gaskets          mm</th>\n",
       "      <th>low</th>\n",
       "      <td>64.64</td>\n",
       "    </tr>\n",
       "    <tr>\n",
       "      <th>medium</th>\n",
       "      <td>NaN</td>\n",
       "    </tr>\n",
       "    <tr>\n",
       "      <th>high</th>\n",
       "      <td>NaN</td>\n",
       "    </tr>\n",
       "  </tbody>\n",
       "</table>\n",
       "<p>1776 rows × 1 columns</p>\n",
       "</div>"
      ],
      "text/plain": [
       "                                                                   delivery\n",
       "type                                               price category          \n",
       "A  Magnetic Whiteboard Sheet For Kitchen Fridge... low               208.65\n",
       "                                                   medium               NaN\n",
       "                                                   high                 NaN\n",
       "Adjustable Angle Foldable Portable Reading Book... low               132.73\n",
       "                                                   medium               NaN\n",
       "...                                                                     ...\n",
       "x Mouse Trap Mouse Finger Live Trap Rat Trap       medium               NaN\n",
       "                                                   high                 NaN\n",
       "x Rubber O Ring Oil Seal Gaskets          mm       low                64.64\n",
       "                                                   medium               NaN\n",
       "                                                   high                 NaN\n",
       "\n",
       "[1776 rows x 1 columns]"
      ]
     },
     "execution_count": 88,
     "metadata": {},
     "output_type": "execute_result"
    }
   ],
   "source": [
    "borders = [0, 1000, 3000, max(data['price'])] \n",
    "borders_name = ['low', 'medium', 'high'] \n",
    "data['price category'] = pd.cut(data['price'], bins = borders, labels = borders_name)\n",
    "data.groupby(['type', 'price category'])[['delivery']].mean()   "
   ]
  },
  {
   "cell_type": "markdown",
   "id": "b17205a7",
   "metadata": {},
   "source": [
    "**13. У какого товара 1) максимальная скидка, 2) максимальная цена доставки?**"
   ]
  },
  {
   "cell_type": "markdown",
   "id": "8f42ca45",
   "metadata": {},
   "source": [
    "1) Выберем значение в столбце furniture, соответствующее максимальному значению в столбце sale_2. Сначала при помощи метода .loc выберем строки, в которых значение в столбце sale_2 максимально. Затем при помощи метода .values выберем для этих строк значение в столбце furniture."
   ]
  },
  {
   "cell_type": "code",
   "execution_count": 94,
   "id": "960b2ce0",
   "metadata": {},
   "outputs": [
    {
     "name": "stdout",
     "output_type": "stream",
     "text": [
      "Товар с максимальной скидкой: Dumplings Maker Mold  Dumpling Mold Creative Kitchen Gadgets\n"
     ]
    }
   ],
   "source": [
    "max_sale = data.loc[data['sale_2'] == data['sale_2'].max(), 'furniture'].values[0] \n",
    "print('Товар с максимальной скидкой:', max_sale) "
   ]
  },
  {
   "cell_type": "markdown",
   "id": "faa99d1f",
   "metadata": {},
   "source": [
    "2) Аналогично выберем значение в столбце furniture, соответствующее максимальному значению в столбце delivery."
   ]
  },
  {
   "cell_type": "code",
   "execution_count": 90,
   "id": "057038f9",
   "metadata": {},
   "outputs": [
    {
     "name": "stdout",
     "output_type": "stream",
     "text": [
      "Товар с максимальной ценой доставки: Inflatable Sleeping Pad for Camping  Air Mattress\n"
     ]
    }
   ],
   "source": [
    "max_delivery = data.loc[data['delivery'] == data['delivery'].max(), 'furniture'].values[0]  \n",
    "print('Товар с максимальной ценой доставки:', max_delivery) "
   ]
  },
  {
   "cell_type": "markdown",
   "id": "6c838ffa",
   "metadata": {},
   "source": [
    "**14*. Какая категория мебели самая дорогая?**"
   ]
  },
  {
   "cell_type": "markdown",
   "id": "c7cb8809",
   "metadata": {},
   "source": [
    "Сначала сгруппируем данные по столбцу type. Затем возьмем столбец price и с помощью метода .mean() вычислим среднее значение этого столбца для каждой группы. При помощи метода .idxmax() найдем максимальное значение столбца price в новом датафрейме (столбец price и индекс, содержащий уникальные значения из столбца type) и вернем его индекс."
   ]
  },
  {
   "cell_type": "code",
   "execution_count": 95,
   "id": "79d12444",
   "metadata": {},
   "outputs": [
    {
     "name": "stdout",
     "output_type": "stream",
     "text": [
      "Самая дорогая категория мебели: Art House            L shape\n"
     ]
    }
   ],
   "source": [
    "max_category = data.groupby(['type'])[['price']].mean().idxmax()[0] \n",
    "print('Самая дорогая категория мебели:', max_category)  "
   ]
  },
  {
   "cell_type": "markdown",
   "id": "287e698f",
   "metadata": {},
   "source": [
    "**15*. На какую категорию мебели больше всего скидок?**"
   ]
  },
  {
   "cell_type": "markdown",
   "id": "683fb9eb",
   "metadata": {},
   "source": [
    "Сначала сгруппируем данные по столбцу type и выбирем столбец sale_2. Затем при помощи метода .mean() посчитаем среднее значение для каждой уникальной категории (type) по  столбцу sale_2. В результате получим новый датафрейм discounts, который содержит столбец sale_2 со средними значениями для каждой категории type.\n",
    "\n",
    "Далее в полученном датафрейме найдем индекс элемента, имеющего максимальное значение в столбце \"sale_2\"."
   ]
  },
  {
   "cell_type": "code",
   "execution_count": 96,
   "id": "8d972969",
   "metadata": {},
   "outputs": [
    {
     "name": "stdout",
     "output_type": "stream",
     "text": [
      "Категория мебели с наибольшей скидкой: Dumplings Maker Mold  Dumpling Mold Creative Kitchen Gadgets\n"
     ]
    }
   ],
   "source": [
    "discounts = data.groupby(['type'])[['sale_2']].mean() \n",
    "max_discounts_category = discounts.idxmax()[0] \n",
    "print('Категория мебели с наибольшей скидкой:', max_discounts_category)"
   ]
  }
 ],
 "metadata": {
  "kernelspec": {
   "display_name": "Python 3 (ipykernel)",
   "language": "python",
   "name": "python3"
  },
  "language_info": {
   "codemirror_mode": {
    "name": "ipython",
    "version": 3
   },
   "file_extension": ".py",
   "mimetype": "text/x-python",
   "name": "python",
   "nbconvert_exporter": "python",
   "pygments_lexer": "ipython3",
   "version": "3.10.9"
  }
 },
 "nbformat": 4,
 "nbformat_minor": 5
}
